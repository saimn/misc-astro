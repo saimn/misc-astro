{
 "cells": [
  {
   "cell_type": "code",
   "execution_count": null,
   "metadata": {},
   "outputs": [],
   "source": [
    "%load_ext autoreload\n",
    "%autoreload 2"
   ]
  },
  {
   "cell_type": "code",
   "execution_count": null,
   "metadata": {},
   "outputs": [],
   "source": [
    "import numpy as np\n",
    "from ipywidgets import interact\n",
    "\n",
    "import bokeh\n",
    "from bokeh.palettes import viridis, Category10\n",
    "from bokeh.plotting import figure, output_file, show, output_notebook, save, ColumnDataSource\n",
    "from bokeh.models import GlyphRenderer, LinearColorMapper, LinearAxis, Range1d, Span, Label, LabelSet, Legend\n",
    "from bokeh.io import push_notebook, export_png, reset_output, export_svgs, curdoc\n",
    "from bokeh.layouts import gridplot, layout, row, column\n",
    "from bokeh.themes import built_in_themes\n",
    "\n",
    "#from numba import jit, njit\n",
    "\n",
    "bokeh.__version__"
   ]
  },
  {
   "cell_type": "code",
   "execution_count": null,
   "metadata": {},
   "outputs": [],
   "source": [
    "from mpdaf.obj.bokeh import *"
   ]
  },
  {
   "cell_type": "code",
   "execution_count": null,
   "metadata": {},
   "outputs": [],
   "source": [
    "output_notebook()"
   ]
  },
  {
   "cell_type": "code",
   "execution_count": null,
   "metadata": {},
   "outputs": [],
   "source": [
    "%mpdaf"
   ]
  },
  {
   "cell_type": "code",
   "execution_count": null,
   "metadata": {},
   "outputs": [],
   "source": [
    "#s = Source.from_file('/home/simon/data/UDF/udf_origin_00223.fits')\n",
    "#s = Source.from_file('/home/simon/data/UDF/udf10_c031_e021/udf_udf10_00002.fits')\n",
    "s = Source.from_file('/home/simon/data/UDF/udf_udf10_00002.fits')\n",
    "#s = Source.from_file('/muse/UDF/private/analysis/UDF-10/udf10_sources/udf_udf10_00002.fits')"
   ]
  },
  {
   "cell_type": "code",
   "execution_count": null,
   "metadata": {},
   "outputs": [],
   "source": [
    "from astropy.visualization import ZScaleInterval, PercentileInterval, MinMaxInterval\n",
    "from bokeh.models import LogColorMapper, LogTicker, ColorBar, LinearColorMapper\n",
    "\n",
    "def plot_image(im, size=(350, 350), title=None, colorbar=True, palette=\"Viridis256\", scale='minmax', \n",
    "               axis=True, x_range=None, y_range=None, center=None, catalog=None):\n",
    "    if scale == 'zscale':\n",
    "        interval = ZScaleInterval()\n",
    "    elif scale == 'percentile':\n",
    "        interval = PercentileInterval(99)\n",
    "    elif scale == 'minmax':\n",
    "        interval = MinMaxInterval()\n",
    "\n",
    "    vmin, vmax = interval.get_limits(im.data)\n",
    "    color_mapper = LinearColorMapper(palette=palette, low=vmin, high=vmax)\n",
    "    if x_range is None:\n",
    "        x_range = (0, im.shape[0])\n",
    "    if y_range is None:\n",
    "        y_range = (0, im.shape[1])\n",
    "\n",
    "    if catalog:\n",
    "        tooltips = [\n",
    "            (\"ID\", \"@ID\"),\n",
    "            #(\"(x,y)\", \"($x, $y)\"),\n",
    "            (\"pos\", \"(@RA, @DEC)\"),\n",
    "            (\"mag F775W\", \"@MAG_F775W\"),\n",
    "        ]\n",
    "    else:\n",
    "        tooltips = None\n",
    "\n",
    "    p = figure(plot_width=size[0], plot_height=size[1], tooltips=tooltips,\n",
    "               x_range=x_range, y_range=y_range, title=title)\n",
    "    p.image(image=[im.data.filled()], x=[0], y=[0], dw=[im.shape[0]], dh=[im.shape[1]], \n",
    "            color_mapper=color_mapper)\n",
    "    p.grid.visible = False\n",
    "    p.axis.visible = axis\n",
    "\n",
    "    if center:\n",
    "        y, x = im.wcs.sky2pix(center)[0]\n",
    "        span = Span(location=x, dimension='height', line_color='white', line_width=1, line_alpha=0.5)\n",
    "        p.add_layout(span)\n",
    "        span = Span(location=y, dimension='width', line_color='white', line_width=1, line_alpha=0.5)\n",
    "        p.add_layout(span)\n",
    "        p.circle(x, y, size=10, line_color='red', line_width=2, line_alpha=0.6, fill_color=None)\n",
    "\n",
    "    if catalog:\n",
    "        #cat = catalog.copy(copy_data=True)\n",
    "        #skypos = np.array([cat['DEC'], cat['RA']]).T\n",
    "        #cat['y'], cat['x'] = im.wcs.sky2pix(skypos).T\n",
    "        \n",
    "        p.circle('x', 'y', source=catalog, size=5, line_color='white', line_width=1, line_alpha=0.6, fill_color=None)\n",
    "        label = LabelSet(x='x', y='y', source=catalog, x_offset=2, y_offset=2, text='ID', text_font_size='10px', text_color='white')\n",
    "        p.add_layout(label)\n",
    "\n",
    "        #for row in cat:\n",
    "        #    p.circle(row['x'], row['y'], size=5, line_color='white', line_width=1, line_alpha=0.6, fill_color=None)\n",
    "        #    label = Label(x=row['x'], y=row['y'], x_offset=2, y_offset=2, text=str(row['ID']), text_font_size='10px', text_color='white')\n",
    "        #    p.add_layout(label)\n",
    "\n",
    "    if colorbar:\n",
    "        color_bar = ColorBar(color_mapper=color_mapper, #ticker=LogTicker(),\n",
    "                             label_standoff=12, border_line_color=None, location=(0,0))\n",
    "        p.add_layout(color_bar, 'right')\n",
    "\n",
    "    return p"
   ]
  },
  {
   "cell_type": "code",
   "execution_count": null,
   "metadata": {},
   "outputs": [],
   "source": [
    "def images(s, size=(350, 350)):\n",
    "    images = {\n",
    "        'MUSE_WHITE': {'scale': 'zscale'},\n",
    "        'MUSE_EXPMAP': {'scale': 'minmax', 'palette': 'Greys256', 'link': 'MUSE_WHITE'},\n",
    "        'MASK_OBJ': {'scale': 'minmax', 'palette': 'Greys256', 'link': 'MUSE_WHITE'}, \n",
    "        'HST_F606W': {'scale': 'percentile'}, \n",
    "        'HST_F775W': {'scale': 'percentile', 'link': 'HST_F606W'}\n",
    "    }\n",
    "    ranges = {}\n",
    "    \n",
    "    cat = s.tables['HST_CAT'].copy(copy_data=True)\n",
    "    skypos = np.array([cat['DEC'], cat['RA']]).T\n",
    "    #cat['y_muse'], cat['x_muse'] = s.images['MUSE_WHITE'].wcs.sky2pix(skypos).T\n",
    "    #cat['y_hst'], cat['x_hst'] = s.images['HST_F606W'].wcs.sky2pix(skypos).T\n",
    "    data = ColumnDataSource(cat.to_pandas())\n",
    "\n",
    "    for name, params in images.items():\n",
    "        im = s.images[name]\n",
    "        kw = dict(size=size, title=name, colorbar=False, axis=False,\n",
    "                  scale=params['scale'], palette=params.get('palette', 'Viridis256'))\n",
    "        if params.get('link') is not None:\n",
    "            kw['x_range'] = ranges[params['link']].x_range\n",
    "            kw['y_range'] = ranges[params['link']].y_range\n",
    "\n",
    "        cat['y'], cat['x'] = im.wcs.sky2pix(skypos).T\n",
    "        data = ColumnDataSource(cat.to_pandas())\n",
    "\n",
    "        if name.startswith(('HST_', 'MUSE_WHITE')):\n",
    "            s2 = plot_image(im, center=(s.DEC, s.RA), catalog=data, **kw)\n",
    "        else:\n",
    "            s2 = plot_image(im, center=(s.DEC, s.RA), **kw)\n",
    "\n",
    "        ranges[name] = s2\n",
    "\n",
    "    return list(ranges.values())"
   ]
  },
  {
   "cell_type": "code",
   "execution_count": null,
   "metadata": {},
   "outputs": [],
   "source": [
    "#show(row(images(s, size=(250, 250))))"
   ]
  },
  {
   "cell_type": "code",
   "execution_count": null,
   "metadata": {},
   "outputs": [],
   "source": [
    "def spectrum(s, size=(800, 350), axis_labels=True, lbrange=None, show_legend=True,\n",
    "             snames=['MUSE_TOT_SKYSUB', 'MUSE_PSF_SKYSUB', 'MUSE_WHITE_SKYSUB']):\n",
    "    \n",
    "    s1 = figure(plot_width=size[0], plot_height=size[1])\n",
    "    palette = Category10[8]\n",
    "\n",
    "    # plot lines\n",
    "    z = s.z[s.z['Z_DESC'] == 'MUSE'][0]['Z']\n",
    "    sp = s.spectra[snames[0]]\n",
    "    #lines = get_emlines(z=z, lbrange=sp.wave.get_range(), table=True)\n",
    "    for line in s.lines:\n",
    "        span = Span(location=line['LBDA_OBS'], dimension='height', line_color='black', line_width=1, line_alpha=0.6, line_dash='dashed')\n",
    "        s1.add_layout(span)\n",
    "        label = Label(x=line['LBDA_OBS'], y=size[1]-120, y_units='screen', angle=90, angle_units='deg', text=line['LINE'], text_font_size='10px')\n",
    "        s1.add_layout(label)\n",
    "\n",
    "    legend_items = []\n",
    "    smin, smax = np.inf, -np.inf\n",
    "    for i, sname in enumerate(snames):\n",
    "        sp = s.spectra[sname]\n",
    "        smin = min(smin, sp.data.min())\n",
    "        smax = max(smax, sp.data.max())\n",
    "        if lbrange:\n",
    "            sp = sp.subspec(lbrange[0], lbrange[1])\n",
    "        line = s1.line(sp.wave.coord(), sp.data, #legend=sname.lstrip('MUSE_'), \n",
    "                       color=palette[i])\n",
    "        legend_items.append((sname.lstrip('MUSE_'), [line]))\n",
    "        if i > 0:\n",
    "            line.visible = False\n",
    "\n",
    "    s1.extra_y_ranges = {\"var\": Range1d(start=0, end=sp.var.max())}\n",
    "    s1.y_range = Range1d(smin - 20, smax + 20)\n",
    "    s1.line(sp.wave.coord(), sp.var, line_color='gray', line_alpha=0.6, y_range_name=\"var\")\n",
    "    #s1.add_layout(LinearAxis(y_range_name=\"var\"), 'left')\n",
    "\n",
    "    legend = Legend(items=legend_items, location=(0, 0))\n",
    "\n",
    "    s1.add_layout(legend, 'above')\n",
    "\n",
    "    s1.legend.location = \"top_left\"\n",
    "    s1.legend.visible = show_legend\n",
    "    s1.legend.label_text_font_size = '12px'\n",
    "    s1.legend.padding = 0\n",
    "    s1.legend.background_fill_alpha = 0.5\n",
    "    s1.legend.orientation = \"horizontal\"\n",
    "    \n",
    "    s1.yaxis.major_label_orientation = \"vertical\"\n",
    "    if axis_labels:\n",
    "        s1.xaxis.axis_label = f'Wavelength ({sp.wave.unit})'\n",
    "        s1.yaxis.axis_label = f'Flux ({sp.unit})'\n",
    "    \n",
    "    s1.legend.click_policy = \"hide\"\n",
    "\n",
    "    return s1"
   ]
  },
  {
   "cell_type": "code",
   "execution_count": null,
   "metadata": {},
   "outputs": [],
   "source": [
    "#show(spectrum(s, size=(750, 400), axis_labels=False))"
   ]
  },
  {
   "cell_type": "code",
   "execution_count": null,
   "metadata": {},
   "outputs": [],
   "source": [
    "from bokeh.models.widgets import Div\n",
    "\n",
    "def legend(s, size=(800, 200)):\n",
    "    z = s.z[s.z['Z_DESC'] == 'MUSE'][0]['Z']\n",
    "    div = Div(text=f\"\"\"<h4>Source #{s.ID}, ({s.RA:.6f}, {s.DEC:.6f}), z={z:.3f}</h4>\"\"\", width=size[0], height=size[1])\n",
    "    return [div]"
   ]
  },
  {
   "cell_type": "code",
   "execution_count": null,
   "metadata": {},
   "outputs": [],
   "source": [
    "from mpdaf.sdetect import get_emlines\n",
    "\n",
    "def plot_lines(s, size=(250,250)):\n",
    "    #z = s.z[s.z['Z_DESC'] == 'MUSE'][0]['Z']\n",
    "    #lines = get_emlines(z=z, lbrange=sp.wave.get_range(), sel=1, table=True, ltype='em')\n",
    "    #lines.add_index('LINE')\n",
    "    palette = Category10[8]\n",
    "    \n",
    "    sp = s.spectra['MUSE_TOT_SKYSUB']\n",
    "    s.lines.sort('FLUX_REF')\n",
    "    lines = s.lines[-2:]\n",
    "\n",
    "    figures = []\n",
    "    for line in lines:\n",
    "        #lbda = lines.loc[line]['LBDA_OBS']\n",
    "        s1 = figure(plot_width=size[0], plot_height=size[1], title=line['LINE'])\n",
    "        lbda = line['LBDA_OBS']\n",
    "        subsp = sp.subspec(lbda-25, lbda+25)\n",
    "        line = s1.line(subsp.wave.coord(), subsp.data, color=palette[0])\n",
    "        figures.append(s1)\n",
    "        \n",
    "    return figures"
   ]
  },
  {
   "cell_type": "code",
   "execution_count": null,
   "metadata": {},
   "outputs": [],
   "source": [
    "#output_file('output.html')\n",
    "\n",
    "#curdoc().theme = 'dark_minimal'\n",
    "\n",
    "images = {\n",
    "    'MUSE_WHITE': {'scale': 'zscale'},\n",
    "    'MUSE_EXPMAP': {'scale': 'minmax', 'palette': 'Greys256', 'link': 'MUSE_WHITE'},\n",
    "    'MASK_OBJ': {'scale': 'minmax', 'palette': 'Greys256', 'link': 'MUSE_WHITE'}, \n",
    "    'HST_F606W': {'scale': 'percentile'}, \n",
    "    'HST_F775W': {'scale': 'percentile', 'link': 'HST_F606W'}\n",
    "}\n",
    "\n",
    "if True:\n",
    "    l = gridplot([\n",
    "        legend(s, size=(1250, 20)),\n",
    "        plot_src_images(s, params=images, size=(250,250)), \n",
    "        [plot_spectrum(s, size=(750, 300), axis_labels=False)] + plot_spectrum_lines(s, size=(250,300), nlines=2)\n",
    "    ], sizing_mode='fixed')\n",
    "else:\n",
    "    l = layout([\n",
    "        legend(s, size=(1250, 20)),\n",
    "        images(s, size=(250,250)), \n",
    "        [spectrum(s, size=(750, 300), axis_labels=False)] + plot_lines(s, size=(250,300))\n",
    "    ], sizing_mode='stretch_both')\n",
    "\n",
    "show(l)\n",
    "#plot = show(p, notebook_handle=True)"
   ]
  },
  {
   "cell_type": "code",
   "execution_count": null,
   "metadata": {},
   "outputs": [],
   "source": [
    "p.plot_height"
   ]
  },
  {
   "cell_type": "code",
   "execution_count": null,
   "metadata": {},
   "outputs": [],
   "source": [
    "p = plot_image(s.images['MUSE_WHITE'], colorbar=False, size=(200, 200), axis=False)\n",
    "p2 = plot_image(s.images['HST_F606W'], colorbar=False, size=(200, 200), axis=False)\n",
    "show(gridplot([[p, p2]]))"
   ]
  },
  {
   "cell_type": "code",
   "execution_count": null,
   "metadata": {},
   "outputs": [],
   "source": [
    "show(gridplot([        \n",
    "    images(s, size=(200,200)), \n",
    "]))"
   ]
  },
  {
   "cell_type": "code",
   "execution_count": null,
   "metadata": {},
   "outputs": [],
   "source": [
    "show(column(        \n",
    "    row(images(s, size=(200,200))), \n",
    "    row(spectrum(s, size=(750, 250)), *plot_lines(s))\n",
    "))"
   ]
  },
  {
   "cell_type": "code",
   "execution_count": null,
   "metadata": {},
   "outputs": [],
   "source": [
    "# create an array of RGBA data\n",
    "N = 20\n",
    "img = np.empty((N, N), dtype=np.uint32)\n",
    "view = img.view(dtype=np.uint8).reshape((N, N, 4))\n",
    "for i in range(N):\n",
    "    for j in range(N):\n",
    "        view[i, j, 0] = int(255 * i / N)\n",
    "        view[i, j, 1] = 158\n",
    "        view[i, j, 2] = int(255 * j / N)\n",
    "        view[i, j, 3] = 255"
   ]
  },
  {
   "cell_type": "code",
   "execution_count": null,
   "metadata": {},
   "outputs": [],
   "source": [
    "#img = s.images['MUSE_WHITE'].data.filled()"
   ]
  },
  {
   "cell_type": "code",
   "execution_count": null,
   "metadata": {},
   "outputs": [],
   "source": [
    "#output_file(\"grid.html\", )\n",
    "\n",
    "p = figure(plot_width=200, plot_height=200, x_range=(0, 10), y_range=(0, 10))\n",
    "p.image_rgba(image=[img], x=[0], y=[0], dw=[10], dh=[10])\n",
    "\n",
    "p2 = figure(plot_width=200, plot_height=200, x_range=(0, 10), y_range=(0, 10))\n",
    "p2.image_rgba(image=[img], x=[0], y=[0], dw=[10], dh=[10])\n",
    "\n",
    "p3 = figure(plot_width=400, plot_height=200)\n",
    "r = p3.line(np.array([1, 2, 3, 4, 5]), np.array([6, 7, 2, 4, 5])*10000, line_width=2)\n",
    "p3.xaxis.axis_label = f'Wavelength'\n",
    "p3.yaxis.axis_label = f'Flux'\n",
    "\n",
    "l = gridplot([\n",
    "    [p, p2],\n",
    "    [p3]\n",
    "], sizing_mode='fixed')\n",
    "\n",
    "p.xaxis.axis_label = 'foo'\n",
    "\n",
    "#p3.axis.major_tick_in = 10\n",
    "#p3.axis.major_tick_out = 0\n",
    "#p3.axis.minor_tick_in = 5\n",
    "#p3.axis.minor_tick_out = 0\n",
    "#p3.axis.axis_label_standoff = 50\n",
    "#p3.yaxis.major_label_orientation = \"vertical\"\n",
    "\n",
    "#p3.xaxis.major_label_standoff = -25\n",
    "#p3.yaxis.major_label_standoff = -45\n",
    "\n",
    "#show(l)\n",
    "t = show(l, notebook_handle=True)"
   ]
  },
  {
   "cell_type": "code",
   "execution_count": null,
   "metadata": {},
   "outputs": [],
   "source": [
    "#push_notebook(handle=t)"
   ]
  },
  {
   "cell_type": "code",
   "execution_count": null,
   "metadata": {},
   "outputs": [],
   "source": [
    "from ipywidgets import interact"
   ]
  },
  {
   "cell_type": "code",
   "execution_count": null,
   "metadata": {},
   "outputs": [],
   "source": [
    "def update(f, w=1, A=1, phi=0):\n",
    "    if   f == \"sin\": func = np.sin\n",
    "    elif f == \"cos\": func = np.cos\n",
    "    r.data_source.data['y'] = A * func(w * r.data_source.data['x'] + phi)\n",
    "    push_notebook(handle=t)"
   ]
  },
  {
   "cell_type": "code",
   "execution_count": null,
   "metadata": {},
   "outputs": [],
   "source": [
    "interact(update, f=[\"sin\", \"cos\"], w=(0,50), A=(1,10), phi=(0, 20, 0.1))"
   ]
  },
  {
   "cell_type": "code",
   "execution_count": null,
   "metadata": {},
   "outputs": [],
   "source": [
    "r.data_source.data"
   ]
  },
  {
   "cell_type": "code",
   "execution_count": null,
   "metadata": {},
   "outputs": [],
   "source": []
  }
 ],
 "metadata": {
  "kernelspec": {
   "display_name": "Python 3",
   "language": "python",
   "name": "python3"
  },
  "language_info": {
   "codemirror_mode": {
    "name": "ipython",
    "version": 3
   },
   "file_extension": ".py",
   "mimetype": "text/x-python",
   "name": "python",
   "nbconvert_exporter": "python",
   "pygments_lexer": "ipython3",
   "version": "3.7.0"
  }
 },
 "nbformat": 4,
 "nbformat_minor": 2
}
