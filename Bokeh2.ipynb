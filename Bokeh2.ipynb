{
 "cells": [
  {
   "cell_type": "code",
   "execution_count": null,
   "metadata": {},
   "outputs": [],
   "source": [
    "import numpy as np\n",
    "from astropy.visualization import ZScaleInterval, PercentileInterval\n",
    "from ipywidgets import interact\n",
    "\n",
    "import bokeh\n",
    "from bokeh.palettes import viridis, Category10\n",
    "from bokeh.plotting import figure, output_file, show, output_notebook, save\n",
    "from bokeh.models import GlyphRenderer, LinearColorMapper\n",
    "from bokeh.models import LinearAxis, Range1d\n",
    "from bokeh.io import push_notebook\n",
    "from bokeh.layouts import gridplot, layout, row, column\n",
    "\n",
    "#from numba import jit, njit\n",
    "\n",
    "bokeh.__version__"
   ]
  },
  {
   "cell_type": "code",
   "execution_count": null,
   "metadata": {},
   "outputs": [],
   "source": [
    "output_notebook()"
   ]
  },
  {
   "cell_type": "code",
   "execution_count": null,
   "metadata": {},
   "outputs": [],
   "source": [
    "%mpdaf"
   ]
  },
  {
   "cell_type": "code",
   "execution_count": null,
   "metadata": {},
   "outputs": [],
   "source": [
    "from astropy.visualization import ZScaleInterval, PercentileInterval, MinMaxInterval\n",
    "from bokeh.models import LogColorMapper, LogTicker, ColorBar, LinearColorMapper\n",
    "\n",
    "def plot_image(im, size=(350, 350), title=None, colorbar=True, palette=\"Viridis256\", scale='minmax', axis=True, x_range=None, y_range=None):\n",
    "    if scale == 'zscale':\n",
    "        interval = ZScaleInterval()\n",
    "    elif scale == 'percentile':\n",
    "        interval = PercentileInterval(99)\n",
    "    elif scale == 'minmax':\n",
    "        interval = MinMaxInterval()\n",
    "\n",
    "    vmin, vmax = interval.get_limits(im.data)\n",
    "    color_mapper = LinearColorMapper(palette=palette, low=vmin, high=vmax)\n",
    "    if x_range is None:\n",
    "        x_range = (0, im.shape[0])\n",
    "    if y_range is None:\n",
    "        y_range = (0, im.shape[1])\n",
    "\n",
    "    p = figure(plot_width=size[0], plot_height=size[1], \n",
    "               x_range=x_range, y_range=y_range, title=title)\n",
    "    p.image(image=[im.data.filled()], x=[0], y=[0], dw=[im.shape[0]], dh=[im.shape[1]], \n",
    "            color_mapper=color_mapper)\n",
    "    p.grid.visible = False\n",
    "    p.axis.visible = axis\n",
    "\n",
    "    if colorbar:\n",
    "        color_bar = ColorBar(color_mapper=color_mapper, #ticker=LogTicker(),\n",
    "                             label_standoff=12, border_line_color=None, location=(0,0))\n",
    "        p.add_layout(color_bar, 'right')\n",
    "\n",
    "    return p"
   ]
  },
  {
   "cell_type": "code",
   "execution_count": null,
   "metadata": {},
   "outputs": [],
   "source": [
    "def images(s, size=(350, 350)):\n",
    "    images = {\n",
    "        'MUSE_WHITE': {'scale': 'zscale'},\n",
    "        'MUSE_EXPMAP': {'scale': 'minmax', 'palette': 'Greys256', 'link': 'MUSE_WHITE'},\n",
    "        'MASK_OBJ': {'scale': 'minmax', 'palette': 'Greys256', 'link': 'MUSE_WHITE'}, \n",
    "        'HST_F606W': {'scale': 'percentile'}, \n",
    "        'HST_F775W': {'scale': 'percentile', 'link': 'HST_F606W'}\n",
    "    }\n",
    "    for name, params in images.items():\n",
    "        im = s.images[name]\n",
    "        kw = dict(size=size, title=name, colorbar=False, axis=False,\n",
    "                  scale=params['scale'], palette=params.get('palette', 'Viridis256'))\n",
    "        if params.get('link') is not None:\n",
    "            kw['x_range'] = images[params['link']]['plot'].x_range\n",
    "            kw['y_range'] = images[params['link']]['plot'].y_range\n",
    "            \n",
    "        s2 = plot_image(im, **kw)\n",
    "\n",
    "        if name == 'MUSE_WHITE':\n",
    "            y, x = im.wcs.sky2pix((s.DEC, s.RA))[0]\n",
    "            s2.circle(y, x, size=4, color='red', alpha=1)\n",
    "        \n",
    "        params['plot'] = s2\n",
    "\n",
    "    return [im['plot'] for im in images.values()]"
   ]
  },
  {
   "cell_type": "code",
   "execution_count": null,
   "metadata": {},
   "outputs": [],
   "source": [
    "def spectrum(s, size=(800, 350), axis_labels=True, lbrange=None, legend=True):\n",
    "    s1 = figure(plot_width=size[0], plot_height=size[1])\n",
    "                #title=f\"Origin source #{s.ID}\")\n",
    "\n",
    "    snames = ['MUSE_TOT_SKYSUB', 'MUSE_PSF_SKYSUB', 'MUSE_WHITE_SKYSUB']\n",
    "    palette = Category10[8]\n",
    "\n",
    "    smin, smax = np.inf, -np.inf\n",
    "    for i, sname in enumerate(snames):\n",
    "        sp = s.spectra[sname]\n",
    "        smin = min(smin, sp.data.min())\n",
    "        smax = max(smax, sp.data.max())\n",
    "        if lbrange:\n",
    "            sp = sp.subspec(lbrange[0], lbrange[1])\n",
    "        line = s1.line(sp.wave.coord(), sp.data, legend=sname.lstrip('MUSE_'), color=palette[i])\n",
    "        if i > 0:\n",
    "            line.visible = False\n",
    "\n",
    "    s1.extra_y_ranges = {\"var\": Range1d(start=0, end=sp.var.max())}\n",
    "    s1.y_range = Range1d(smin - 20, smax + 20)\n",
    "    s1.line(sp.wave.coord(), sp.var, line_color='gray', line_alpha=0.6, y_range_name=\"var\")\n",
    "    #s1.add_layout(LinearAxis(y_range_name=\"var\"), 'left')\n",
    "\n",
    "    s1.legend.location = \"top_left\"\n",
    "    s1.legend.visible = legend\n",
    "    if axis_labels:\n",
    "        s1.xaxis.axis_label = f'Wavelength ({sp.wave.unit})'\n",
    "        s1.yaxis.axis_label = f'Flux ({sp.unit})'\n",
    "    \n",
    "    s1.legend.click_policy = \"hide\"\n",
    "    \n",
    "    return s1"
   ]
  },
  {
   "cell_type": "code",
   "execution_count": null,
   "metadata": {},
   "outputs": [],
   "source": [
    "from bokeh.models.widgets import Div\n",
    "\n",
    "def legend(s, size=(800, 200)):\n",
    "    z = s.z[s.z['Z_DESC'] == 'MUSE'][0]['Z']\n",
    "    div = Div(text=f\"\"\"<h4>Source #{s.ID}, ({s.RA:.6f}, {s.DEC:.6f}), z={z:.3f}</h4>\"\"\", width=size[0], height=size[1])\n",
    "    return [div]"
   ]
  },
  {
   "cell_type": "code",
   "execution_count": null,
   "metadata": {},
   "outputs": [],
   "source": [
    "from mpdaf.sdetect import get_emlines\n",
    "\n",
    "def plot_lines(s, size=(250,250)):\n",
    "    #z = s.z[s.z['Z_DESC'] == 'MUSE'][0]['Z']\n",
    "    #lines = get_emlines(z=z, lbrange=sp.wave.get_range(), sel=1, table=True, ltype='em')\n",
    "    #lines.add_index('LINE')\n",
    "    palette = Category10[8]\n",
    "    \n",
    "    sp = s.spectra['MUSE_TOT_SKYSUB']\n",
    "    s.lines.sort('FLUX_REF')\n",
    "    lines = s.lines[-2:]\n",
    "\n",
    "    figures = []\n",
    "    for line in lines:\n",
    "        #lbda = lines.loc[line]['LBDA_OBS']\n",
    "        s1 = figure(plot_width=size[0], plot_height=size[1], title=line['LINE'])\n",
    "        lbda = line['LBDA_OBS']\n",
    "        subsp = sp.subspec(lbda-25, lbda+25)\n",
    "        line = s1.line(subsp.wave.coord(), subsp.data, color=palette[0])\n",
    "        figures.append(s1)\n",
    "        \n",
    "    return figures"
   ]
  },
  {
   "cell_type": "code",
   "execution_count": null,
   "metadata": {},
   "outputs": [],
   "source": [
    "#s = Source.from_file('/home/simon/data/UDF/udf_origin_00223.fits')\n",
    "#s = Source.from_file('/home/simon/data/UDF/udf10_c031_e021/udf_udf10_00002.fits')\n",
    "s = Source.from_file('/home/simon/data/UDF/udf_udf10_00002.fits')"
   ]
  },
  {
   "cell_type": "code",
   "execution_count": null,
   "metadata": {},
   "outputs": [],
   "source": [
    "#output_file('output.html')\n",
    "\n",
    "if True:\n",
    "    l = gridplot([\n",
    "        legend(s, size=(1250, 20)),\n",
    "        images(s, size=(250,250)), \n",
    "        [spectrum(s, size=(750, 250), axis_labels=False)] + plot_lines(s)\n",
    "    ], sizing_mode='fixed')\n",
    "else:\n",
    "    l = layout([\n",
    "        legend(s, size=(1250, 20)),\n",
    "        images(s, size=(250,250)), \n",
    "        [spectrum(s, size=(750, 250), axis_labels=False)] + plot_lines(s)\n",
    "    ], sizing_mode='stretch_both')\n",
    "\n",
    "show(l)\n",
    "#plot = show(p, notebook_handle=True)"
   ]
  },
  {
   "cell_type": "code",
   "execution_count": null,
   "metadata": {},
   "outputs": [],
   "source": [
    "p = plot_image(s.images['MUSE_WHITE'], colorbar=False, size=(200, 200), axis=False)\n",
    "p2 = plot_image(s.images['HST_F606W'], colorbar=False, size=(200, 200), axis=False)\n",
    "show(gridplot([[p, p2]]))"
   ]
  },
  {
   "cell_type": "code",
   "execution_count": null,
   "metadata": {},
   "outputs": [],
   "source": [
    "show(gridplot([        \n",
    "    images(s, size=(200,200)), \n",
    "]))"
   ]
  },
  {
   "cell_type": "code",
   "execution_count": null,
   "metadata": {},
   "outputs": [],
   "source": [
    "show(column(        \n",
    "    row(images(s, size=(200,200))), \n",
    "    row(spectrum(s, size=(750, 250)), *plot_lines(s))\n",
    "))"
   ]
  },
  {
   "cell_type": "code",
   "execution_count": null,
   "metadata": {},
   "outputs": [],
   "source": []
  }
 ],
 "metadata": {
  "kernelspec": {
   "display_name": "Python 3",
   "language": "python",
   "name": "python3"
  },
  "language_info": {
   "codemirror_mode": {
    "name": "ipython",
    "version": 3
   },
   "file_extension": ".py",
   "mimetype": "text/x-python",
   "name": "python",
   "nbconvert_exporter": "python",
   "pygments_lexer": "ipython3",
   "version": "3.7.0"
  }
 },
 "nbformat": 4,
 "nbformat_minor": 2
}
