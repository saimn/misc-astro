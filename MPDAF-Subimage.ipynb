{
 "cells": [
  {
   "cell_type": "code",
   "execution_count": 1,
   "metadata": {},
   "outputs": [],
   "source": [
    "%matplotlib inline\n",
    "\n",
    "import astropy.units as u\n",
    "import matplotlib.pyplot as plt\n",
    "import numpy as np\n",
    "\n",
    "from astropy.io import fits\n",
    "from mpdaf.obj import Cube, Image"
   ]
  },
  {
   "cell_type": "code",
   "execution_count": 2,
   "metadata": {},
   "outputs": [
    {
     "name": "stdout",
     "output_type": "stream",
     "text": [
      "/home/simon/dev/mpdaf\n"
     ]
    }
   ],
   "source": [
    "cd ~/dev/mpdaf/"
   ]
  },
  {
   "cell_type": "code",
   "execution_count": 3,
   "metadata": {
    "scrolled": true
   },
   "outputs": [
    {
     "name": "stderr",
     "output_type": "stream",
     "text": [
      "WARNING: UnitsWarning: '1e-20 erg/s/cm  2/Angstrom' contains multiple slashes, which is discouraged by the FITS standard [astropy.units.format.generic]\n",
      "WARNING: MpdafUnitsWarning: Error parsing the BUNIT: 'COUNTS/S' did not parse as unit: At col 0, COUNTS is not a valid unit. Did you mean count? [mpdaf.obj.data]\n"
     ]
    }
   ],
   "source": [
    "c = Cube('data/sdetect/minicube.fits')\n",
    "im = Image('../a478hst.fits')"
   ]
  },
  {
   "cell_type": "code",
   "execution_count": 4,
   "metadata": {},
   "outputs": [
    {
     "data": {
      "text/plain": [
       "array([ 10.4656934 ,  63.35563325])"
      ]
     },
     "execution_count": 4,
     "metadata": {},
     "output_type": "execute_result"
    }
   ],
   "source": [
    "center_pix = (20,20)\n",
    "center_sky = c.wcs.pix2sky((20,20))[0]\n",
    "center_sky"
   ]
  },
  {
   "cell_type": "code",
   "execution_count": 5,
   "metadata": {},
   "outputs": [
    {
     "data": {
      "text/plain": [
       "(array([ 300.,  300.]), array([ 600.,  600.]))"
      ]
     },
     "execution_count": 5,
     "metadata": {},
     "output_type": "execute_result"
    }
   ],
   "source": [
    "size_arcsec = 60\n",
    "size_pix_muse = 60 / c.wcs.get_step(unit=u.arcsec)\n",
    "size_pix_hst = 60 / im.wcs.get_step(unit=u.arcsec)\n",
    "\n",
    "size_pix_muse, size_pix_hst"
   ]
  },
  {
   "cell_type": "markdown",
   "metadata": {},
   "source": [
    "### Mpdaf"
   ]
  },
  {
   "cell_type": "code",
   "execution_count": 6,
   "metadata": {},
   "outputs": [],
   "source": [
    "sub = im.subimage(center_sky, size_arcsec)\n",
    "sub.write('subimage.fits', savemask='nan')"
   ]
  },
  {
   "cell_type": "code",
   "execution_count": 7,
   "metadata": {},
   "outputs": [
    {
     "data": {
      "text/plain": [
       "WCSAXES =                    2 / Number of coordinate axes                      \n",
       "CRPIX1  =   420.82673331428953 / Pixel coordinate of reference point            \n",
       "CRPIX2  =   397.80738948441308 / Pixel coordinate of reference point            \n",
       "CUNIT1  = 'deg'                / Units of coordinate increment and value        \n",
       "CUNIT2  = 'deg'                / Units of coordinate increment and value        \n",
       "CTYPE1  = 'RA---TAN'           / Right ascension, gnomonic projection           \n",
       "CTYPE2  = 'DEC--TAN'           / Declination, gnomonic projection               \n",
       "CRVAL1  =   63.351490348161327 / [deg] Coordinate value at reference point      \n",
       "CRVAL2  =    10.46432703958695 / [deg] Coordinate value at reference point      \n",
       "LONPOLE =                180.0 / [deg] Native longitude of celestial pole       \n",
       "LATPOLE =    10.46432703958695 / [deg] Native latitude of celestial pole        \n",
       "RADESYS = 'ICRS'               / Equatorial coordinate system                   \n",
       "CD1_1   = -1.4989202262336E-05                                                  \n",
       "CD1_2   = -2.3386507943905E-05                                                  \n",
       "CD2_1   = -2.3386507943905E-05                                                  \n",
       "CD2_2   = 1.49892022623367E-05                                                  "
      ]
     },
     "execution_count": 7,
     "metadata": {},
     "output_type": "execute_result"
    }
   ],
   "source": [
    "sub.wcs.to_header()"
   ]
  },
  {
   "cell_type": "markdown",
   "metadata": {},
   "source": [
    "### Astropy"
   ]
  },
  {
   "cell_type": "code",
   "execution_count": 8,
   "metadata": {},
   "outputs": [
    {
     "data": {
      "text/plain": [
       "array([650, 636])"
      ]
     },
     "execution_count": 8,
     "metadata": {},
     "output_type": "execute_result"
    }
   ],
   "source": [
    "new_center_pix = im.wcs.sky2pix(c.wcs.pix2sky((20,20)), nearest=True)[0]\n",
    "new_center_pix"
   ]
  },
  {
   "cell_type": "code",
   "execution_count": 9,
   "metadata": {},
   "outputs": [
    {
     "data": {
      "text/plain": [
       "300"
      ]
     },
     "execution_count": 9,
     "metadata": {},
     "output_type": "execute_result"
    }
   ],
   "source": [
    "radius = int(np.rint(size_pix_hst[0] / 2.))\n",
    "radius"
   ]
  },
  {
   "cell_type": "code",
   "execution_count": 10,
   "metadata": {},
   "outputs": [
    {
     "data": {
      "text/plain": [
       "(350, 336)"
      ]
     },
     "execution_count": 10,
     "metadata": {},
     "output_type": "execute_result"
    }
   ],
   "source": [
    "origin = new_center_pix[0] - radius, new_center_pix[1] - radius\n",
    "origin"
   ]
  },
  {
   "cell_type": "code",
   "execution_count": 11,
   "metadata": {},
   "outputs": [],
   "source": [
    "hdulist = fits.open('../a478hst.fits')\n",
    "for i, hdu in enumerate(hdulist[1:], 1):\n",
    "     hdulist[i].data = hdu.data[new_center_pix[0]-radius:new_center_pix[0]+radius,\n",
    "                                new_center_pix[1]-radius:new_center_pix[1]+radius]\n",
    "     hdu.header['CRPIX1'] -= origin[1]\n",
    "     hdu.header['CRPIX2'] -= origin[0]\n",
    "hdulist.writeto('cutout.fits', clobber=True)"
   ]
  },
  {
   "cell_type": "code",
   "execution_count": 12,
   "metadata": {
    "scrolled": true
   },
   "outputs": [
    {
     "data": {
      "text/plain": [
       "XTENSION= 'IMAGE   '           / Image extension                                \n",
       "BITPIX  =                  -32 / array data type                                \n",
       "NAXIS   =                    2 / number of array dimensions                     \n",
       "NAXIS1  =                  600                                                  \n",
       "NAXIS2  =                  600                                                  \n",
       "PCOUNT  =                    0 / number of parameters                           \n",
       "GCOUNT  =                    1 / number of groups                               \n",
       "ORIGIN  = 'NOAO-IRAF FITS Image Kernel July 2003' / FITS file originator        \n",
       "EXTNAME = 'SCI     '           / Extension name                                 \n",
       "EXTVER  =                    1 / Extension version                              \n",
       "INHERIT =                    T / Inherits global header                         \n",
       "DATE    = '2009-01-09T17:08:15' / Date FITS file was generated                  \n",
       "IRAF-TLM= '17:10:55 (09/01/2009)' / Time of last modification                   \n",
       "ROOTNAME= 'u59n0201r                         ' / rootname of the observation set\n",
       "EXPNAME = 'u59n0201r                ' / exposure identifier                     \n",
       "DATAMIN =            -251.6505 / the minimum value of the data                  \n",
       "DATAMAX =             45899.05 / the maximum value of the data                  \n",
       "BUNIT   = 'COUNTS/S'           / Units of science product                       \n",
       "                                                                                \n",
       "              / World Coordinate System and Related Parameters                  \n",
       "                                                                                \n",
       "WCSAXES =                    2 / number of World Coordinate System axes         \n",
       "CRPIX1  =    421.8267333142895 / x-coordinate of reference pixel                \n",
       "CRPIX2  =    397.8073894844131 / y-coordinate of reference pixel                \n",
       "CRVAL1  =    63.35149034816133 / first axis value at reference pixel            \n",
       "CRVAL2  =    10.46432703958695 / second axis value at reference pixel           \n",
       "CTYPE1  = 'RA---TAN'           / the coordinate type for the first axis         \n",
       "CTYPE2  = 'DEC--TAN'           / the coordinate type for the second axis        \n",
       "CD1_1   = -1.498920226233679E-05 / partial of first axis coordinate w.r.t. x    \n",
       "CD1_2   = -2.338650794390567E-05 / partial of first axis coordinate w.r.t. y    \n",
       "CD2_1   = -2.338650794390567E-05 / partial of second axis coordinate w.r.t. x   \n",
       "CD2_2   = 1.498920226233679E-05 / partial of second axis coordinate w.r.t. y    \n",
       "VAFACTOR=                  1.0 / velocity aberration plate scale factor         \n",
       "                                                                                \n",
       "              / PODPS PARAMETERS                                                \n",
       "                                                                                \n",
       "DETECTOR=                    1 / CCD number of the detector: PC 1, WFC 2-4      \n",
       "                                                                                \n",
       "              / OSS PARAMETERS                                                  \n",
       "                                                                                \n",
       "FILLCNT =                    0 / number of segments containing fill             \n",
       "ERRCNT  =                    0 / number of segments containing errors           \n",
       "                                                                                \n",
       "              / IMAGE PARAMETERS                                                \n",
       "                                                                                \n",
       "MIR_REVR=                    T / is the image mirror reversed?                  \n",
       "ORIENTAT=   -57.34281898942763 / position angle of image y axis (deg. e of n)   \n",
       "FPKTTIME=         51408.894410 / time of the first packet (Modified Julian Date)\n",
       "LPKTTIME=         51408.894576 / time of the last packet (Modified Julian Date) \n",
       "DEZERO  =              316.658 / Mean bias level from EED extended register     \n",
       "BIASEVEN=             316.6668 / Bias level from even-numbered columns          \n",
       "BIASODD =             316.6491 / Bias level from odd-numbered columns           \n",
       "GOODMIN =            -5.247756 / minimum value of good pixels                   \n",
       "GOODMAX =             3051.843 / maximum value of good pixels                   \n",
       "DATAMEAN=             2.519559 / mean value of the good pixels                  \n",
       "                                                                                \n",
       "              / DATA QUALITY FILE SUMMARY                                       \n",
       "                                                                                \n",
       "GPIXELS =               554466 / number of good pixels (DQF=0)                  \n",
       "SOFTERRS=                    0 / number of soft error pixels (DQF=1)            \n",
       "CALIBDEF=                82410 / number of calibration defect pixels (DQF=2)    \n",
       "STATICD =                    0 / number of static defect pixels (DQF=4)         \n",
       "ATODSAT =                   17 / number of AtoD saturated pixels (DQF=8)        \n",
       "DATALOST=                    0 / number of data lost pixels (DQF=16)            \n",
       "BADPIXEL=                    0 / number of generic bad pixels (DQF=32)          \n",
       "OVERLAP =                    0 / number of image overlap pixels (DQF=64)        \n",
       "                                                                                \n",
       "              / PHOTOMETRY KEYWORDS                                             \n",
       "                                                                                \n",
       "PHOTMODE= 'WFPC2,1,A2D7,F814W,,CAL'                                             \n",
       "PHOTFLAM=         2.507987E-18 / Inverse Sensitivity                            \n",
       "PHOTZPT =                -21.1 / Zero point                                     \n",
       "PHOTPLAM=             7995.937 / Pivot wavelength                               \n",
       "PHOTBW  =             646.1154 / RMS bandwidth of the filter                    \n",
       "ZP_CORR =          0.009622574 / Delta magnitude correction for contamination   \n",
       "                                                                                \n",
       "              / IMAGE STATISTICS                                                \n",
       "                                                                                \n",
       "MEDIAN  =              1.96169 / middle data value when good qual pixels sorted \n",
       "MEDSHADO=             5.433157 / median pixel value in shadow of pyramid edge   \n",
       "HISTWIDE=             1.264653 / width of the histogram                         \n",
       "SKEWNESS=           0.03124767 / skewness of the histogram                      \n",
       "MEANC10 =             1.975942 / mean of a 10x10 region at center of chip       \n",
       "MEANC25 =             1.984764 / mean of a 25x25 region at center of chip       \n",
       "MEANC50 =             2.397496 / mean of a 50x50 region at center of chip       \n",
       "MEANC100=             2.503595 / mean of a 100x100 region at center of chip     \n",
       "MEANC200=             2.547791 / mean of a 200x200 region at center of chip     \n",
       "MEANC300=             2.478852 / mean of a 300x300 region at center of chip     \n",
       "BACKGRND=             1.637416 / estimated background level                     \n",
       "BIASEVNU=             0.000000 / BIASEVEN value prior to WF4T correction        \n",
       "BIASODDU=             0.000000 / BIASODD value prior to WF4T correction         \n",
       "CTE_1E2 =   0.2377485781908035 / expected delta mag from CTE,100 electron pt src\n",
       "CTE_1E3 =  0.09629437327384949 / expected delta mag from CTE,1000 electron pt sr\n",
       "CTE_1E4 =  0.04677655920386314 / expected delta mag from CTE,1e+4 electron pt sr\n",
       "OCRVAL1 =       63.34469460426 / first axis value at reference pixel            \n",
       "OCRVAL2 =       10.46265428635 / second axis value at reference pixel           \n",
       "OCRPIX2 =                424.5 / y-coordinate of reference pixel                \n",
       "OCRPIX1 =                420.0 / x-coordinate of reference pixel                \n",
       "ONAXIS2 =                  800 / Axis length                                    \n",
       "ONAXIS1 =                  800 / Axis length                                    \n",
       "OCD2_2  =          6.83302E-06 / partial of second axis coordinate w.r.t. y     \n",
       "OCD2_1  =         -1.06398E-05 / partial of second axis coordinate w.r.t. x     \n",
       "OORIENTA=   -57.27888621797764 / position angle of image y axis (deg. e of n)   \n",
       "OCTYPE1 = 'RA---TAN'           / the coordinate type for the first axis         \n",
       "OCD1_1  =         -6.83617E-06 / partial of first axis coordinate w.r.t. x      \n",
       "OCD1_2  =         -1.06349E-05 / partial of first axis coordinate w.r.t. y      \n",
       "OCTYPE2 = 'DEC--TAN'           / the coordinate type for the second axis        \n",
       "WCSCDATE= '17:13:38 (09/01/2009)' / Time WCS keywords were copied.              \n",
       "OCX10   = 2.277449942466774E-07                                                 \n",
       "OCX11   =             0.045549                                                  \n",
       "OCY10   =  0.04555355565583706                                                  \n",
       "OCY11   = 5.196685210615396E-05                                                 \n",
       "                                                                                \n",
       "                                                                                \n",
       "                                                                                \n",
       "                                                                                \n",
       "                                                                                \n",
       "                                                                                \n",
       "                                                                                \n",
       "                                                                                \n",
       "                                                                                "
      ]
     },
     "execution_count": 12,
     "metadata": {},
     "output_type": "execute_result"
    }
   ],
   "source": [
    "hdulist[1].header"
   ]
  },
  {
   "cell_type": "markdown",
   "metadata": {},
   "source": [
    "### Difference"
   ]
  },
  {
   "cell_type": "code",
   "execution_count": 13,
   "metadata": {
    "collapsed": true
   },
   "outputs": [],
   "source": [
    "new = Image('cutout.fits')\n",
    "sub = Image('subimage.fits')"
   ]
  },
  {
   "cell_type": "markdown",
   "metadata": {},
   "source": [
    "#### One pixel offset on one axis"
   ]
  },
  {
   "cell_type": "code",
   "execution_count": 14,
   "metadata": {},
   "outputs": [
    {
     "data": {
      "text/plain": [
       "<matplotlib.image.AxesImage at 0x7fa32ef37710>"
      ]
     },
     "execution_count": 14,
     "metadata": {},
     "output_type": "execute_result"
    },
    {
     "name": "stderr",
     "output_type": "stream",
     "text": [
      "/home/simon/dev/astropy/astropy/visualization/mpl_normalize.py:76: RuntimeWarning: invalid value encountered in true_divide\n",
      "  np.true_divide(values, self.vmax - self.vmin, out=values)\n",
      "/home/simon/miniconda2/lib/python2.7/site-packages/matplotlib/colors.py:581: RuntimeWarning: invalid value encountered in less\n",
      "  cbook._putmask(xa, xa < 0.0, -1)\n"
     ]
    },
    {
     "data": {
      "image/png": "[encoded data removed]",
      "text/plain": [
       "<matplotlib.figure.Figure at 0x7fa3350a0110>"
      ]
     },
     "metadata": {},
     "output_type": "display_data"
    }
   ],
   "source": [
    "diff = sub[:, :-1] - new[:, 1:]\n",
    "diff.plot(zscale=True)"
   ]
  },
  {
   "cell_type": "code",
   "execution_count": 15,
   "metadata": {
    "collapsed": true
   },
   "outputs": [],
   "source": [
    "from astropy.wcs import WCSHDO_P17"
   ]
  },
  {
   "cell_type": "code",
   "execution_count": 16,
   "metadata": {},
   "outputs": [
    {
     "name": "stdout",
     "output_type": "stream",
     "text": [
      "WCS Keywords\n",
      "\n",
      "Number of WCS axes: 2\n",
      "CTYPE : 'RA---TAN'  'DEC--TAN'  \n",
      "CRVAL : 63.351490348161327  10.46432703958695  \n",
      "CRPIX : 420.82673331428953  397.80738948441308  \n",
      "CD1_1 CD1_2  : -1.4989202262336e-05  -2.3386507943905002e-05  \n",
      "CD2_1 CD2_2  : -2.3386507943905002e-05  1.4989202262336699e-05  \n",
      "NAXIS    : 600 600\n"
     ]
    }
   ],
   "source": [
    "sub.wcs.wcs.printwcs()"
   ]
  },
  {
   "cell_type": "code",
   "execution_count": 17,
   "metadata": {},
   "outputs": [
    {
     "name": "stdout",
     "output_type": "stream",
     "text": [
      "WCS Keywords\n",
      "\n",
      "Number of WCS axes: 2\n",
      "CTYPE : 'RA---TAN'  'DEC--TAN'  \n",
      "CRVAL : 63.351490348161327  10.46432703958695  \n",
      "CRPIX : 421.82673331428953  397.80738948441308  \n",
      "CD1_1 CD1_2  : -1.4989202262336791e-05  -2.3386507943905669e-05  \n",
      "CD2_1 CD2_2  : -2.3386507943905669e-05  1.4989202262336791e-05  \n",
      "NAXIS    : 600 600\n"
     ]
    }
   ],
   "source": [
    "new.wcs.wcs.printwcs()"
   ]
  },
  {
   "cell_type": "markdown",
   "metadata": {},
   "source": [
    "#### CRPIX1 is different, which explains the 1 pixel offset, fine. But CRVAL1/2 values also differs ..."
   ]
  },
  {
   "cell_type": "code",
   "execution_count": 18,
   "metadata": {},
   "outputs": [
    {
     "data": {
      "text/plain": [
       "WCSAXES =                    2 / Number of coordinate axes                      \n",
       "CRPIX1  =      421.82673331429 / Pixel coordinate of reference point            \n",
       "CRPIX2  =      397.80738948441 / Pixel coordinate of reference point            \n",
       "PC1_1   = -1.4989202262337E-05 / Coordinate transformation matrix element       \n",
       "PC1_2   = -2.3386507943906E-05 / Coordinate transformation matrix element       \n",
       "PC2_1   = -2.3386507943906E-05 / Coordinate transformation matrix element       \n",
       "PC2_2   =  1.4989202262337E-05 / Coordinate transformation matrix element       \n",
       "CDELT1  =                  1.0 / [deg] Coordinate increment at reference point  \n",
       "CDELT2  =                  1.0 / [deg] Coordinate increment at reference point  \n",
       "CUNIT1  = 'deg'                / Units of coordinate increment and value        \n",
       "CUNIT2  = 'deg'                / Units of coordinate increment and value        \n",
       "CTYPE1  = 'RA---TAN'           / Right ascension, gnomonic projection           \n",
       "CTYPE2  = 'DEC--TAN'           / Declination, gnomonic projection               \n",
       "CRVAL1  =      63.351490348161 / [deg] Coordinate value at reference point      \n",
       "CRVAL2  =      10.464327039587 / [deg] Coordinate value at reference point      \n",
       "LONPOLE =                180.0 / [deg] Native longitude of celestial pole       \n",
       "LATPOLE =      10.464327039587 / [deg] Native latitude of celestial pole        \n",
       "RADESYS = 'ICRS'               / Equatorial coordinate system                   "
      ]
     },
     "execution_count": 18,
     "metadata": {},
     "output_type": "execute_result"
    }
   ],
   "source": [
    "new.wcs.wcs.to_header()"
   ]
  },
  {
   "cell_type": "code",
   "execution_count": 19,
   "metadata": {},
   "outputs": [
    {
     "data": {
      "text/plain": [
       "WCSAXES =                    2 / Number of coordinate axes                      \n",
       "CRPIX1  =      420.82673331429 / Pixel coordinate of reference point            \n",
       "CRPIX2  =      397.80738948441 / Pixel coordinate of reference point            \n",
       "PC1_1   = -1.4989202262336E-05 / Coordinate transformation matrix element       \n",
       "PC1_2   = -2.3386507943905E-05 / Coordinate transformation matrix element       \n",
       "PC2_1   = -2.3386507943905E-05 / Coordinate transformation matrix element       \n",
       "PC2_2   =  1.4989202262337E-05 / Coordinate transformation matrix element       \n",
       "CDELT1  =                  1.0 / [deg] Coordinate increment at reference point  \n",
       "CDELT2  =                  1.0 / [deg] Coordinate increment at reference point  \n",
       "CUNIT1  = 'deg'                / Units of coordinate increment and value        \n",
       "CUNIT2  = 'deg'                / Units of coordinate increment and value        \n",
       "CTYPE1  = 'RA---TAN'           / Right ascension, gnomonic projection           \n",
       "CTYPE2  = 'DEC--TAN'           / Declination, gnomonic projection               \n",
       "CRVAL1  =      63.351490348161 / [deg] Coordinate value at reference point      \n",
       "CRVAL2  =      10.464327039587 / [deg] Coordinate value at reference point      \n",
       "LONPOLE =                180.0 / [deg] Native longitude of celestial pole       \n",
       "LATPOLE =      10.464327039587 / [deg] Native latitude of celestial pole        \n",
       "RADESYS = 'ICRS'               / Equatorial coordinate system                   "
      ]
     },
     "execution_count": 19,
     "metadata": {},
     "output_type": "execute_result"
    }
   ],
   "source": [
    "sub.wcs.wcs.to_header()"
   ]
  },
  {
   "cell_type": "code",
   "execution_count": 20,
   "metadata": {},
   "outputs": [
    {
     "data": {
      "text/plain": [
       "WCSAXES =                    2 / Number of coordinate axes                      \n",
       "CRPIX1  =   420.82673331428953 / Pixel coordinate of reference point            \n",
       "CRPIX2  =   397.80738948441308 / Pixel coordinate of reference point            \n",
       "PC1_1   = -1.4989202262336E-05 / Coordinate transformation matrix element       \n",
       "PC1_2   = -2.3386507943905002E-05 / Coordinate transformation matrix element    \n",
       "PC2_1   = -2.3386507943905002E-05 / Coordinate transformation matrix element    \n",
       "PC2_2   =  1.4989202262336699E-05 / Coordinate transformation matrix element    \n",
       "CDELT1  =                  1.0 / [deg] Coordinate increment at reference point  \n",
       "CDELT2  =                  1.0 / [deg] Coordinate increment at reference point  \n",
       "CUNIT1  = 'deg'                / Units of coordinate increment and value        \n",
       "CUNIT2  = 'deg'                / Units of coordinate increment and value        \n",
       "CTYPE1  = 'RA---TAN'           / Right ascension, gnomonic projection           \n",
       "CTYPE2  = 'DEC--TAN'           / Declination, gnomonic projection               \n",
       "CRVAL1  =   63.351490348161327 / [deg] Coordinate value at reference point      \n",
       "CRVAL2  =    10.46432703958695 / [deg] Coordinate value at reference point      \n",
       "LONPOLE =                180.0 / [deg] Native longitude of celestial pole       \n",
       "LATPOLE =    10.46432703958695 / [deg] Native latitude of celestial pole        \n",
       "RADESYS = 'ICRS'               / Equatorial coordinate system                   "
      ]
     },
     "execution_count": 20,
     "metadata": {},
     "output_type": "execute_result"
    }
   ],
   "source": [
    "sub.wcs.wcs.to_header(relax=WCSHDO_P17)"
   ]
  },
  {
   "cell_type": "code",
   "execution_count": 21,
   "metadata": {},
   "outputs": [
    {
     "data": {
      "text/plain": [
       "True"
      ]
     },
     "execution_count": 21,
     "metadata": {},
     "output_type": "execute_result"
    }
   ],
   "source": [
    "new.wcs.isEqual(sub.wcs)"
   ]
  },
  {
   "cell_type": "code",
   "execution_count": 22,
   "metadata": {},
   "outputs": [
    {
     "data": {
      "text/plain": [
       "array([[ 10.46822049,  63.36734198]])"
      ]
     },
     "execution_count": 22,
     "metadata": {},
     "output_type": "execute_result"
    }
   ],
   "source": [
    "new.wcs.pix2sky([0, 0])"
   ]
  },
  {
   "cell_type": "code",
   "execution_count": 23,
   "metadata": {},
   "outputs": [
    {
     "data": {
      "text/plain": [
       "array([[ 10.4681971 ,  63.36732674]])"
      ]
     },
     "execution_count": 23,
     "metadata": {},
     "output_type": "execute_result"
    }
   ],
   "source": [
    "sub.wcs.pix2sky([0, 0])"
   ]
  },
  {
   "cell_type": "code",
   "execution_count": 24,
   "metadata": {},
   "outputs": [
    {
     "data": {
      "text/plain": [
       "array([[  2.33857538e-05,   1.52441005e-05]])"
      ]
     },
     "execution_count": 24,
     "metadata": {},
     "output_type": "execute_result"
    }
   ],
   "source": [
    "new.wcs.pix2sky([0, 0]) - sub.wcs.pix2sky([0, 0])"
   ]
  },
  {
   "cell_type": "code",
   "execution_count": null,
   "metadata": {
    "collapsed": true
   },
   "outputs": [],
   "source": []
  }
 ],
 "metadata": {
  "kernelspec": {
   "display_name": "Python 3",
   "language": "python",
   "name": "python3"
  },
  "language_info": {
   "codemirror_mode": {
    "name": "ipython",
    "version": 3
   },
   "file_extension": ".py",
   "mimetype": "text/x-python",
   "name": "python",
   "nbconvert_exporter": "python",
   "pygments_lexer": "ipython3",
   "version": "3.6.3"
  }
 },
 "nbformat": 4,
 "nbformat_minor": 1
}
