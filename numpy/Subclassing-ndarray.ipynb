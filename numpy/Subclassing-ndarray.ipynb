{
 "cells": [
  {
   "cell_type": "markdown",
   "metadata": {},
   "source": [
    "# Subclassing ndarray\n",
    "\n",
    "https://docs.scipy.org/doc/numpy-1.13.0/user/basics.subclassing.html"
   ]
  },
  {
   "cell_type": "code",
   "execution_count": 1,
   "metadata": {
    "ExecuteTime": {
     "end_time": "2018-01-16T08:24:34.306679Z",
     "start_time": "2018-01-16T08:24:34.085525Z"
    }
   },
   "outputs": [
    {
     "name": "stdout",
     "output_type": "stream",
     "text": [
      "Numpy 1.14.0\n"
     ]
    }
   ],
   "source": [
    "%numpy"
   ]
  },
  {
   "cell_type": "markdown",
   "metadata": {},
   "source": [
    "## `__new__` and `__array_finalize__`\n",
    "\n",
    "`self` is always a newly created instance of our subclass, and the type of `obj` differs for the three instance creation methods:\n",
    "\n",
    "- When called from the explicit constructor, `obj` is None\n",
    "- When called from view casting, `obj` can be an instance of any subclass of `ndarray`, including our own.\n",
    "- When called in new-from-template, `obj` is another instance of our own subclass, that we might use to update the new `self` instance."
   ]
  },
  {
   "cell_type": "code",
   "execution_count": 7,
   "metadata": {
    "ExecuteTime": {
     "end_time": "2018-01-16T08:33:19.513359Z",
     "start_time": "2018-01-16T08:33:19.466073Z"
    }
   },
   "outputs": [],
   "source": [
    "class C(np.ndarray):\n",
    "    def __new__(cls, *args, **kwargs):\n",
    "        print('In __new__ with class %s' % cls)\n",
    "        return super(C, cls).__new__(cls, *args, **kwargs)\n",
    "\n",
    "    def __init__(self, *args, **kwargs):\n",
    "        # in practice you probably will not need or want an __init__\n",
    "        # method for your subclass\n",
    "        print('In __init__ with class %s' % self.__class__)\n",
    "\n",
    "    def __array_finalize__(self, obj):\n",
    "        print('In array_finalize:')\n",
    "        print('   self type is %s' % type(self))\n",
    "        print('   obj type is %s' % type(obj))"
   ]
  },
  {
   "cell_type": "code",
   "execution_count": 10,
   "metadata": {
    "ExecuteTime": {
     "end_time": "2018-01-16T08:34:27.448026Z",
     "start_time": "2018-01-16T08:34:27.424200Z"
    }
   },
   "outputs": [
    {
     "name": "stdout",
     "output_type": "stream",
     "text": [
      "In __new__ with class <class '__main__.C'>\n",
      "In array_finalize:\n",
      "   self type is <class '__main__.C'>\n",
      "   obj type is <class 'NoneType'>\n",
      "In __init__ with class <class '__main__.C'>\n"
     ]
    },
    {
     "data": {
      "text/plain": [
       "C([4.63586546e-310, 6.79038654e-313, 6.79038653e-313, 2.37663529e-312,\n",
       "   2.58883487e-312, 2.41907520e-312, 2.44029516e-312, 8.48798317e-313,\n",
       "   9.33678148e-313, 8.70018274e-313])"
      ]
     },
     "execution_count": 10,
     "metadata": {},
     "output_type": "execute_result"
    }
   ],
   "source": [
    "# Explicit constructor\n",
    "C((10,))"
   ]
  },
  {
   "cell_type": "code",
   "execution_count": 11,
   "metadata": {
    "ExecuteTime": {
     "end_time": "2018-01-16T08:35:06.547327Z",
     "start_time": "2018-01-16T08:35:06.523044Z"
    }
   },
   "outputs": [
    {
     "name": "stdout",
     "output_type": "stream",
     "text": [
      "In array_finalize:\n",
      "   self type is <class '__main__.C'>\n",
      "   obj type is <class 'numpy.ndarray'>\n"
     ]
    },
    {
     "data": {
      "text/plain": [
       "C([0., 0., 0.])"
      ]
     },
     "execution_count": 11,
     "metadata": {},
     "output_type": "execute_result"
    }
   ],
   "source": [
    "# View\n",
    "arr = np.zeros((3,))\n",
    "c_arr = arr.view(C)\n",
    "c_arr"
   ]
  },
  {
   "cell_type": "code",
   "execution_count": 12,
   "metadata": {
    "ExecuteTime": {
     "end_time": "2018-01-16T08:35:20.567262Z",
     "start_time": "2018-01-16T08:35:20.551320Z"
    }
   },
   "outputs": [
    {
     "name": "stdout",
     "output_type": "stream",
     "text": [
      "In array_finalize:\n",
      "   self type is <class '__main__.C'>\n",
      "   obj type is <class '__main__.C'>\n"
     ]
    },
    {
     "data": {
      "text/plain": [
       "C([0., 0.])"
      ]
     },
     "execution_count": 12,
     "metadata": {},
     "output_type": "execute_result"
    }
   ],
   "source": [
    "c_arr[1:]"
   ]
  },
  {
   "cell_type": "code",
   "execution_count": 13,
   "metadata": {
    "ExecuteTime": {
     "end_time": "2018-01-16T08:35:29.555503Z",
     "start_time": "2018-01-16T08:35:29.537358Z"
    }
   },
   "outputs": [
    {
     "name": "stdout",
     "output_type": "stream",
     "text": [
      "In array_finalize:\n",
      "   self type is <class '__main__.C'>\n",
      "   obj type is <class '__main__.C'>\n"
     ]
    },
    {
     "data": {
      "text/plain": [
       "C([0., 0., 0.])"
      ]
     },
     "execution_count": 13,
     "metadata": {},
     "output_type": "execute_result"
    }
   ],
   "source": [
    "c_arr.copy()"
   ]
  },
  {
   "cell_type": "code",
   "execution_count": 14,
   "metadata": {
    "ExecuteTime": {
     "end_time": "2018-01-16T08:35:30.835421Z",
     "start_time": "2018-01-16T08:35:30.809574Z"
    }
   },
   "outputs": [
    {
     "name": "stdout",
     "output_type": "stream",
     "text": [
      "In array_finalize:\n",
      "   self type is <class '__main__.C'>\n",
      "   obj type is <class '__main__.C'>\n"
     ]
    },
    {
     "data": {
      "text/plain": [
       "C([0., 0., 0.])"
      ]
     },
     "execution_count": 14,
     "metadata": {},
     "output_type": "execute_result"
    }
   ],
   "source": [
    "c_arr + c_arr"
   ]
  },
  {
   "cell_type": "code",
   "execution_count": 15,
   "metadata": {
    "ExecuteTime": {
     "end_time": "2018-01-16T08:39:10.626586Z",
     "start_time": "2018-01-16T08:39:10.462448Z"
    }
   },
   "outputs": [],
   "source": [
    "class InfoArray(np.ndarray):\n",
    "\n",
    "    def __new__(subtype, shape, dtype=float, buffer=None, offset=0,\n",
    "                strides=None, order=None, info=None):\n",
    "        # Create the ndarray instance of our type, given the usual\n",
    "        # ndarray input arguments.  This will call the standard\n",
    "        # ndarray constructor, but return an object of our type.\n",
    "        # It also triggers a call to InfoArray.__array_finalize__\n",
    "        obj = super(InfoArray, subtype).__new__(subtype, shape, dtype,\n",
    "                                                buffer, offset, strides,\n",
    "                                                order)\n",
    "        # set the new 'info' attribute to the value passed\n",
    "        obj.info = info\n",
    "        # Finally, we must return the newly created object:\n",
    "        return obj\n",
    "\n",
    "    def __array_finalize__(self, obj):\n",
    "        # ``self`` is a new object resulting from\n",
    "        # ndarray.__new__(InfoArray, ...), therefore it only has\n",
    "        # attributes that the ndarray.__new__ constructor gave it -\n",
    "        # i.e. those of a standard ndarray.\n",
    "        #\n",
    "        # We could have got to the ndarray.__new__ call in 3 ways:\n",
    "        # From an explicit constructor - e.g. InfoArray():\n",
    "        #    obj is None\n",
    "        #    (we're in the middle of the InfoArray.__new__\n",
    "        #    constructor, and self.info will be set when we return to\n",
    "        #    InfoArray.__new__)\n",
    "        if obj is None: return\n",
    "        # From view casting - e.g arr.view(InfoArray):\n",
    "        #    obj is arr\n",
    "        #    (type(obj) can be InfoArray)\n",
    "        # From new-from-template - e.g infoarr[:3]\n",
    "        #    type(obj) is InfoArray\n",
    "        #\n",
    "        # Note that it is here, rather than in the __new__ method,\n",
    "        # that we set the default value for 'info', because this\n",
    "        # method sees all creation of default objects - with the\n",
    "        # InfoArray.__new__ constructor, but also with\n",
    "        # arr.view(InfoArray).\n",
    "        self.info = getattr(obj, 'info', None)\n",
    "        # We do not need to return anything\n"
   ]
  },
  {
   "cell_type": "code",
   "execution_count": 16,
   "metadata": {
    "ExecuteTime": {
     "end_time": "2018-01-16T08:40:27.442707Z",
     "start_time": "2018-01-16T08:40:27.426810Z"
    }
   },
   "outputs": [
    {
     "data": {
      "text/plain": [
       "(InfoArray([0., 0., 0.]), None)"
      ]
     },
     "execution_count": 16,
     "metadata": {},
     "output_type": "execute_result"
    }
   ],
   "source": [
    "obj = InfoArray(shape=(3,)) # explicit constructor\n",
    "obj, obj.info"
   ]
  },
  {
   "cell_type": "code",
   "execution_count": 17,
   "metadata": {
    "ExecuteTime": {
     "end_time": "2018-01-16T08:40:46.149702Z",
     "start_time": "2018-01-16T08:40:46.133723Z"
    }
   },
   "outputs": [
    {
     "data": {
      "text/plain": [
       "(InfoArray([0., 0., 0.]), 'information')"
      ]
     },
     "execution_count": 17,
     "metadata": {},
     "output_type": "execute_result"
    }
   ],
   "source": [
    "obj = InfoArray(shape=(3,), info='information')\n",
    "obj, obj.info"
   ]
  },
  {
   "cell_type": "code",
   "execution_count": 18,
   "metadata": {
    "ExecuteTime": {
     "end_time": "2018-01-16T08:41:15.593973Z",
     "start_time": "2018-01-16T08:41:15.567635Z"
    }
   },
   "outputs": [
    {
     "data": {
      "text/plain": [
       "(InfoArray([0., 0.]), 'information')"
      ]
     },
     "execution_count": 18,
     "metadata": {},
     "output_type": "execute_result"
    }
   ],
   "source": [
    "v = obj[1:] # new-from-template - here - slicing\n",
    "v, v.info"
   ]
  },
  {
   "cell_type": "code",
   "execution_count": 19,
   "metadata": {
    "ExecuteTime": {
     "end_time": "2018-01-16T08:41:39.359854Z",
     "start_time": "2018-01-16T08:41:39.340500Z"
    }
   },
   "outputs": [
    {
     "data": {
      "text/plain": [
       "(InfoArray([0, 1, 2, 3, 4, 5, 6, 7, 8, 9]), None)"
      ]
     },
     "execution_count": 19,
     "metadata": {},
     "output_type": "execute_result"
    }
   ],
   "source": [
    "arr = np.arange(10)\n",
    "cast_arr = arr.view(InfoArray) # view casting\n",
    "cast_arr, cast_arr.info"
   ]
  },
  {
   "cell_type": "markdown",
   "metadata": {},
   "source": [
    "## `__array_ufunc__` for ufuncs\n",
    "\n",
    "```\n",
    "def __array_ufunc__(ufunc, method, *inputs, **kwargs):\n",
    "\n",
    "- *ufunc* is the ufunc object that was called.\n",
    "- *method* is a string indicating how the Ufunc was called, either\n",
    "  ``\"__call__\"`` to indicate it was called directly, or one of its\n",
    "  :ref:`methods<ufuncs.methods>`: ``\"reduce\"``, ``\"accumulate\"``,\n",
    "  ``\"reduceat\"``, ``\"outer\"``, or ``\"at\"``.\n",
    "- *inputs* is a tuple of the input arguments to the ``ufunc``\n",
    "- *kwargs* contains any optional or keyword arguments passed to the\n",
    "  function. This includes any ``out`` arguments, which are always\n",
    "  contained in a tuple.\n",
    "```"
   ]
  },
  {
   "cell_type": "code",
   "execution_count": 20,
   "metadata": {
    "ExecuteTime": {
     "end_time": "2018-01-16T08:45:14.851400Z",
     "start_time": "2018-01-16T08:45:14.590383Z"
    }
   },
   "outputs": [],
   "source": [
    "class A(np.ndarray):\n",
    "    def __array_ufunc__(self, ufunc, method, *inputs, **kwargs):\n",
    "        args = []\n",
    "        in_no = []\n",
    "        for i, input_ in enumerate(inputs):\n",
    "            if isinstance(input_, A):\n",
    "                in_no.append(i)\n",
    "                args.append(input_.view(np.ndarray))\n",
    "            else:\n",
    "                args.append(input_)\n",
    "\n",
    "        outputs = kwargs.pop('out', None)\n",
    "        out_no = []\n",
    "        if outputs:\n",
    "            out_args = []\n",
    "            for j, output in enumerate(outputs):\n",
    "                if isinstance(output, A):\n",
    "                    out_no.append(j)\n",
    "                    out_args.append(output.view(np.ndarray))\n",
    "                else:\n",
    "                    out_args.append(output)\n",
    "            kwargs['out'] = tuple(out_args)\n",
    "        else:\n",
    "            outputs = (None,) * ufunc.nout\n",
    "\n",
    "        info = {}\n",
    "        if in_no:\n",
    "            info['inputs'] = in_no\n",
    "        if out_no:\n",
    "            info['outputs'] = out_no\n",
    "\n",
    "        results = super(A, self).__array_ufunc__(ufunc, method,\n",
    "                                                 *args, **kwargs)\n",
    "        if results is NotImplemented:\n",
    "            return NotImplemented\n",
    "\n",
    "        if method == 'at':\n",
    "            if isinstance(inputs[0], A):\n",
    "                inputs[0].info = info\n",
    "            return\n",
    "\n",
    "        if ufunc.nout == 1:\n",
    "            results = (results,)\n",
    "\n",
    "        results = tuple((np.asarray(result).view(A)\n",
    "                         if output is None else output)\n",
    "                        for result, output in zip(results, outputs))\n",
    "        if results and isinstance(results[0], A):\n",
    "            results[0].info = info\n",
    "\n",
    "        return results[0] if len(results) == 1 else results"
   ]
  },
  {
   "cell_type": "code",
   "execution_count": 21,
   "metadata": {
    "ExecuteTime": {
     "end_time": "2018-01-16T08:46:00.373387Z",
     "start_time": "2018-01-16T08:46:00.350256Z"
    }
   },
   "outputs": [
    {
     "data": {
      "text/plain": [
       "{'inputs': [0]}"
      ]
     },
     "execution_count": 21,
     "metadata": {},
     "output_type": "execute_result"
    }
   ],
   "source": [
    ">>> a = np.arange(5.).view(A)\n",
    ">>> b = np.sin(a)\n",
    ">>> b.info"
   ]
  },
  {
   "cell_type": "code",
   "execution_count": null,
   "metadata": {},
   "outputs": [],
   "source": []
  }
 ],
 "metadata": {
  "kernelspec": {
   "display_name": "Python 3",
   "language": "python",
   "name": "python3"
  },
  "language_info": {
   "codemirror_mode": {
    "name": "ipython",
    "version": 3
   },
   "file_extension": ".py",
   "mimetype": "text/x-python",
   "name": "python",
   "nbconvert_exporter": "python",
   "pygments_lexer": "ipython3",
   "version": "3.6.3"
  }
 },
 "nbformat": 4,
 "nbformat_minor": 2
}
