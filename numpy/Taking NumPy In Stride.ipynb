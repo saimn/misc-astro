{
 "cells": [
  {
   "cell_type": "markdown",
   "metadata": {},
   "source": [
    "From https://github.com/jaimefrio/pydatabcn2017"
   ]
  },
  {
   "cell_type": "code",
   "execution_count": 1,
   "metadata": {
    "collapsed": true
   },
   "outputs": [],
   "source": [
    "import numpy as np"
   ]
  },
  {
   "cell_type": "markdown",
   "metadata": {},
   "source": [
    "## Array views and slicing"
   ]
  },
  {
   "cell_type": "markdown",
   "metadata": {},
   "source": [
    "A NumPy array is an object of [`numpy.ndarray`](https://docs.scipy.org/doc/numpy-1.12.0/reference/generated/numpy.ndarray.html) type:"
   ]
  },
  {
   "cell_type": "code",
   "execution_count": 2,
   "metadata": {},
   "outputs": [
    {
     "data": {
      "text/plain": [
       "numpy.ndarray"
      ]
     },
     "execution_count": 2,
     "metadata": {},
     "output_type": "execute_result"
    }
   ],
   "source": [
    "a = np.arange(3)\n",
    "type(a)"
   ]
  },
  {
   "cell_type": "markdown",
   "metadata": {},
   "source": [
    "All `ndarray`s have a `.base` attribute.\n",
    "If this attribute is not `None`, then the array is a **view** of some other object's memory, typically another `ndarray`.\n",
    "This is a very powerful tool, because allocating memory and copying memory contents are expensive operations, but updating metadata on how to interpret some already allocated memory is cheap!\n",
    "\n",
    "The simplest way of creating an array's view is by slicing it:"
   ]
  },
  {
   "cell_type": "code",
   "execution_count": 6,
   "metadata": {},
   "outputs": [
    {
     "data": {
      "text/plain": [
       "True"
      ]
     },
     "execution_count": 6,
     "metadata": {},
     "output_type": "execute_result"
    }
   ],
   "source": [
    "a = np.arange(3)\n",
    "a.base is None\n",
    "b = a\n",
    "b.base is None"
   ]
  },
  {
   "cell_type": "code",
   "execution_count": 4,
   "metadata": {},
   "outputs": [
    {
     "data": {
      "text/plain": [
       "False"
      ]
     },
     "execution_count": 4,
     "metadata": {},
     "output_type": "execute_result"
    }
   ],
   "source": [
    "a[:].base is None"
   ]
  },
  {
   "cell_type": "code",
   "execution_count": 5,
   "metadata": {},
   "outputs": [
    {
     "data": {
      "text/plain": [
       "True"
      ]
     },
     "execution_count": 5,
     "metadata": {},
     "output_type": "execute_result"
    }
   ],
   "source": [
    "a[:].base is a"
   ]
  },
  {
   "cell_type": "markdown",
   "metadata": {},
   "source": [
    "Let's look more closely at what an array's metadata looks like. NumPy provides the [`np.info`](https://docs.scipy.org/doc/numpy/reference/generated/numpy.info.html) function, which can list for us some low level attributes of an array:"
   ]
  },
  {
   "cell_type": "code",
   "execution_count": 7,
   "metadata": {},
   "outputs": [
    {
     "name": "stdout",
     "output_type": "stream",
     "text": [
      "class:  ndarray\n",
      "shape:  (3,)\n",
      "strides:  (8,)\n",
      "itemsize:  8\n",
      "aligned:  True\n",
      "contiguous:  True\n",
      "fortran:  True\n",
      "data pointer: 0x7f8f389097a0\n",
      "byteorder:  little\n",
      "byteswap:  False\n",
      "type: int64\n"
     ]
    }
   ],
   "source": [
    "np.info(a)"
   ]
  },
  {
   "cell_type": "markdown",
   "metadata": {
    "collapsed": true
   },
   "source": [
    "By the end of the workshop you will understand what most of these mean.\n",
    "But rather than listen through a lesson, you get to try and figure what they mean yourself.\n",
    "To help you with that, here's a function that prints the information from two arrays side by side:"
   ]
  },
  {
   "cell_type": "code",
   "execution_count": 9,
   "metadata": {},
   "outputs": [],
   "source": [
    "def info_for_two(one_array, another_array):\n",
    "    \"\"\"Prints side-by-side results of running np.info on its inputs.\"\"\"\n",
    "    def info_as_ordered_dict(array):\n",
    "        \"\"\"Converts return of np.infor into an ordered dict.\"\"\"\n",
    "        import collections\n",
    "        import io\n",
    "        buffer = io.StringIO()\n",
    "        np.info(array, output=buffer)\n",
    "        data = (\n",
    "            item.split(':') for item in buffer.getvalue().strip().split('\\n'))\n",
    "        return collections.OrderedDict(\n",
    "            ((key, value.strip()) for key, value in data))\n",
    "    one_dict = info_as_ordered_dict(one_array)\n",
    "    another_dict = info_as_ordered_dict(another_array)\n",
    "    name_w = max(len(name) for name in one_dict.keys())\n",
    "    one_w = max(len(name) for name in one_dict.values())\n",
    "    another_w = max(len(name) for name in another_dict.values())\n",
    "    output =  (\n",
    "        f'{name:<{name_w}} : {one:>{one_w}} : {another:>{another_w}}'\n",
    "        for name, one, another in zip(\n",
    "            one_dict.keys(), one_dict.values(), another_dict.values()))\n",
    "    print('\\n'.join(output))"
   ]
  },
  {
   "cell_type": "code",
   "execution_count": 10,
   "metadata": {},
   "outputs": [
    {
     "name": "stdout",
     "output_type": "stream",
     "text": [
      "class        :        ndarray :        ndarray\n",
      "shape        :           (5,) :           (5,)\n",
      "strides      :           (8,) :           (8,)\n",
      "itemsize     :              8 :              8\n",
      "aligned      :           True :           True\n",
      "contiguous   :           True :           True\n",
      "fortran      :           True :           True\n",
      "data pointer : 0x7f8f366f1400 : 0x7f8f366f1400\n",
      "byteorder    :         little :         little\n",
      "byteswap     :          False :          False\n",
      "type         :          int64 :          int64\n"
     ]
    }
   ],
   "source": [
    "a = np.arange(5)\n",
    "b = a[:]\n",
    "info_for_two(a, b)"
   ]
  },
  {
   "cell_type": "markdown",
   "metadata": {},
   "source": [
    "### Exercise 1.\n",
    " 1. Create a one dimensional NumPy array with a few items (consider using [`np.arange`](https://docs.scipy.org/doc/numpy/reference/generated/numpy.arange.html)).\n",
    " 2. Compare the printout of `np.info` on your array and on slices of it (use the `[start:stop:step]` indexing syntax, and make sure to try steps other than one).\n",
    " 3. Do you see any patterns?"
   ]
  },
  {
   "cell_type": "code",
   "execution_count": 12,
   "metadata": {},
   "outputs": [
    {
     "data": {
      "text/plain": [
       "array([0, 1, 2, 3], dtype=uint16)"
      ]
     },
     "execution_count": 12,
     "metadata": {},
     "output_type": "execute_result"
    }
   ],
   "source": [
    "a = np.arange(4, dtype=np.uint16)\n",
    "a"
   ]
  },
  {
   "cell_type": "code",
   "execution_count": 13,
   "metadata": {},
   "outputs": [
    {
     "data": {
      "text/plain": [
       "array([0, 2], dtype=uint16)"
      ]
     },
     "execution_count": 13,
     "metadata": {},
     "output_type": "execute_result"
    }
   ],
   "source": [
    "a[::2]"
   ]
  },
  {
   "cell_type": "code",
   "execution_count": 14,
   "metadata": {},
   "outputs": [
    {
     "name": "stdout",
     "output_type": "stream",
     "text": [
      "class        :        ndarray :        ndarray\n",
      "shape        :           (4,) :           (2,)\n",
      "strides      :           (2,) :           (4,)\n",
      "itemsize     :              2 :              2\n",
      "aligned      :           True :           True\n",
      "contiguous   :           True :          False\n",
      "fortran      :           True :          False\n",
      "data pointer : 0x7f8f366e6610 : 0x7f8f366e6610\n",
      "byteorder    :         little :         little\n",
      "byteswap     :          False :          False\n",
      "type         :         uint16 :         uint16\n"
     ]
    }
   ],
   "source": [
    "info_for_two(a, a[::2])"
   ]
  },
  {
   "cell_type": "code",
   "execution_count": 15,
   "metadata": {},
   "outputs": [
    {
     "data": {
      "text/plain": [
       "array([2, 1, 0], dtype=uint16)"
      ]
     },
     "execution_count": 15,
     "metadata": {},
     "output_type": "execute_result"
    }
   ],
   "source": [
    "a[2::-1]"
   ]
  },
  {
   "cell_type": "code",
   "execution_count": 16,
   "metadata": {
    "scrolled": true
   },
   "outputs": [
    {
     "name": "stdout",
     "output_type": "stream",
     "text": [
      "class        :        ndarray :        ndarray\n",
      "shape        :           (4,) :           (3,)\n",
      "strides      :           (2,) :          (-2,)\n",
      "itemsize     :              2 :              2\n",
      "aligned      :           True :           True\n",
      "contiguous   :           True :          False\n",
      "fortran      :           True :          False\n",
      "data pointer : 0x7f8f366e6610 : 0x7f8f366e6614\n",
      "byteorder    :         little :         little\n",
      "byteswap     :          False :          False\n",
      "type         :         uint16 :         uint16\n"
     ]
    }
   ],
   "source": [
    "info_for_two(a, a[2::-1])"
   ]
  },
  {
   "cell_type": "markdown",
   "metadata": {},
   "source": [
    "### Exercise 1 debrief\n",
    "Every array has an underlying block of memory assigned to it.\n",
    "When we slice an array, rather than making a **copy** of it, NumPy makes a **view**, reusing the memory block, but interpreting it differently.\n",
    "\n",
    "Lets take a look at what NumPy did for us in the above examples, and make sense of some of the changes to info.\n",
    "\n",
    "![Exercise 1](img/exercise1.png \"Exercise 1\")\n",
    "\n",
    " * **shape**: for a one dimensional array *shape* is a single item tuple, equal to the total number of items in the array. You can get the shape of an array as its `.shape` attribute.\n",
    " * **strides**: is also a single item tuple for one-dimensional arrays, its value being the number of bytes to skip in memory to get to the next item. And yes, strides can be negative. You can get this as the `.strides` attribute of any array.\n",
    " * **data pointer**: this is the address in memory of the first byte of the first item of the array. Note that this doesn't have to be the same as the first byte of the underlying memory block! You rarely need to know the exact address of the data pointer, but it's part of the string representation of the arrays `.data` attribute. \n",
    " * **itemsize**: this isn't properly an attribute of the array, but of it's data type. It is the number of bytes that an array item takes up in memory. You can get this value from an array as the `.itemsize` attribute of its `.dtype` attribute, i.e. `array.dtype.itemsize`.\n",
    " * **type**: this lets us know how each array item should be interpreted e.g. for calculations. We'll talk more about this later, but you can get an array's type object through its `.dtype` attribute.\n",
    " * **contiguous**: this is one of several boolean flags of an array. Its meaning is a little more specific, but for now lets say it tells us whether the array items use the memory block efficiently, without leaving unused spaces between items. It's value can be checked as the `.contiguous` attribute of the arrays `.flags` attribute"
   ]
  },
  {
   "cell_type": "markdown",
   "metadata": {},
   "source": [
    "### Exercise 2\n",
    "\n",
    "Take a couple or minutes to familiarize yourself with the NumPy array's attributes discussed above:\n",
    "\n",
    " 1. Create a small one dimensional array of your choosing.\n",
    " 2. Look at its `.shape`, `.strides`, `.dtype`, `.flags` and `.data` attributes.\n",
    " 3. For `.dtype` and `.flags`, store them into a separate variable, and use tab completion on those to explore their subattributes."
   ]
  },
  {
   "cell_type": "code",
   "execution_count": 18,
   "metadata": {},
   "outputs": [
    {
     "data": {
      "text/plain": [
       "array([ 0.,  1.,  2.,  3.,  4.,  5.,  6.,  7.,  8.,  9.])"
      ]
     },
     "execution_count": 18,
     "metadata": {},
     "output_type": "execute_result"
    }
   ],
   "source": [
    "a = np.arange(10, dtype=np.float)\n",
    "a"
   ]
  },
  {
   "cell_type": "code",
   "execution_count": 19,
   "metadata": {},
   "outputs": [
    {
     "data": {
      "text/plain": [
       "(10,)"
      ]
     },
     "execution_count": 19,
     "metadata": {},
     "output_type": "execute_result"
    }
   ],
   "source": [
    "a.shape"
   ]
  },
  {
   "cell_type": "code",
   "execution_count": 20,
   "metadata": {},
   "outputs": [
    {
     "data": {
      "text/plain": [
       "(8,)"
      ]
     },
     "execution_count": 20,
     "metadata": {},
     "output_type": "execute_result"
    }
   ],
   "source": [
    "a.strides"
   ]
  },
  {
   "cell_type": "code",
   "execution_count": 22,
   "metadata": {},
   "outputs": [
    {
     "data": {
      "text/plain": [
       "8"
      ]
     },
     "execution_count": 22,
     "metadata": {},
     "output_type": "execute_result"
    }
   ],
   "source": [
    "dt = a.dtype\n",
    "dt.itemsize"
   ]
  },
  {
   "cell_type": "code",
   "execution_count": 26,
   "metadata": {},
   "outputs": [
    {
     "data": {
      "text/plain": [
       "True"
      ]
     },
     "execution_count": 26,
     "metadata": {},
     "output_type": "execute_result"
    }
   ],
   "source": [
    "flags = a.flags\n",
    "flags.contiguous"
   ]
  },
  {
   "cell_type": "code",
   "execution_count": 27,
   "metadata": {},
   "outputs": [
    {
     "data": {
      "text/plain": [
       "<memory at 0x112c1e108>"
      ]
     },
     "execution_count": 27,
     "metadata": {},
     "output_type": "execute_result"
    }
   ],
   "source": [
    "a.data"
   ]
  },
  {
   "cell_type": "markdown",
   "metadata": {},
   "source": [
    "## A look at data types\n",
    "\n",
    "Similarly to how we can change the shape, strides and data pointer of an array through slicing, we can change how it's items are interpreted by changing it's data type.\n",
    "This is done by calling the array's [`.view()`](https://docs.scipy.org/doc/numpy-1.12.0/reference/generated/numpy.ndarray.view.html) method, and passing it the new data type.\n",
    "\n",
    "But before we go there, lets look a little closer at dtypes. You are hopefully familiar with the basic NumPy numerical data types:\n",
    "\n",
    "| Type Family | NumPy Defined Types | Character Codes |\n",
    "| :---: |\n",
    "| boolean | `np.bool` | `'?'` |\n",
    "| unsigned integers | `np.uint8` - `np.uint64` | `'u1'`, `'u2'`, `'u4'`, `'u8'` |\n",
    "| signed integers | `np.int8` - `np.int64` | `'i1'`, `'i2'`, `'i4'`, `'i8'` |\n",
    "| floating point | `np.float16` - `np.float128` | `'f2'`, `'f4'`, `'f8'`, `'f16'` |\n",
    "| complex | `np.complex64`, `np.complex128` | `'c8'`, `'c16'` |\n",
    "\n",
    "You can create a new data type by calling its constructor, [`np.dtype()`](https://docs.scipy.org/doc/numpy/reference/generated/numpy.dtype.html), with either a NumPy defined type, or the character code.\n",
    "\n",
    "Character codes can have `'<'` or `'>'` prepended, to indicate whether the type is little or big endian. If unspecified, native encoding is used, which for all practical purposes is going to be little endian."
   ]
  },
  {
   "cell_type": "markdown",
   "metadata": {},
   "source": [
    "### Exercise 3\n",
    "\n",
    "Let's play a little with dtype views:\n",
    "\n",
    " 1. Create a simple array of a type you feel comfortable you understand, e.g. `np.arange(4, dtype=np.uint16)`.\n",
    " 2. Take a view of type `np.uint8` of your array. This will give you the raw byte contents of your array. Is this what you were expecting?\n",
    " 3. Take a few views of your array, with dtypes of larger itemsize, or changing the endianess of the data type. Try to predict what the output will be before running the examples.\n",
    " 4. Take a look at the wikipedia page on single precision floating point numbers, more specifically its [examples of encodings](https://en.wikipedia.org/wiki/Single-precision_floating-point_format#Single-precision_examples). Create arrays of four `np.uint8` values which, when viewed as a `np.float32` give the values 1, -2, and 1/3."
   ]
  },
  {
   "cell_type": "code",
   "execution_count": 33,
   "metadata": {},
   "outputs": [
    {
     "data": {
      "text/plain": [
       "array([0, 1, 2, 3], dtype=uint16)"
      ]
     },
     "execution_count": 33,
     "metadata": {},
     "output_type": "execute_result"
    }
   ],
   "source": [
    "a = np.arange(4, dtype=np.uint16)\n",
    "a"
   ]
  },
  {
   "cell_type": "code",
   "execution_count": 34,
   "metadata": {},
   "outputs": [
    {
     "data": {
      "text/plain": [
       "array([0, 0, 1, 0, 2, 0, 3, 0], dtype=uint8)"
      ]
     },
     "execution_count": 34,
     "metadata": {},
     "output_type": "execute_result"
    }
   ],
   "source": [
    "a.view(np.uint8)"
   ]
  },
  {
   "cell_type": "code",
   "execution_count": 35,
   "metadata": {},
   "outputs": [
    {
     "data": {
      "text/plain": [
       "array([ 65536, 196610], dtype=uint32)"
      ]
     },
     "execution_count": 35,
     "metadata": {},
     "output_type": "execute_result"
    }
   ],
   "source": [
    "# A np.uint32 is like adding to each item the next multiplied by 65536.\n",
    "a.view(np.uint32)"
   ]
  },
  {
   "cell_type": "code",
   "execution_count": 36,
   "metadata": {},
   "outputs": [
    {
     "data": {
      "text/plain": [
       "array([1, 2, 3], dtype=uint16)"
      ]
     },
     "execution_count": 36,
     "metadata": {},
     "output_type": "execute_result"
    }
   ],
   "source": [
    "# A weird one, see below for details!\n",
    "a.view(np.uint8)[1:-1].view('>u2')"
   ]
  },
  {
   "cell_type": "markdown",
   "metadata": {},
   "source": [
    "![Exercise 3](img/exercise3.png \"Exercise 3\")"
   ]
  },
  {
   "cell_type": "code",
   "execution_count": 37,
   "metadata": {},
   "outputs": [
    {
     "data": {
      "text/plain": [
       "array([ 1.], dtype=float32)"
      ]
     },
     "execution_count": 37,
     "metadata": {},
     "output_type": "execute_result"
    }
   ],
   "source": [
    "# 1.0 = 0x3f800000\n",
    "np.array([0x0, 0x00, 0x80, 0x3f], dtype=np.uint8).view(np.float32)"
   ]
  },
  {
   "cell_type": "code",
   "execution_count": 38,
   "metadata": {},
   "outputs": [
    {
     "data": {
      "text/plain": [
       "array([-2.], dtype=float32)"
      ]
     },
     "execution_count": 38,
     "metadata": {},
     "output_type": "execute_result"
    }
   ],
   "source": [
    "# 2.0 = 0xc0000000\n",
    "np.array([0x0, 0x00, 0x00, 0xc0], dtype=np.uint8).view(np.float32)"
   ]
  },
  {
   "cell_type": "code",
   "execution_count": 39,
   "metadata": {},
   "outputs": [
    {
     "data": {
      "text/plain": [
       "array([ 0.33333334], dtype=float32)"
      ]
     },
     "execution_count": 39,
     "metadata": {},
     "output_type": "execute_result"
    }
   ],
   "source": [
    "# 1 / 3 = 0x3eaaaaab\n",
    "np.array([0xab, 0xaa, 0xaa, 0x3e], dtype=np.uint8).view(np.float32)"
   ]
  },
  {
   "cell_type": "markdown",
   "metadata": {},
   "source": [
    "## The Constructor They Don't Want You To Know About.\n",
    "\n",
    "You typically construct your NumPy arrays using [one of the many factory fuctions](https://docs.scipy.org/doc/numpy-1.12.0/reference/routines.array-creation.html) provided, [`np.array()`](https://docs.scipy.org/doc/numpy-1.12.0/reference/generated/numpy.array.html) being the most popular.\n",
    "But it is also possible to call the `np.ndarray` object constructor directly.\n",
    "You will typically not want to do this, because there are probably simpler alternatives.\n",
    "But it is a great way of putting your understanding of views of arrays to the test!\n",
    "\n",
    "You can check [the full documentation](https://docs.scipy.org/doc/numpy-1.12.0/reference/generated/numpy.ndarray.html), but the `np.ndarray` constructor takes the following arguments that we care about:\n",
    "\n",
    " * **shape**: the shape of the returned array,\n",
    " * **dtype**: the data type of the returned array,\n",
    " * **buffer**: an object to reuse the underlying memory from, e.g. an existing array or its `.data` attribute,\n",
    " * **offset**: by how many bytes to move the starting data pointer of the returned array relative to the passed buffer,\n",
    " * **strides**: the strides of the returned array."
   ]
  },
  {
   "cell_type": "markdown",
   "metadata": {},
   "source": [
    "### Exercise 4\n",
    "\n",
    "Write a function, using the `np.ndarray` constructor, that takes a one dimensional array and returns a reversed view of it."
   ]
  },
  {
   "cell_type": "code",
   "execution_count": 42,
   "metadata": {},
   "outputs": [
    {
     "data": {
      "text/plain": [
       "array([ 9.,  8.,  7.,  6.,  5.,  4.,  3.,  2.,  1.,  0.], dtype=float32)"
      ]
     },
     "execution_count": 42,
     "metadata": {},
     "output_type": "execute_result"
    }
   ],
   "source": [
    "def reversed_array(array):\n",
    "    \"\"\"Returns a reversed view of an array.\"\"\"\n",
    "    assert isinstance(array, np.ndarray)  # Must be a numpy array.\n",
    "    assert array.ndim == 1  # Must be one-dimensional\n",
    "    return np.ndarray(\n",
    "        shape=array.shape,\n",
    "        dtype=array.dtype,\n",
    "        buffer=array,\n",
    "        offset=(len(array) - 1) * array.strides[0],\n",
    "        strides=(-array.strides[0],))\n",
    "\n",
    "a = np.arange(10, dtype=np.float32)\n",
    "reversed_array(a)"
   ]
  },
  {
   "cell_type": "markdown",
   "metadata": {},
   "source": [
    "## Reshaping Into Higher Dimensions\n",
    "\n",
    "So far we have sticked to one dimensional arrays. Things get substantially more interesting when we move into higher dimensions.\n",
    "\n",
    "One way of getting views with a different number of dimensions is by using the [`.reshape()`](https://docs.scipy.org/doc/numpy/reference/generated/numpy.ndarray.reshape.html) method of NumPy arrays, or the equivalent [`np.reshape()`](https://docs.scipy.org/doc/numpy/reference/generated/numpy.reshape.html) function.\n",
    "\n",
    "The first argument to any of the reshape functions is the new shape of the array. When providing it, keep in mind: \n",
    "\n",
    " * the total size of the array must stay unchanged, i.e. the product of the values of the new shape tuple must be equal to the product of the values of the old shape tuple.\n",
    " * by entering `-1` for one of the new dimensions, you can have NumPy compute its value for you, but the other dimensions must be compatible with the calculated one being an integer.\n",
    " \n",
    "`.reshape()` can also take an `order=` kwarg, which can be set to `'C'` (as the programming language) or `'F'` (for the Fortran programming language). This correspond to [row and column major orders](https://en.wikipedia.org/wiki/Row-_and_column-major_order), respectively.\n",
    "\n",
    "### Exercise 5\n",
    "\n",
    "Let's look at how multidimensional arrays are represented in NumPy with an exercise.\n",
    "\n",
    " 1. Create a small linear array with a total length that is a multiple of two different small primes, e.g. `6 = 2 * 3`.\n",
    " 2. Reshape the array into a two dimensional one, starting with the default `order='C'`. Try both possible combinations of rows and columns, e.g. `(2, 3)` and `(3, 2)`. Look at the resulting arrays, and compare their metadata. Do you understand what's going on?\n",
    " 3. Try the same reshaping with `order='F'`. Can you see what the differences are?\n",
    " 4. If you feel confident with these, give a higher dimensional array a try."
   ]
  },
  {
   "cell_type": "code",
   "execution_count": 43,
   "metadata": {},
   "outputs": [
    {
     "data": {
      "text/plain": [
       "array([0, 1, 2, 3, 4, 5], dtype=uint16)"
      ]
     },
     "execution_count": 43,
     "metadata": {},
     "output_type": "execute_result"
    }
   ],
   "source": [
    "a = np.arange(2 * 3, dtype=np.uint16)\n",
    "a"
   ]
  },
  {
   "cell_type": "code",
   "execution_count": 44,
   "metadata": {},
   "outputs": [
    {
     "data": {
      "text/plain": [
       "array([[0, 1, 2],\n",
       "       [3, 4, 5]], dtype=uint16)"
      ]
     },
     "execution_count": 44,
     "metadata": {},
     "output_type": "execute_result"
    }
   ],
   "source": [
    "a.reshape((2, 3))"
   ]
  },
  {
   "cell_type": "code",
   "execution_count": 45,
   "metadata": {},
   "outputs": [
    {
     "data": {
      "text/plain": [
       "array([[0, 1],\n",
       "       [2, 3],\n",
       "       [4, 5]], dtype=uint16)"
      ]
     },
     "execution_count": 45,
     "metadata": {},
     "output_type": "execute_result"
    }
   ],
   "source": [
    "a.reshape((3, 2))"
   ]
  },
  {
   "cell_type": "code",
   "execution_count": 46,
   "metadata": {},
   "outputs": [
    {
     "name": "stdout",
     "output_type": "stream",
     "text": [
      "class        :        ndarray :        ndarray\n",
      "shape        :         (2, 3) :         (3, 2)\n",
      "strides      :         (6, 2) :         (4, 2)\n",
      "itemsize     :              2 :              2\n",
      "aligned      :           True :           True\n",
      "contiguous   :           True :           True\n",
      "fortran      :          False :          False\n",
      "data pointer : 0x7f8f388999a0 : 0x7f8f388999a0\n",
      "byteorder    :         little :         little\n",
      "byteswap     :          False :          False\n",
      "type         :         uint16 :         uint16\n"
     ]
    }
   ],
   "source": [
    "info_for_two(a.reshape((2, 3)), a.reshape((3, 2)))"
   ]
  },
  {
   "cell_type": "code",
   "execution_count": 47,
   "metadata": {},
   "outputs": [
    {
     "data": {
      "text/plain": [
       "array([[0, 2, 4],\n",
       "       [1, 3, 5]], dtype=uint16)"
      ]
     },
     "execution_count": 47,
     "metadata": {},
     "output_type": "execute_result"
    }
   ],
   "source": [
    "a.reshape((2, 3), order='F')"
   ]
  },
  {
   "cell_type": "code",
   "execution_count": 48,
   "metadata": {},
   "outputs": [
    {
     "data": {
      "text/plain": [
       "array([[0, 3],\n",
       "       [1, 4],\n",
       "       [2, 5]], dtype=uint16)"
      ]
     },
     "execution_count": 48,
     "metadata": {},
     "output_type": "execute_result"
    }
   ],
   "source": [
    "a.reshape((3, 2), order='F')"
   ]
  },
  {
   "cell_type": "code",
   "execution_count": 49,
   "metadata": {},
   "outputs": [
    {
     "name": "stdout",
     "output_type": "stream",
     "text": [
      "class        :        ndarray :        ndarray\n",
      "shape        :         (2, 3) :         (3, 2)\n",
      "strides      :         (2, 4) :         (2, 6)\n",
      "itemsize     :              2 :              2\n",
      "aligned      :           True :           True\n",
      "contiguous   :          False :          False\n",
      "fortran      :           True :           True\n",
      "data pointer : 0x7f8f388999a0 : 0x7f8f388999a0\n",
      "byteorder    :         little :         little\n",
      "byteswap     :          False :          False\n",
      "type         :         uint16 :         uint16\n"
     ]
    }
   ],
   "source": [
    "info_for_two(a.reshape((2, 3), order='F'), a.reshape((3, 2), order='F'))"
   ]
  },
  {
   "cell_type": "markdown",
   "metadata": {},
   "source": [
    "### Exercise 5 debrief\n",
    "\n",
    "As the examples show, an n-dimensional array will have an n item tuple `.shape` and `.strides`. The number of dimensions can be directly queried from the `.ndim` attribute.\n",
    "\n",
    "The shape tells us how large the array is along each dimension, the strides tell us how many bytes to skip in memory to get to the next item along each dimension.\n",
    "\n",
    "When we reshape an array using C order, a.k.a. row major order, items along higher dimensions are closer in memory. When we use Fortran orser, a.k.a. column major order, it is items along smaller dimensions that are closer."
   ]
  },
  {
   "cell_type": "markdown",
   "metadata": {},
   "source": [
    "![Exercise 5](img/exercise5.png \"Exercise 5\")"
   ]
  },
  {
   "cell_type": "markdown",
   "metadata": {},
   "source": [
    "## Reshaping with a purpose\n",
    "\n",
    "One typical use of reshaping is to apply some aggregation function to equal subdivision of an array.\n",
    "\n",
    "Say you have, e.g. a 12 item 1D array, and would like to compute the sum of every three items. This is how this is typically accomplished:"
   ]
  },
  {
   "cell_type": "code",
   "execution_count": 50,
   "metadata": {},
   "outputs": [
    {
     "data": {
      "text/plain": [
       "array([  0.,   1.,   2.,   3.,   4.,   5.,   6.,   7.,   8.,   9.,  10.,\n",
       "        11.])"
      ]
     },
     "execution_count": 50,
     "metadata": {},
     "output_type": "execute_result"
    }
   ],
   "source": [
    "a = np.arange(12, dtype=float)\n",
    "a"
   ]
  },
  {
   "cell_type": "code",
   "execution_count": 52,
   "metadata": {},
   "outputs": [
    {
     "data": {
      "text/plain": [
       "array([  3.,  12.,  21.,  30.])"
      ]
     },
     "execution_count": 52,
     "metadata": {},
     "output_type": "execute_result"
    }
   ],
   "source": [
    "a.reshape(4, 3).sum(axis=-1)"
   ]
  },
  {
   "cell_type": "markdown",
   "metadata": {},
   "source": [
    "You can apply fancier functions than `.sum()`, e.g. let's compute the variance of each group:"
   ]
  },
  {
   "cell_type": "code",
   "execution_count": 53,
   "metadata": {},
   "outputs": [
    {
     "data": {
      "text/plain": [
       "array([ 0.66666667,  0.66666667,  0.66666667,  0.66666667])"
      ]
     },
     "execution_count": 53,
     "metadata": {},
     "output_type": "execute_result"
    }
   ],
   "source": [
    "a.reshape(4, 3).var(axis=-1)"
   ]
  },
  {
   "cell_type": "markdown",
   "metadata": {},
   "source": [
    "### Exercise 6\n",
    "\n",
    "Your turn to do a fancier reshaping: we will compute the average of a 2D array over non-overlapping rectangular patches:\n",
    "\n",
    " 1. Choose to small numbers `m` and `n`, e.g. `3` and `4`.\n",
    " 2. Create a 2D array, with number of rows a multiple of one of those numbers, and number of columns a multiple of the other, e.g. `15 x 24`.\n",
    " 3. Reshape and aggregate to create a 2D array holding the sums over non overlapping `m x n` tiles, e.g. a `5 x 6` array.\n",
    " 4. **Hint**: `.sum()` can take a tuple of integers as `axis=`, so you can do the whole thing in a single reshape from 2D to 4D, then aggregate back to 2D. If tyou find this confusing, doing two aggregations will also work."
   ]
  },
  {
   "cell_type": "code",
   "execution_count": 57,
   "metadata": {},
   "outputs": [],
   "source": [
    "m, n = 3, 4\n",
    "row_tiles, col_tiles = 5, 6\n",
    "a = np.arange(\n",
    "    row_tiles * m * col_tiles * n,\n",
    "    dtype=float).reshape((row_tiles*m, col_tiles*n))"
   ]
  },
  {
   "cell_type": "code",
   "execution_count": 58,
   "metadata": {},
   "outputs": [
    {
     "data": {
      "text/plain": [
       "array([[  306.,   354.,   402.,   450.,   498.,   546.],\n",
       "       [ 1170.,  1218.,  1266.,  1314.,  1362.,  1410.],\n",
       "       [ 2034.,  2082.,  2130.,  2178.,  2226.,  2274.],\n",
       "       [ 2898.,  2946.,  2994.,  3042.,  3090.,  3138.],\n",
       "       [ 3762.,  3810.,  3858.,  3906.,  3954.,  4002.]])"
      ]
     },
     "execution_count": 58,
     "metadata": {},
     "output_type": "execute_result"
    }
   ],
   "source": [
    "a.reshape(row_tiles, m, col_tiles, n).sum(axis=(1, 3))"
   ]
  },
  {
   "cell_type": "code",
   "execution_count": 60,
   "metadata": {},
   "outputs": [
    {
     "data": {
      "text/plain": [
       "array([[  306.,   354.,   402.,   450.,   498.,   546.],\n",
       "       [ 1170.,  1218.,  1266.,  1314.,  1362.,  1410.],\n",
       "       [ 2034.,  2082.,  2130.,  2178.,  2226.,  2274.],\n",
       "       [ 2898.,  2946.,  2994.,  3042.,  3090.,  3138.],\n",
       "       [ 3762.,  3810.,  3858.,  3906.,  3954.,  4002.]])"
      ]
     },
     "execution_count": 60,
     "metadata": {},
     "output_type": "execute_result"
    }
   ],
   "source": [
    "a.reshape(row_tiles, m, -1).sum(axis=1).reshape(-1, col_tiles, n).sum(axis=-1)"
   ]
  },
  {
   "cell_type": "code",
   "execution_count": 61,
   "metadata": {},
   "outputs": [
    {
     "data": {
      "text/plain": [
       "array([[0, 1, 2],\n",
       "       [3, 4, 5]])"
      ]
     },
     "execution_count": 61,
     "metadata": {},
     "output_type": "execute_result"
    }
   ],
   "source": [
    "a = np.arange(6).reshape(2, 3)\n",
    "a"
   ]
  },
  {
   "cell_type": "code",
   "execution_count": 64,
   "metadata": {},
   "outputs": [
    {
     "data": {
      "text/plain": [
       "array([[0, 3],\n",
       "       [1, 4],\n",
       "       [2, 5]])"
      ]
     },
     "execution_count": 64,
     "metadata": {},
     "output_type": "execute_result"
    }
   ],
   "source": [
    "np.transpose(a, (1, 0))"
   ]
  },
  {
   "cell_type": "markdown",
   "metadata": {},
   "source": [
    "## Rearranging dimensions\n",
    "\n",
    "Once we have a multidimensional array, rearranging the order of its dimensions is as simple as rearranging its `.shape` and `.tuple` attributes. You could do this with `np.ndarray`, but it would be a pain. NumPy has [a bunch](https://docs.scipy.org/doc/numpy/reference/routines.array-manipulation.html#transpose-like-operations) of functions for doing that, but they are all watered down versions of [`np.transpose`](https://docs.scipy.org/doc/numpy/reference/generated/numpy.transpose.html), which takes a tuple with the desired permutation of the array dimensions.\n",
    "\n",
    "### Exercise 7\n",
    "\n",
    " 1. Write a function `roll_axis_to_end` that takes an array and an axis, and makes that axis the last dimension of the array.\n",
    " 2. For extra credit, rewrite your function using `np.ndarray`."
   ]
  },
  {
   "cell_type": "code",
   "execution_count": 65,
   "metadata": {
    "collapsed": true
   },
   "outputs": [],
   "source": [
    "def roll_axis_to_end(array, axis):\n",
    "    \"\"\"Makess an axis of an array its last dimension.\"\"\"\n",
    "    assert isinstance(array, np.ndarray)\n",
    "    if not -array.ndim <= axis < array.ndim:\n",
    "        raise ValueError('Axis out of bounds')\n",
    "    if axis < 0:\n",
    "        axis += array.ndim\n",
    "    axes = list(range(array.ndim))\n",
    "    permutation = axes[:axis] + axes[axis+1:] + [axis]\n",
    "    return array.transpose(permutation)"
   ]
  },
  {
   "cell_type": "code",
   "execution_count": 66,
   "metadata": {},
   "outputs": [
    {
     "name": "stdout",
     "output_type": "stream",
     "text": [
      "class        :        ndarray :        ndarray\n",
      "shape        :      (4, 5, 6) :      (4, 6, 5)\n",
      "strides      :   (240, 48, 8) :   (240, 8, 48)\n",
      "itemsize     :              8 :              8\n",
      "aligned      :           True :           True\n",
      "contiguous   :           True :          False\n",
      "fortran      :          False :          False\n",
      "data pointer : 0x7f8f388e1070 : 0x7f8f388e1070\n",
      "byteorder    :         little :         little\n",
      "byteswap     :          False :          False\n",
      "type         :        float64 :        float64\n"
     ]
    }
   ],
   "source": [
    "a = np.zeros((4, 5 ,6))\n",
    "info_for_two(a, roll_axis_to_end(a, 1))"
   ]
  },
  {
   "cell_type": "markdown",
   "metadata": {},
   "source": [
    "## Playing with strides\n",
    "\n",
    "For the rest of the workshop we are going to dome some fancy tricks with strides, to create interesting views of an existing array."
   ]
  },
  {
   "cell_type": "markdown",
   "metadata": {},
   "source": [
    "### Exercise 8\n",
    "\n",
    "Create a function to extract the diagonal of a 2-D array, using the `np.ndarray` constructor."
   ]
  },
  {
   "cell_type": "code",
   "execution_count": 68,
   "metadata": {
    "collapsed": true
   },
   "outputs": [],
   "source": [
    "def diagonal(array, k=0):\n",
    "    \"\"\"Extracts the k-th diagonal of a 2D array.\"\"\"\n",
    "    assert isinstance(array, np.ndarray)\n",
    "    assert array.ndim == 2\n",
    "    rows, cols = array.shape\n",
    "    row_stride, col_stride = array.strides\n",
    "    if k < 0:\n",
    "        k = -k\n",
    "        assert k <= rows\n",
    "        offset = k * row_stride\n",
    "        size = min(rows - k, cols)\n",
    "    else:\n",
    "        assert k <= cols\n",
    "        offset = k * col_stride\n",
    "        size = min(rows, cols - k)\n",
    "    return np.ndarray(\n",
    "        shape=(size,),\n",
    "        dtype=array.dtype,\n",
    "        buffer=array,\n",
    "        offset=offset,\n",
    "        strides=(row_stride + col_stride,))"
   ]
  },
  {
   "cell_type": "code",
   "execution_count": 69,
   "metadata": {},
   "outputs": [
    {
     "data": {
      "text/plain": [
       "array([[ 0,  1,  2,  3,  4],\n",
       "       [ 5,  6,  7,  8,  9],\n",
       "       [10, 11, 12, 13, 14]])"
      ]
     },
     "execution_count": 69,
     "metadata": {},
     "output_type": "execute_result"
    }
   ],
   "source": [
    "a = np.arange(3 * 5).reshape(3, 5)\n",
    "a"
   ]
  },
  {
   "cell_type": "code",
   "execution_count": 70,
   "metadata": {},
   "outputs": [
    {
     "data": {
      "text/plain": [
       "array([ 0,  6, 12])"
      ]
     },
     "execution_count": 70,
     "metadata": {},
     "output_type": "execute_result"
    }
   ],
   "source": [
    "diagonal(a)"
   ]
  },
  {
   "cell_type": "code",
   "execution_count": 71,
   "metadata": {},
   "outputs": [
    {
     "data": {
      "text/plain": [
       "array([3, 9])"
      ]
     },
     "execution_count": 71,
     "metadata": {},
     "output_type": "execute_result"
    }
   ],
   "source": [
    "diagonal(a, k=3)"
   ]
  },
  {
   "cell_type": "code",
   "execution_count": 72,
   "metadata": {},
   "outputs": [
    {
     "data": {
      "text/plain": [
       "array([10])"
      ]
     },
     "execution_count": 72,
     "metadata": {},
     "output_type": "execute_result"
    }
   ],
   "source": [
    "diagonal(a, -2)"
   ]
  },
  {
   "cell_type": "markdown",
   "metadata": {},
   "source": [
    "### Exercise 9\n",
    "\n",
    " 1. Something very interesting happens when we set a stride to zero. Give that idea some thought and then:\n",
    " 2. Create two functions, `stacked_column_vector` and `stacked_row_vector`, that take a 1D array (the vector), and an integer `n`, and create a 2D view of the array that stack `n` copies of the vector, either as columns or rows of the view.\n",
    " 3. Use this functions to create an `outer_product` function that takes two 1D vectors and computes their outer product."
   ]
  },
  {
   "cell_type": "code",
   "execution_count": 74,
   "metadata": {
    "collapsed": true
   },
   "outputs": [],
   "source": [
    "def stacked_column_view(vector, n=1):\n",
    "    \"\"\"Creates a view stacking vector n times as columns.\"\"\"\n",
    "    assert isinstance(vector, np.ndarray)\n",
    "    assert vector.ndim == 1\n",
    "    size, = vector.shape\n",
    "    stride, = vector.strides\n",
    "    return np.ndarray(\n",
    "        shape=(size, n),  # (n, size) for row\n",
    "        dtype=vector.dtype,\n",
    "        buffer=vector,\n",
    "        offset=0,\n",
    "        strides=(stride, 0))  # (0, stride) for row"
   ]
  },
  {
   "cell_type": "code",
   "execution_count": 75,
   "metadata": {},
   "outputs": [
    {
     "data": {
      "text/plain": [
       "array([[0, 0, 0, 0, 0, 0],\n",
       "       [1, 1, 1, 1, 1, 1],\n",
       "       [2, 2, 2, 2, 2, 2],\n",
       "       [3, 3, 3, 3, 3, 3],\n",
       "       [4, 4, 4, 4, 4, 4]])"
      ]
     },
     "execution_count": 75,
     "metadata": {},
     "output_type": "execute_result"
    }
   ],
   "source": [
    "stacked_column_view(np.arange(5), 6)"
   ]
  },
  {
   "cell_type": "code",
   "execution_count": 77,
   "metadata": {
    "collapsed": true
   },
   "outputs": [],
   "source": [
    "def stacked_row_view(vector, n=1):\n",
    "    \"\"\"Creates a view stacking vector n times as rows.\"\"\"\n",
    "    assert isinstance(vector, np.ndarray)\n",
    "    assert vector.ndim == 1\n",
    "    size, = vector.shape\n",
    "    stride, = vector.strides\n",
    "    return np.ndarray(\n",
    "        shape=(n, size),\n",
    "        dtype=vector.dtype,\n",
    "        buffer=vector,\n",
    "        offset=0,\n",
    "        strides=(0, stride))"
   ]
  },
  {
   "cell_type": "code",
   "execution_count": 78,
   "metadata": {},
   "outputs": [
    {
     "data": {
      "text/plain": [
       "array([[0, 1, 2, 3, 4, 5],\n",
       "       [0, 1, 2, 3, 4, 5],\n",
       "       [0, 1, 2, 3, 4, 5],\n",
       "       [0, 1, 2, 3, 4, 5],\n",
       "       [0, 1, 2, 3, 4, 5]])"
      ]
     },
     "execution_count": 78,
     "metadata": {},
     "output_type": "execute_result"
    }
   ],
   "source": [
    "stacked_row_view(np.arange(6), 5)"
   ]
  },
  {
   "cell_type": "code",
   "execution_count": 79,
   "metadata": {
    "collapsed": true
   },
   "outputs": [],
   "source": [
    "def outer_product(one_vector, another_vector):\n",
    "    assert isinstance(one_vector, np.ndarray) and one_vector.ndim == 1\n",
    "    assert isinstance(another_vector, np.ndarray) and another_vector.ndim == 1\n",
    "    return (stacked_column_view(one_vector, len(another_vector)) *\n",
    "            stacked_row_view(another_vector, len(one_vector)))"
   ]
  },
  {
   "cell_type": "code",
   "execution_count": 81,
   "metadata": {},
   "outputs": [
    {
     "data": {
      "text/plain": [
       "array([[0, 0, 0, 0],\n",
       "       [0, 1, 2, 3],\n",
       "       [0, 2, 4, 6]])"
      ]
     },
     "execution_count": 81,
     "metadata": {},
     "output_type": "execute_result"
    }
   ],
   "source": [
    "outer_product(np.arange(3), np.arange(4))"
   ]
  },
  {
   "cell_type": "code",
   "execution_count": 83,
   "metadata": {},
   "outputs": [
    {
     "data": {
      "text/plain": [
       "array([[0, 0, 0, 0],\n",
       "       [0, 1, 2, 3],\n",
       "       [0, 2, 4, 6]])"
      ]
     },
     "execution_count": 83,
     "metadata": {},
     "output_type": "execute_result"
    }
   ],
   "source": [
    "a = np.arange(3)\n",
    "b = np.arange(4)\n",
    "a.reshape(3, 1) * b.reshape(1, 4)\n",
    "a[:, None] * b"
   ]
  },
  {
   "cell_type": "markdown",
   "metadata": {},
   "source": [
    "### Exercise 10\n",
    "\n",
    "In the last exercise we used zero strides to reuse an item more than once in the resulting view. Let's try to build on that idea:\n",
    "\n",
    " 1. Write a function that takes a 1D array and a `window` integer value, and creates a 2D view of the array, each row a view through a sliding window of size `window` into the original array.\n",
    " 2. **Hint**: There are `len(array) - window + 1` such \"views through a window\".\n",
    " 3. **Another hint**: Here's a small example expected run:\n",
    " \n",
    "    `>>> sliding_window(np.arange(4), 2)\n",
    "    [[0, 1],\n",
    "     [1, 2],\n",
    "     [2, 3]]`"
   ]
  },
  {
   "cell_type": "code",
   "execution_count": 84,
   "metadata": {
    "collapsed": true
   },
   "outputs": [],
   "source": [
    "def sliding_window(array, window):\n",
    "    \"\"\"Creates a sliding window view of an array.\"\"\"\n",
    "    assert isinstance(array, np.ndarray)\n",
    "    assert array.ndim == 1\n",
    "    assert 0 < window <= len(array)\n",
    "    return np.ndarray(\n",
    "        shape=(len(array) - window + 1, window),\n",
    "        dtype=array.dtype,\n",
    "        buffer=array,\n",
    "        strides=array.strides * 2)\n",
    "    "
   ]
  },
  {
   "cell_type": "code",
   "execution_count": 86,
   "metadata": {},
   "outputs": [
    {
     "data": {
      "text/plain": [
       "array([[1, 2],\n",
       "       [2, 3],\n",
       "       [3, 4]])"
      ]
     },
     "execution_count": 86,
     "metadata": {},
     "output_type": "execute_result"
    }
   ],
   "source": [
    "a = np.arange(4)\n",
    "sliding_window(a, 2)"
   ]
  },
  {
   "cell_type": "markdown",
   "metadata": {},
   "source": [
    "## Parting pro tip\n",
    "\n",
    "NumPy's worst kept secret is the existence of a mostly undocumented, mostly hidden, `as_strided` function, that makes creating views with funny strides much easier (and also much more dangerous!) than using `np.ndarray`. Here's the available documentation:"
   ]
  },
  {
   "cell_type": "code",
   "execution_count": 87,
   "metadata": {},
   "outputs": [
    {
     "name": "stdout",
     "output_type": "stream",
     "text": [
      " as_strided(x, shape=None, strides=None, subok=False)\n",
      "\n",
      "Make an ndarray from the given array with the given shape and strides.\n",
      "    \n"
     ]
    }
   ],
   "source": [
    "from numpy.lib.stride_tricks import as_strided\n",
    "\n",
    "np.info(as_strided)"
   ]
  },
  {
   "cell_type": "markdown",
   "metadata": {},
   "source": [
    "Note that this function will not protect you, the way `np.ndarray` does, from accessing memory that is not indexed by the array the view is taken for. You may want to do that, but be wary of the world of segmentation faults you are getting yourself into!"
   ]
  },
  {
   "cell_type": "code",
   "execution_count": 93,
   "metadata": {},
   "outputs": [
    {
     "data": {
      "text/plain": [
       "array([0, 1, 2, 3, 4, 5])"
      ]
     },
     "execution_count": 93,
     "metadata": {},
     "output_type": "execute_result"
    }
   ],
   "source": [
    "a = np.arange(6)\n",
    "a"
   ]
  },
  {
   "cell_type": "code",
   "execution_count": 90,
   "metadata": {},
   "outputs": [
    {
     "name": "stdout",
     "output_type": "stream",
     "text": [
      "class:  ndarray\n",
      "shape:  (6,)\n",
      "strides:  (8,)\n",
      "itemsize:  8\n",
      "aligned:  True\n",
      "contiguous:  True\n",
      "fortran:  True\n",
      "data pointer: 0x7f8f3892ca90\n",
      "byteorder:  little\n",
      "byteswap:  False\n",
      "type: int64\n"
     ]
    }
   ],
   "source": [
    "np.info(a)"
   ]
  },
  {
   "cell_type": "code",
   "execution_count": 95,
   "metadata": {},
   "outputs": [
    {
     "data": {
      "text/plain": [
       "array([  0,   2,   4, 108,   1, 956])"
      ]
     },
     "execution_count": 95,
     "metadata": {},
     "output_type": "execute_result"
    }
   ],
   "source": [
    "as_strided(a, shape=a.shape, strides=(16,))"
   ]
  }
 ],
 "metadata": {
  "kernelspec": {
   "display_name": "Python 3",
   "language": "python",
   "name": "python3"
  },
  "language_info": {
   "codemirror_mode": {
    "name": "ipython",
    "version": 3
   },
   "file_extension": ".py",
   "mimetype": "text/x-python",
   "name": "python",
   "nbconvert_exporter": "python",
   "pygments_lexer": "ipython3",
   "version": "3.6.3"
  }
 },
 "nbformat": 4,
 "nbformat_minor": 2
}
