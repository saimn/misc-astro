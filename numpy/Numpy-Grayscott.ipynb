{
 "cells": [
  {
   "cell_type": "code",
   "execution_count": 1,
   "id": "9fd3183e-cf9a-4f5a-b8f0-73ea5ace2fc2",
   "metadata": {
    "execution": {
     "iopub.execute_input": "2024-04-30T07:32:26.150579Z",
     "iopub.status.busy": "2024-04-30T07:32:26.150443Z",
     "iopub.status.idle": "2024-04-30T07:32:26.578085Z",
     "shell.execute_reply": "2024-04-30T07:32:26.577354Z",
     "shell.execute_reply.started": "2024-04-30T07:32:26.150562Z"
    }
   },
   "outputs": [],
   "source": [
    "%matplotlib inline\n",
    "\n",
    "import statistics\n",
    "import timeit\n",
    "from collections import defaultdict\n",
    "\n",
    "import matplotlib.pyplot as plt\n",
    "import numpy as np"
   ]
  },
  {
   "cell_type": "code",
   "execution_count": 2,
   "id": "e4f31104-1c89-49fa-9127-29ec6ff1bd13",
   "metadata": {
    "execution": {
     "iopub.execute_input": "2024-04-30T07:32:26.579540Z",
     "iopub.status.busy": "2024-04-30T07:32:26.579292Z",
     "iopub.status.idle": "2024-04-30T07:32:26.586416Z",
     "shell.execute_reply": "2024-04-30T07:32:26.586012Z",
     "shell.execute_reply.started": "2024-04-30T07:32:26.579525Z"
    }
   },
   "outputs": [],
   "source": [
    "shape = (10, 256, 256)\n",
    "ima = np.random.uniform(0, 50, size=shape)\n",
    "coef = np.random.uniform(0, 50, size=shape[0])"
   ]
  },
  {
   "cell_type": "code",
   "execution_count": 3,
   "id": "dd6e51b7-8e78-4c91-b21e-b725d613b2da",
   "metadata": {
    "execution": {
     "iopub.execute_input": "2024-04-30T07:32:26.587722Z",
     "iopub.status.busy": "2024-04-30T07:32:26.587574Z",
     "iopub.status.idle": "2024-04-30T07:32:26.600748Z",
     "shell.execute_reply": "2024-04-30T07:32:26.600261Z",
     "shell.execute_reply.started": "2024-04-30T07:32:26.587708Z"
    }
   },
   "outputs": [],
   "source": [
    "def calib_loop_inplace(ima, coef):\n",
    "    for idx in range(coef.shape[0]):\n",
    "        ima[idx] *= coef[idx]"
   ]
  },
  {
   "cell_type": "code",
   "execution_count": 4,
   "id": "0bccc4b7-dc10-4814-b909-bdffa6b5e1ed",
   "metadata": {
    "execution": {
     "iopub.execute_input": "2024-04-30T07:32:26.601595Z",
     "iopub.status.busy": "2024-04-30T07:32:26.601436Z",
     "iopub.status.idle": "2024-04-30T07:32:26.609814Z",
     "shell.execute_reply": "2024-04-30T07:32:26.609277Z",
     "shell.execute_reply.started": "2024-04-30T07:32:26.601580Z"
    }
   },
   "outputs": [],
   "source": [
    "def calib_loop_copy(ima, coef):\n",
    "    out = ima.copy()\n",
    "    for idx in range(coef.shape[0]):\n",
    "        out[idx] *= coef[idx]\n",
    "    return out"
   ]
  },
  {
   "cell_type": "code",
   "execution_count": 5,
   "id": "d54977f1-2cc9-4b77-9b3e-d5d5e31d5cfe",
   "metadata": {
    "execution": {
     "iopub.execute_input": "2024-04-30T07:32:26.610673Z",
     "iopub.status.busy": "2024-04-30T07:32:26.610527Z",
     "iopub.status.idle": "2024-04-30T07:32:26.619346Z",
     "shell.execute_reply": "2024-04-30T07:32:26.618971Z",
     "shell.execute_reply.started": "2024-04-30T07:32:26.610659Z"
    }
   },
   "outputs": [],
   "source": [
    "def calib_loop_empty(ima, coef):\n",
    "    out = np.empty_like(ima)\n",
    "    for idx in range(coef.shape[0]):\n",
    "        out[idx] = ima[idx] * coef[idx]\n",
    "    return out"
   ]
  },
  {
   "cell_type": "code",
   "execution_count": 6,
   "id": "00890253-ab14-4580-ad09-99ed22eb51ab",
   "metadata": {
    "execution": {
     "iopub.execute_input": "2024-04-30T07:32:26.620110Z",
     "iopub.status.busy": "2024-04-30T07:32:26.619961Z",
     "iopub.status.idle": "2024-04-30T07:32:26.628415Z",
     "shell.execute_reply": "2024-04-30T07:32:26.628045Z",
     "shell.execute_reply.started": "2024-04-30T07:32:26.620097Z"
    }
   },
   "outputs": [],
   "source": [
    "def calib_moveaxis(ima, coef):\n",
    "    return np.moveaxis(np.moveaxis(ima, 0, 2) * coef, 2, 0)"
   ]
  },
  {
   "cell_type": "code",
   "execution_count": 7,
   "id": "cb586bcf-c976-4d39-9b46-1c357f28ca2c",
   "metadata": {
    "execution": {
     "iopub.execute_input": "2024-04-30T07:32:26.629093Z",
     "iopub.status.busy": "2024-04-30T07:32:26.628950Z",
     "iopub.status.idle": "2024-04-30T07:32:26.637352Z",
     "shell.execute_reply": "2024-04-30T07:32:26.636934Z",
     "shell.execute_reply.started": "2024-04-30T07:32:26.629079Z"
    }
   },
   "outputs": [],
   "source": [
    "def calib_broadcast(ima, coef):\n",
    "    return ima * coef[:, None, None]"
   ]
  },
  {
   "cell_type": "code",
   "execution_count": 8,
   "id": "09740dae-68e7-4ae9-86fa-4eac58d824f6",
   "metadata": {
    "execution": {
     "iopub.execute_input": "2024-04-30T07:32:26.638251Z",
     "iopub.status.busy": "2024-04-30T07:32:26.638088Z",
     "iopub.status.idle": "2024-04-30T07:32:26.645645Z",
     "shell.execute_reply": "2024-04-30T07:32:26.645249Z",
     "shell.execute_reply.started": "2024-04-30T07:32:26.638232Z"
    }
   },
   "outputs": [],
   "source": [
    "# %timeit calib_loop_inplace(ima, coef)"
   ]
  },
  {
   "cell_type": "code",
   "execution_count": 9,
   "id": "a7dfb400-577b-46b5-af39-418d4a7b7bf1",
   "metadata": {
    "execution": {
     "iopub.execute_input": "2024-04-30T07:32:26.646346Z",
     "iopub.status.busy": "2024-04-30T07:32:26.646215Z",
     "iopub.status.idle": "2024-04-30T07:32:28.390845Z",
     "shell.execute_reply": "2024-04-30T07:32:28.390463Z",
     "shell.execute_reply.started": "2024-04-30T07:32:26.646333Z"
    }
   },
   "outputs": [
    {
     "name": "stdout",
     "output_type": "stream",
     "text": [
      "204 µs ± 13 µs per loop (mean ± std. dev. of 7 runs, 1,000 loops each)\n"
     ]
    }
   ],
   "source": [
    "%timeit calib_loop_copy(ima, coef)"
   ]
  },
  {
   "cell_type": "code",
   "execution_count": 10,
   "id": "e76b5e04-01d1-4257-9172-7210358ee339",
   "metadata": {
    "execution": {
     "iopub.execute_input": "2024-04-30T07:32:28.391861Z",
     "iopub.status.busy": "2024-04-30T07:32:28.391602Z",
     "iopub.status.idle": "2024-04-30T07:32:30.383075Z",
     "shell.execute_reply": "2024-04-30T07:32:30.382603Z",
     "shell.execute_reply.started": "2024-04-30T07:32:28.391838Z"
    }
   },
   "outputs": [
    {
     "name": "stdout",
     "output_type": "stream",
     "text": [
      "237 µs ± 40.6 µs per loop (mean ± std. dev. of 7 runs, 1,000 loops each)\n"
     ]
    }
   ],
   "source": [
    "%timeit calib_loop_empty(ima, coef)"
   ]
  },
  {
   "cell_type": "code",
   "execution_count": 11,
   "id": "9597c84d-923b-49b6-831b-5e99ea16bc69",
   "metadata": {
    "execution": {
     "iopub.execute_input": "2024-04-30T07:32:30.384313Z",
     "iopub.status.busy": "2024-04-30T07:32:30.384015Z",
     "iopub.status.idle": "2024-04-30T07:32:40.439128Z",
     "shell.execute_reply": "2024-04-30T07:32:40.438784Z",
     "shell.execute_reply.started": "2024-04-30T07:32:30.384297Z"
    }
   },
   "outputs": [
    {
     "name": "stdout",
     "output_type": "stream",
     "text": [
      "120 µs ± 7.43 µs per loop (mean ± std. dev. of 7 runs, 10,000 loops each)\n"
     ]
    }
   ],
   "source": [
    "%timeit calib_moveaxis(ima, coef)"
   ]
  },
  {
   "cell_type": "code",
   "execution_count": 12,
   "id": "6965c56f-c1e7-4dcb-9c33-eec8f3307bad",
   "metadata": {
    "execution": {
     "iopub.execute_input": "2024-04-30T07:32:40.440410Z",
     "iopub.status.busy": "2024-04-30T07:32:40.440126Z",
     "iopub.status.idle": "2024-04-30T07:32:50.156208Z",
     "shell.execute_reply": "2024-04-30T07:32:50.155718Z",
     "shell.execute_reply.started": "2024-04-30T07:32:40.440399Z"
    }
   },
   "outputs": [
    {
     "name": "stdout",
     "output_type": "stream",
     "text": [
      "118 µs ± 8.43 µs per loop (mean ± std. dev. of 7 runs, 10,000 loops each)\n"
     ]
    }
   ],
   "source": [
    "%timeit calib_broadcast(ima, coef)"
   ]
  },
  {
   "cell_type": "code",
   "execution_count": 13,
   "id": "07e100af-bb37-4a4f-8f64-03db4af45997",
   "metadata": {
    "execution": {
     "iopub.execute_input": "2024-04-30T07:32:50.157432Z",
     "iopub.status.busy": "2024-04-30T07:32:50.157130Z",
     "iopub.status.idle": "2024-04-30T07:46:31.617949Z",
     "shell.execute_reply": "2024-04-30T07:46:31.617497Z",
     "shell.execute_reply.started": "2024-04-30T07:32:50.157420Z"
    }
   },
   "outputs": [
    {
     "name": "stdout",
     "output_type": "stream",
     "text": [
      "10 calib_loop_copy 0.0019114072860002124±3.905718200995315e-05\n",
      "10 calib_loop_empty 0.001857629504000215±1.756878857027187e-05\n",
      "10 calib_moveaxis 0.001155301365000014±2.4194332786838247e-05\n",
      "10 calib_broadcast 0.0011469939490002616±7.500916499513701e-06\n",
      "100 calib_loop_copy 0.02964969104999909±0.0006957974968046706\n",
      "100 calib_loop_empty 0.026254830849998145±0.0004993032509093371\n",
      "100 calib_moveaxis 0.019836367660000177±8.439428274852374e-05\n",
      "100 calib_broadcast 0.02026571049999802±0.00035148534756375974\n",
      "1000 calib_loop_copy 0.30984102146999704±0.006688462106733548\n",
      "1000 calib_loop_empty 0.2781203468800004±0.009672330375885807\n",
      "1000 calib_moveaxis 0.20957422871999826±0.004479193187383851\n",
      "1000 calib_broadcast 0.20297025231000135±0.008399019669441088\n"
     ]
    }
   ],
   "source": [
    "res = defaultdict(list)\n",
    "sizes = (10, 100, 1_000)\n",
    "\n",
    "for size in sizes:\n",
    "    shape = (size, 512, 512)\n",
    "    ima = np.random.uniform(0, 50, size=shape)\n",
    "    coef = np.random.uniform(0, 50, size=shape[0])\n",
    "    number = 1_000 if size == 10 else 100\n",
    "\n",
    "    for func in (calib_loop_copy, calib_loop_empty, calib_moveaxis, calib_broadcast):\n",
    "        print(size, func.__name__, end=\" \")\n",
    "        t = timeit.repeat(\n",
    "            \"func(ima, coef)\",\n",
    "            globals=dict(func=func, ima=ima, coef=coef),\n",
    "            repeat=7,\n",
    "            number=number,\n",
    "        )\n",
    "        t = np.array(t) / number\n",
    "        med, std = np.median(t), np.std(t)\n",
    "        print(f\"{med}±{std}\")\n",
    "        res[func.__name__].append((med, std))"
   ]
  },
  {
   "cell_type": "code",
   "execution_count": 14,
   "id": "c211e93f-b01b-4b76-808c-3321a4268043",
   "metadata": {
    "execution": {
     "iopub.execute_input": "2024-04-30T07:46:31.618558Z",
     "iopub.status.busy": "2024-04-30T07:46:31.618445Z",
     "iopub.status.idle": "2024-04-30T07:46:31.973904Z",
     "shell.execute_reply": "2024-04-30T07:46:31.973556Z",
     "shell.execute_reply.started": "2024-04-30T07:46:31.618547Z"
    }
   },
   "outputs": [
    {
     "data": {
      "image/png": "[encoded data removed]",
      "text/plain": [
       "<Figure size 640x480 with 1 Axes>"
      ]
     },
     "metadata": {},
     "output_type": "display_data"
    }
   ],
   "source": [
    "fig, ax = plt.subplots()\n",
    "for name, arr in res.items():\n",
    "    arr = np.array(arr)\n",
    "    ax.errorbar(sizes, arr[:,0], yerr=arr[:,1], label=name)\n",
    "ax.legend()\n",
    "ax.set(xlabel=\"array size\", ylabel=\"time (s)\", xscale=\"log\", yscale=\"log\");"
   ]
  },
  {
   "cell_type": "code",
   "execution_count": 15,
   "id": "7d76dc85-96f1-4eb5-8bc0-6afa4d56fab6",
   "metadata": {
    "execution": {
     "iopub.execute_input": "2024-04-30T07:48:20.214342Z",
     "iopub.status.busy": "2024-04-30T07:48:20.214010Z",
     "iopub.status.idle": "2024-04-30T07:48:23.304714Z",
     "shell.execute_reply": "2024-04-30T07:48:23.304281Z",
     "shell.execute_reply.started": "2024-04-30T07:48:20.214321Z"
    }
   },
   "outputs": [],
   "source": [
    "shape = (10_000, 256, 256)\n",
    "ima = np.random.uniform(0, 50, size=shape)\n",
    "coef = np.random.uniform(0, 50, size=shape[0])"
   ]
  },
  {
   "cell_type": "code",
   "execution_count": 16,
   "id": "5e432d22-40ef-4c57-9046-b34080a4609b",
   "metadata": {
    "execution": {
     "iopub.execute_input": "2024-04-30T07:48:38.535740Z",
     "iopub.status.busy": "2024-04-30T07:48:38.535362Z",
     "iopub.status.idle": "2024-04-30T07:48:45.189611Z",
     "shell.execute_reply": "2024-04-30T07:48:45.188931Z",
     "shell.execute_reply.started": "2024-04-30T07:48:38.535707Z"
    }
   },
   "outputs": [
    {
     "name": "stdout",
     "output_type": "stream",
     "text": [
      "825 ms ± 20.1 ms per loop (mean ± std. dev. of 7 runs, 1 loop each)\n"
     ]
    }
   ],
   "source": [
    "%timeit calib_loop_copy(ima, coef)"
   ]
  },
  {
   "cell_type": "code",
   "execution_count": 17,
   "id": "5f4e3fd3-5819-417c-8b63-105a84ee9096",
   "metadata": {
    "execution": {
     "iopub.execute_input": "2024-04-30T07:48:45.190931Z",
     "iopub.status.busy": "2024-04-30T07:48:45.190752Z",
     "iopub.status.idle": "2024-04-30T07:48:49.414838Z",
     "shell.execute_reply": "2024-04-30T07:48:49.414439Z",
     "shell.execute_reply.started": "2024-04-30T07:48:45.190915Z"
    }
   },
   "outputs": [
    {
     "name": "stdout",
     "output_type": "stream",
     "text": [
      "526 ms ± 1.92 ms per loop (mean ± std. dev. of 7 runs, 1 loop each)\n"
     ]
    }
   ],
   "source": [
    "%timeit calib_moveaxis(ima, coef)"
   ]
  },
  {
   "cell_type": "code",
   "execution_count": 18,
   "id": "efda16da-37f4-442b-a055-670d82841be1",
   "metadata": {
    "execution": {
     "iopub.execute_input": "2024-04-30T07:48:49.415407Z",
     "iopub.status.busy": "2024-04-30T07:48:49.415275Z",
     "iopub.status.idle": "2024-04-30T07:48:53.675309Z",
     "shell.execute_reply": "2024-04-30T07:48:53.674941Z",
     "shell.execute_reply.started": "2024-04-30T07:48:49.415396Z"
    }
   },
   "outputs": [
    {
     "name": "stdout",
     "output_type": "stream",
     "text": [
      "533 ms ± 2.6 ms per loop (mean ± std. dev. of 7 runs, 1 loop each)\n"
     ]
    }
   ],
   "source": [
    "%timeit calib_broadcast(ima, coef)"
   ]
  },
  {
   "cell_type": "code",
   "execution_count": null,
   "id": "8bbd3f00-ca10-4c5d-9642-26e4e61a1ed7",
   "metadata": {},
   "outputs": [],
   "source": []
  }
 ],
 "metadata": {
  "kernelspec": {
   "display_name": "Python 3 (ipykernel)",
   "language": "python",
   "name": "python3"
  },
  "language_info": {
   "codemirror_mode": {
    "name": "ipython",
    "version": 3
   },
   "file_extension": ".py",
   "mimetype": "text/x-python",
   "name": "python",
   "nbconvert_exporter": "python",
   "pygments_lexer": "ipython3",
   "version": "3.12.2"
  }
 },
 "nbformat": 4,
 "nbformat_minor": 5
}
