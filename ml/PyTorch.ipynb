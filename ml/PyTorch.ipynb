{
 "cells": [
  {
   "cell_type": "code",
   "execution_count": 1,
   "id": "c7ca15c1-8bba-47ee-9451-efc6d2e488a2",
   "metadata": {
    "execution": {
     "iopub.execute_input": "2024-08-30T14:17:32.081847Z",
     "iopub.status.busy": "2024-08-30T14:17:32.080863Z",
     "iopub.status.idle": "2024-08-30T14:17:36.117542Z",
     "shell.execute_reply": "2024-08-30T14:17:36.116200Z",
     "shell.execute_reply.started": "2024-08-30T14:17:32.081785Z"
    }
   },
   "outputs": [],
   "source": [
    "import torch\n",
    "from torch import nn\n",
    "from torch.utils.data import DataLoader\n",
    "from torchvision import datasets\n",
    "from torchvision.transforms import ToTensor"
   ]
  },
  {
   "cell_type": "code",
   "execution_count": 2,
   "id": "1e38129d-1a1f-4f83-92f8-c18ae719a7c1",
   "metadata": {
    "execution": {
     "iopub.execute_input": "2024-08-30T14:17:45.002238Z",
     "iopub.status.busy": "2024-08-30T14:17:45.001193Z",
     "iopub.status.idle": "2024-08-30T14:17:49.017909Z",
     "shell.execute_reply": "2024-08-30T14:17:49.017205Z",
     "shell.execute_reply.started": "2024-08-30T14:17:45.002192Z"
    }
   },
   "outputs": [
    {
     "name": "stdout",
     "output_type": "stream",
     "text": [
      "Downloading http://fashion-mnist.s3-website.eu-central-1.amazonaws.com/train-images-idx3-ubyte.gz\n",
      "Downloading http://fashion-mnist.s3-website.eu-central-1.amazonaws.com/train-images-idx3-ubyte.gz to data/FashionMNIST/raw/train-images-idx3-ubyte.gz\n"
     ]
    },
    {
     "name": "stderr",
     "output_type": "stream",
     "text": [
      "100.0%\n"
     ]
    },
    {
     "name": "stdout",
     "output_type": "stream",
     "text": [
      "Extracting data/FashionMNIST/raw/train-images-idx3-ubyte.gz to data/FashionMNIST/raw\n"
     ]
    },
    {
     "name": "stderr",
     "output_type": "stream",
     "text": [
      "100.0%"
     ]
    },
    {
     "name": "stdout",
     "output_type": "stream",
     "text": [
      "\n",
      "Downloading http://fashion-mnist.s3-website.eu-central-1.amazonaws.com/train-labels-idx1-ubyte.gz\n",
      "Downloading http://fashion-mnist.s3-website.eu-central-1.amazonaws.com/train-labels-idx1-ubyte.gz to data/FashionMNIST/raw/train-labels-idx1-ubyte.gz\n",
      "Extracting data/FashionMNIST/raw/train-labels-idx1-ubyte.gz to data/FashionMNIST/raw\n",
      "\n",
      "Downloading http://fashion-mnist.s3-website.eu-central-1.amazonaws.com/t10k-images-idx3-ubyte.gz\n"
     ]
    },
    {
     "name": "stderr",
     "output_type": "stream",
     "text": [
      "\n",
      "4.4%"
     ]
    },
    {
     "name": "stdout",
     "output_type": "stream",
     "text": [
      "Downloading http://fashion-mnist.s3-website.eu-central-1.amazonaws.com/t10k-images-idx3-ubyte.gz to data/FashionMNIST/raw/t10k-images-idx3-ubyte.gz\n"
     ]
    },
    {
     "name": "stderr",
     "output_type": "stream",
     "text": [
      "100.0%\n"
     ]
    },
    {
     "name": "stdout",
     "output_type": "stream",
     "text": [
      "Extracting data/FashionMNIST/raw/t10k-images-idx3-ubyte.gz to data/FashionMNIST/raw\n",
      "\n",
      "Downloading http://fashion-mnist.s3-website.eu-central-1.amazonaws.com/t10k-labels-idx1-ubyte.gz\n",
      "Downloading http://fashion-mnist.s3-website.eu-central-1.amazonaws.com/t10k-labels-idx1-ubyte.gz to data/FashionMNIST/raw/t10k-labels-idx1-ubyte.gz\n"
     ]
    },
    {
     "name": "stderr",
     "output_type": "stream",
     "text": [
      "100.0%"
     ]
    },
    {
     "name": "stdout",
     "output_type": "stream",
     "text": [
      "Extracting data/FashionMNIST/raw/t10k-labels-idx1-ubyte.gz to data/FashionMNIST/raw\n",
      "\n"
     ]
    },
    {
     "name": "stderr",
     "output_type": "stream",
     "text": [
      "\n"
     ]
    }
   ],
   "source": [
    "# Download training data from open datasets.\n",
    "training_data = datasets.FashionMNIST(\n",
    "    root=\"data\",\n",
    "    train=True,\n",
    "    download=True,\n",
    "    transform=ToTensor(),\n",
    ")\n",
    "\n",
    "# Download test data from open datasets.\n",
    "test_data = datasets.FashionMNIST(\n",
    "    root=\"data\",\n",
    "    train=False,\n",
    "    download=True,\n",
    "    transform=ToTensor(),\n",
    ")"
   ]
  },
  {
   "cell_type": "code",
   "execution_count": 3,
   "id": "bf638351-c39c-4c03-b2ad-faaeaf760719",
   "metadata": {
    "execution": {
     "iopub.execute_input": "2024-08-30T14:17:55.684790Z",
     "iopub.status.busy": "2024-08-30T14:17:55.684267Z",
     "iopub.status.idle": "2024-08-30T14:17:55.696549Z",
     "shell.execute_reply": "2024-08-30T14:17:55.696030Z",
     "shell.execute_reply.started": "2024-08-30T14:17:55.684755Z"
    }
   },
   "outputs": [
    {
     "data": {
      "text/plain": [
       "Dataset FashionMNIST\n",
       "    Number of datapoints: 60000\n",
       "    Root location: data\n",
       "    Split: Train\n",
       "    StandardTransform\n",
       "Transform: ToTensor()"
      ]
     },
     "execution_count": 3,
     "metadata": {},
     "output_type": "execute_result"
    }
   ],
   "source": [
    "training_data"
   ]
  },
  {
   "cell_type": "code",
   "execution_count": 4,
   "id": "4979137a-5083-4edb-97a4-82d2d2757ebc",
   "metadata": {
    "execution": {
     "iopub.execute_input": "2024-08-30T14:18:11.722874Z",
     "iopub.status.busy": "2024-08-30T14:18:11.721955Z",
     "iopub.status.idle": "2024-08-30T14:18:11.729820Z",
     "shell.execute_reply": "2024-08-30T14:18:11.729000Z",
     "shell.execute_reply.started": "2024-08-30T14:18:11.722828Z"
    }
   },
   "outputs": [
    {
     "data": {
      "text/plain": [
       "torchvision.datasets.mnist.FashionMNIST"
      ]
     },
     "execution_count": 4,
     "metadata": {},
     "output_type": "execute_result"
    }
   ],
   "source": [
    "type(training_data)"
   ]
  },
  {
   "cell_type": "code",
   "execution_count": 5,
   "id": "80968490-8ecc-4aa8-a37b-5daf4f503a9d",
   "metadata": {
    "execution": {
     "iopub.execute_input": "2024-08-30T14:18:30.762661Z",
     "iopub.status.busy": "2024-08-30T14:18:30.762218Z",
     "iopub.status.idle": "2024-08-30T14:18:30.780411Z",
     "shell.execute_reply": "2024-08-30T14:18:30.779719Z",
     "shell.execute_reply.started": "2024-08-30T14:18:30.762626Z"
    }
   },
   "outputs": [
    {
     "name": "stdout",
     "output_type": "stream",
     "text": [
      "Shape of X [N, C, H, W]: torch.Size([64, 1, 28, 28])\n",
      "Shape of y: torch.Size([64]) torch.int64\n"
     ]
    }
   ],
   "source": [
    "batch_size = 64\n",
    "\n",
    "# Create data loaders.\n",
    "train_dataloader = DataLoader(training_data, batch_size=batch_size)\n",
    "test_dataloader = DataLoader(test_data, batch_size=batch_size)\n",
    "\n",
    "for X, y in test_dataloader:\n",
    "    print(f\"Shape of X [N, C, H, W]: {X.shape}\")\n",
    "    print(f\"Shape of y: {y.shape} {y.dtype}\")\n",
    "    break"
   ]
  },
  {
   "cell_type": "code",
   "execution_count": 6,
   "id": "8b9b3c9f-a2d8-4161-a74d-902605fd54c2",
   "metadata": {
    "execution": {
     "iopub.execute_input": "2024-08-30T14:19:22.160129Z",
     "iopub.status.busy": "2024-08-30T14:19:22.157885Z",
     "iopub.status.idle": "2024-08-30T14:19:22.172183Z",
     "shell.execute_reply": "2024-08-30T14:19:22.171628Z",
     "shell.execute_reply.started": "2024-08-30T14:19:22.160082Z"
    }
   },
   "outputs": [
    {
     "name": "stdout",
     "output_type": "stream",
     "text": [
      "Using cpu device\n",
      "NeuralNetwork(\n",
      "  (flatten): Flatten(start_dim=1, end_dim=-1)\n",
      "  (linear_relu_stack): Sequential(\n",
      "    (0): Linear(in_features=784, out_features=512, bias=True)\n",
      "    (1): ReLU()\n",
      "    (2): Linear(in_features=512, out_features=512, bias=True)\n",
      "    (3): ReLU()\n",
      "    (4): Linear(in_features=512, out_features=10, bias=True)\n",
      "  )\n",
      ")\n"
     ]
    }
   ],
   "source": [
    "# Get cpu, gpu or mps device for training.\n",
    "device = (\n",
    "    \"cuda\"\n",
    "    if torch.cuda.is_available()\n",
    "    else \"mps\"\n",
    "    if torch.backends.mps.is_available()\n",
    "    else \"cpu\"\n",
    ")\n",
    "print(f\"Using {device} device\")\n",
    "\n",
    "# Define model\n",
    "class NeuralNetwork(nn.Module):\n",
    "    def __init__(self):\n",
    "        super().__init__()\n",
    "        self.flatten = nn.Flatten()\n",
    "        self.linear_relu_stack = nn.Sequential(\n",
    "            nn.Linear(28*28, 512),\n",
    "            nn.ReLU(),\n",
    "            nn.Linear(512, 512),\n",
    "            nn.ReLU(),\n",
    "            nn.Linear(512, 10)\n",
    "        )\n",
    "\n",
    "    def forward(self, x):\n",
    "        x = self.flatten(x)\n",
    "        logits = self.linear_relu_stack(x)\n",
    "        return logits\n",
    "\n",
    "model = NeuralNetwork().to(device)\n",
    "print(model)"
   ]
  },
  {
   "cell_type": "code",
   "execution_count": 10,
   "id": "cebd74d8-e86f-4bde-825a-91360d3e528f",
   "metadata": {
    "execution": {
     "iopub.execute_input": "2024-08-30T14:20:15.257083Z",
     "iopub.status.busy": "2024-08-30T14:20:15.256651Z",
     "iopub.status.idle": "2024-08-30T14:20:15.281632Z",
     "shell.execute_reply": "2024-08-30T14:20:15.280958Z",
     "shell.execute_reply.started": "2024-08-30T14:20:15.257050Z"
    }
   },
   "outputs": [
    {
     "data": {
      "text/plain": [
       "[Parameter containing:\n",
       " tensor([[ 0.0336,  0.0354, -0.0280,  ..., -0.0070, -0.0212,  0.0036],\n",
       "         [-0.0117, -0.0322, -0.0278,  ..., -0.0244, -0.0205, -0.0248],\n",
       "         [-0.0155,  0.0242, -0.0348,  ...,  0.0068, -0.0276,  0.0309],\n",
       "         ...,\n",
       "         [ 0.0313, -0.0177, -0.0103,  ..., -0.0319,  0.0082,  0.0028],\n",
       "         [-0.0004, -0.0353,  0.0321,  ..., -0.0286,  0.0242, -0.0337],\n",
       "         [-0.0026,  0.0252, -0.0355,  ..., -0.0043,  0.0327, -0.0234]],\n",
       "        requires_grad=True),\n",
       " Parameter containing:\n",
       " tensor([-1.1965e-02,  1.2689e-02,  2.5080e-02, -2.2930e-02, -3.2450e-02,\n",
       "         -6.7337e-03, -2.6454e-02, -2.3472e-02, -7.0700e-03,  6.5386e-03,\n",
       "          1.8774e-03, -1.0819e-02,  6.2408e-03, -2.3547e-02, -9.9533e-03,\n",
       "          1.0671e-02,  1.5058e-02, -9.4910e-04, -4.7000e-03, -3.0892e-02,\n",
       "          8.1920e-03, -2.8921e-03,  2.4601e-02,  1.9588e-02, -3.0988e-02,\n",
       "          5.8759e-03,  2.5979e-02,  3.4220e-02, -3.1650e-02, -1.8682e-02,\n",
       "          4.1246e-03,  1.2818e-02, -1.3454e-02,  7.8571e-03, -2.3254e-02,\n",
       "          1.5003e-02, -4.2602e-04, -2.3852e-02, -1.5707e-02,  2.2132e-02,\n",
       "         -3.2236e-02,  2.9880e-03,  6.4812e-03, -1.8736e-02,  2.3266e-02,\n",
       "          2.0933e-02,  1.1159e-02,  2.8981e-03, -1.2881e-02,  3.0191e-02,\n",
       "          2.9235e-02, -2.5979e-02, -3.7222e-03, -1.9103e-02,  2.3743e-02,\n",
       "         -3.2783e-02, -2.0590e-02, -9.3645e-03,  6.2476e-03, -1.4250e-02,\n",
       "          1.5961e-02, -4.9802e-04,  3.5626e-02,  1.6338e-02,  1.9552e-02,\n",
       "         -2.7985e-02,  1.8045e-02, -1.1435e-02,  8.4943e-04,  1.2349e-02,\n",
       "         -3.0548e-02, -2.6740e-02, -3.4167e-02, -2.0321e-02,  2.0471e-02,\n",
       "          3.0065e-02, -3.2558e-04,  3.3780e-02,  1.1457e-02, -1.8419e-02,\n",
       "         -1.6362e-02,  1.7171e-02, -2.2913e-02,  1.5677e-02,  1.3800e-03,\n",
       "          2.2506e-02, -6.6971e-03,  2.4149e-03,  7.9382e-04, -7.4285e-03,\n",
       "         -3.0883e-02,  1.0652e-02, -1.7829e-02, -8.3266e-03,  3.1705e-02,\n",
       "         -1.9190e-03,  3.1018e-02, -2.1809e-02, -5.1115e-03, -9.9970e-03,\n",
       "         -2.5994e-02,  1.7652e-02, -2.3919e-02,  1.4516e-02,  2.5438e-02,\n",
       "         -1.0945e-02,  2.7563e-02,  3.2289e-02,  2.4429e-02, -1.4951e-02,\n",
       "         -1.2976e-02, -2.2214e-02, -2.5202e-02,  2.0169e-02,  1.5291e-02,\n",
       "         -2.0491e-02,  1.9995e-02,  3.1303e-02, -9.3677e-03,  2.1357e-02,\n",
       "         -2.5063e-02, -2.6506e-02, -3.1307e-02,  1.9941e-02, -2.8164e-02,\n",
       "          1.5546e-02,  1.1138e-02, -1.3516e-02, -1.0893e-02, -3.1757e-02,\n",
       "          3.0255e-02, -6.5105e-04,  1.5690e-03,  2.6297e-02, -1.0554e-02,\n",
       "         -3.4227e-02,  2.5949e-02,  2.1214e-02, -2.4125e-02,  2.3821e-03,\n",
       "          6.1040e-03, -1.8544e-02, -6.8743e-03,  3.5819e-03,  1.6022e-02,\n",
       "          3.4171e-02,  2.2918e-02,  4.3245e-03, -1.9663e-02, -2.9489e-02,\n",
       "          2.5852e-02, -1.6697e-02, -6.0271e-03, -2.2076e-02, -2.5571e-02,\n",
       "          8.7073e-03,  5.3585e-03,  2.9352e-02,  7.6182e-03, -5.6213e-03,\n",
       "         -2.3417e-02, -1.1051e-02, -3.3359e-02, -3.1824e-02,  2.4435e-02,\n",
       "          1.5353e-02, -2.4687e-02, -3.1046e-02,  1.2909e-02,  2.0082e-02,\n",
       "          2.6585e-03,  3.4279e-03, -3.1146e-02, -2.9967e-02, -9.1972e-03,\n",
       "          2.4197e-02,  9.5262e-03, -2.1209e-02, -1.3547e-03, -3.3168e-02,\n",
       "          5.6377e-03,  5.8676e-03, -1.4521e-02, -1.7803e-04, -3.0196e-02,\n",
       "         -5.7252e-03,  2.3224e-02, -3.5150e-02, -2.4565e-03,  2.0298e-04,\n",
       "          2.6951e-02,  3.5566e-02,  3.5123e-02, -2.0850e-02, -7.7223e-03,\n",
       "         -4.5832e-03, -1.7660e-03,  1.7935e-03, -1.5917e-02, -3.0233e-03,\n",
       "          2.7094e-02,  1.8825e-02,  1.9043e-02,  8.9473e-03, -4.2151e-03,\n",
       "         -2.4539e-02,  2.2481e-04,  2.3159e-02, -2.5089e-02, -2.3379e-02,\n",
       "         -7.5878e-03, -3.5240e-02,  2.9934e-02, -2.3913e-02,  3.5657e-02,\n",
       "         -1.9515e-02,  1.3044e-02, -4.0386e-03,  4.6035e-03,  2.2204e-02,\n",
       "          3.2576e-02, -1.8228e-03,  3.1877e-02, -1.8456e-02,  3.6544e-03,\n",
       "          1.9065e-02,  1.1979e-02, -3.0942e-02, -3.4832e-02,  2.3924e-02,\n",
       "          2.3011e-02,  2.0181e-03, -2.9471e-02, -1.8512e-03, -6.2261e-03,\n",
       "          1.0314e-02, -1.3069e-02,  3.1034e-02,  2.3701e-02,  7.9386e-03,\n",
       "          1.8938e-02, -1.3196e-02,  2.0410e-02, -1.1187e-02, -3.9925e-03,\n",
       "          7.0940e-03,  1.8920e-02, -1.3876e-03,  3.5061e-02,  2.8608e-02,\n",
       "          5.8395e-03,  1.6433e-02, -1.6467e-02, -2.8492e-02, -2.1152e-03,\n",
       "          6.0507e-03, -1.9793e-03, -3.1029e-02, -3.5187e-02,  1.2537e-02,\n",
       "         -2.6296e-02, -1.4424e-02,  1.8688e-02,  2.8099e-02, -1.6524e-02,\n",
       "          3.3341e-03, -3.2951e-02,  6.3940e-03, -1.3715e-02,  1.0152e-02,\n",
       "         -2.3288e-02, -3.4205e-02, -2.6180e-02,  8.2286e-04,  1.2750e-02,\n",
       "         -8.8716e-03,  2.1964e-02,  1.1285e-02,  3.2603e-03, -8.5739e-03,\n",
       "         -2.1839e-02,  1.3492e-02,  2.0598e-02, -1.1563e-02,  1.7162e-02,\n",
       "          2.3754e-02, -1.6725e-02, -2.6417e-02, -9.9645e-03,  2.3125e-02,\n",
       "         -2.2946e-02,  2.5384e-02, -2.5034e-02, -3.3826e-02,  2.4550e-02,\n",
       "          2.4773e-02, -2.7745e-02,  2.4687e-02, -9.3605e-05, -4.0509e-03,\n",
       "         -3.4417e-02, -1.6490e-02, -1.7041e-02,  5.8759e-03, -2.0403e-02,\n",
       "          7.4328e-03,  2.6734e-02, -2.2854e-02, -2.5784e-02,  1.8158e-02,\n",
       "          3.0668e-03,  2.4815e-02,  1.9025e-02,  6.3104e-03, -1.1214e-02,\n",
       "          1.1076e-03,  1.5323e-02, -3.1371e-02,  1.0717e-03, -1.5194e-02,\n",
       "          1.1909e-02,  3.7588e-03,  3.2971e-02, -2.9596e-03, -1.3157e-02,\n",
       "         -3.4831e-02,  2.9682e-02, -2.9417e-02, -3.2579e-02, -1.3031e-02,\n",
       "          3.0506e-02,  3.0402e-02, -9.6161e-03,  2.1706e-02, -2.3259e-02,\n",
       "         -2.3366e-02,  4.4303e-03, -1.2331e-02, -8.5065e-03, -9.8953e-03,\n",
       "          3.1576e-02,  2.0072e-02,  4.8817e-03, -2.8716e-02, -2.1326e-02,\n",
       "          3.1588e-02,  1.9540e-02,  2.9390e-02, -2.9299e-03,  1.2798e-02,\n",
       "         -3.2850e-02, -2.3029e-02,  1.2600e-02, -1.6899e-02,  1.1740e-02,\n",
       "          2.7801e-03,  2.1763e-02, -8.5704e-04, -8.9208e-03,  2.4287e-02,\n",
       "         -1.1697e-02,  7.2222e-03,  1.7334e-02,  2.2646e-02,  6.0922e-03,\n",
       "         -1.4717e-02,  3.6426e-03, -2.5028e-02, -1.6558e-03,  2.4714e-02,\n",
       "         -9.6906e-03, -2.2303e-02, -1.8937e-02,  2.6589e-02,  1.5776e-02,\n",
       "          6.2608e-03, -2.7070e-02,  5.7167e-03,  2.4865e-02,  1.8873e-02,\n",
       "          6.2686e-03, -2.7405e-02, -1.6721e-02, -1.0611e-02,  1.2225e-02,\n",
       "         -2.3911e-02,  3.9861e-04, -2.0437e-02, -1.4486e-02,  9.2162e-03,\n",
       "         -1.2853e-02, -3.5142e-02,  3.7983e-03, -2.8765e-02,  1.0794e-02,\n",
       "         -5.3134e-04,  1.8251e-02,  1.1885e-02, -1.0813e-02, -4.4366e-03,\n",
       "         -2.1390e-02, -2.1278e-02,  2.7711e-02, -3.9822e-03,  5.3749e-03,\n",
       "         -2.6447e-02,  9.1772e-03,  8.9135e-03, -3.1864e-02, -9.8751e-04,\n",
       "         -1.6535e-02, -2.6633e-02, -5.2734e-03, -2.4648e-03, -1.4282e-02,\n",
       "          9.1263e-04,  2.1399e-02,  2.6535e-02, -2.2823e-02, -5.8783e-03,\n",
       "          1.7931e-02,  1.9174e-02,  1.6497e-02,  1.0187e-02, -2.3939e-03,\n",
       "         -3.1008e-02, -1.6798e-02,  3.2032e-02,  3.3843e-02,  2.3541e-02,\n",
       "         -7.4510e-03,  3.4123e-02,  3.3713e-02,  3.0930e-02,  5.5747e-03,\n",
       "         -5.4988e-03,  2.8597e-02,  1.9840e-02,  2.4466e-02, -3.2714e-02,\n",
       "          1.4106e-02, -2.5990e-02,  3.3918e-02,  2.2341e-02,  1.4104e-02,\n",
       "          9.6909e-03, -8.1590e-04,  2.1235e-02,  3.5085e-02, -2.2026e-02,\n",
       "         -1.4702e-02, -3.0390e-02, -3.1544e-02,  1.9472e-02,  2.6390e-02,\n",
       "          3.0767e-02, -1.5706e-03, -2.8109e-02,  2.3982e-02,  7.3080e-03,\n",
       "         -7.1589e-03,  2.9150e-02,  6.3387e-03,  7.3040e-04,  1.6626e-02,\n",
       "         -2.4796e-03,  2.8692e-02,  2.7636e-02,  2.8627e-02, -3.2450e-02,\n",
       "          1.0559e-02,  2.9557e-02, -8.9901e-03, -4.5730e-03,  2.3804e-02,\n",
       "          2.3581e-02, -5.1431e-04,  2.6375e-02,  3.5053e-02,  2.7333e-02,\n",
       "         -1.7106e-02,  2.1817e-02, -5.8724e-03,  6.4732e-03, -1.2405e-03,\n",
       "          2.4433e-02, -4.6115e-03,  2.1953e-02, -3.1301e-02, -2.7326e-02,\n",
       "         -3.0856e-02,  1.3160e-02, -2.2565e-02, -2.0891e-02, -3.1336e-02,\n",
       "          2.7161e-02,  6.1882e-03,  1.9301e-02, -6.1491e-03,  6.0558e-03,\n",
       "          5.7746e-03, -2.7720e-02,  1.9316e-02, -7.8764e-03, -2.4201e-02,\n",
       "          1.4997e-02,  9.8572e-03,  2.8642e-02,  2.2533e-02,  2.1404e-02,\n",
       "         -2.7244e-02, -5.8106e-03], requires_grad=True),\n",
       " Parameter containing:\n",
       " tensor([[-0.0112,  0.0108, -0.0206,  ...,  0.0336, -0.0343, -0.0138],\n",
       "         [ 0.0058, -0.0359,  0.0333,  ..., -0.0140, -0.0091,  0.0243],\n",
       "         [-0.0259, -0.0404,  0.0426,  ..., -0.0438, -0.0409, -0.0224],\n",
       "         ...,\n",
       "         [-0.0195,  0.0189, -0.0147,  ...,  0.0437, -0.0435, -0.0150],\n",
       "         [ 0.0195, -0.0424, -0.0167,  ..., -0.0018,  0.0366, -0.0319],\n",
       "         [-0.0252, -0.0176, -0.0244,  ..., -0.0395, -0.0334,  0.0411]],\n",
       "        requires_grad=True),\n",
       " Parameter containing:\n",
       " tensor([ 0.0063,  0.0211, -0.0223,  0.0239,  0.0362,  0.0114, -0.0167,  0.0064,\n",
       "          0.0232,  0.0106,  0.0049, -0.0310, -0.0280, -0.0052, -0.0207, -0.0369,\n",
       "         -0.0221,  0.0233, -0.0236, -0.0146, -0.0389, -0.0202,  0.0157,  0.0207,\n",
       "          0.0353,  0.0326,  0.0178, -0.0184, -0.0332, -0.0330, -0.0102,  0.0189,\n",
       "         -0.0073,  0.0045, -0.0141,  0.0298, -0.0234,  0.0281, -0.0209,  0.0264,\n",
       "          0.0344,  0.0139,  0.0352,  0.0144,  0.0392,  0.0393,  0.0234, -0.0017,\n",
       "         -0.0256, -0.0180, -0.0068,  0.0232, -0.0041,  0.0224,  0.0005, -0.0063,\n",
       "          0.0017,  0.0023,  0.0411,  0.0286,  0.0084,  0.0174,  0.0187,  0.0083,\n",
       "         -0.0430, -0.0184,  0.0200,  0.0259,  0.0261, -0.0434,  0.0405, -0.0045,\n",
       "         -0.0210, -0.0203, -0.0038,  0.0162,  0.0132, -0.0070,  0.0017, -0.0228,\n",
       "          0.0251, -0.0397,  0.0145,  0.0067, -0.0287,  0.0005,  0.0428,  0.0124,\n",
       "         -0.0402, -0.0233,  0.0139,  0.0269, -0.0296,  0.0326, -0.0298, -0.0315,\n",
       "         -0.0440,  0.0050,  0.0230,  0.0067, -0.0113, -0.0333,  0.0144, -0.0010,\n",
       "         -0.0287,  0.0075, -0.0387, -0.0030,  0.0294,  0.0264, -0.0265, -0.0067,\n",
       "          0.0022, -0.0241,  0.0080, -0.0192,  0.0283, -0.0069, -0.0073,  0.0427,\n",
       "         -0.0248,  0.0198, -0.0250,  0.0377, -0.0262, -0.0416,  0.0007, -0.0427,\n",
       "          0.0387,  0.0376, -0.0153, -0.0251, -0.0133, -0.0160, -0.0301, -0.0302,\n",
       "         -0.0410, -0.0235, -0.0015,  0.0359, -0.0119, -0.0256,  0.0246, -0.0418,\n",
       "         -0.0138, -0.0235,  0.0169,  0.0390,  0.0211,  0.0223,  0.0166, -0.0073,\n",
       "          0.0406, -0.0230, -0.0046, -0.0214,  0.0101, -0.0170, -0.0102, -0.0240,\n",
       "         -0.0146,  0.0152,  0.0348,  0.0364,  0.0103, -0.0066, -0.0082, -0.0248,\n",
       "         -0.0002, -0.0125,  0.0362,  0.0277,  0.0399,  0.0144,  0.0222,  0.0369,\n",
       "          0.0007,  0.0273,  0.0209, -0.0138, -0.0314, -0.0331,  0.0295,  0.0219,\n",
       "         -0.0388, -0.0365, -0.0155, -0.0274,  0.0032,  0.0077,  0.0421, -0.0323,\n",
       "          0.0372,  0.0427, -0.0146, -0.0373,  0.0099,  0.0009,  0.0317,  0.0036,\n",
       "         -0.0038,  0.0423, -0.0243, -0.0123, -0.0034, -0.0360,  0.0384, -0.0422,\n",
       "         -0.0126,  0.0147, -0.0235, -0.0393, -0.0371, -0.0224,  0.0409,  0.0255,\n",
       "         -0.0078,  0.0057,  0.0316,  0.0166,  0.0165, -0.0157,  0.0318, -0.0034,\n",
       "         -0.0251,  0.0078,  0.0258,  0.0280, -0.0282, -0.0201, -0.0110,  0.0024,\n",
       "         -0.0022, -0.0174, -0.0204, -0.0400, -0.0247, -0.0343,  0.0388,  0.0138,\n",
       "         -0.0163,  0.0131,  0.0104,  0.0360,  0.0176,  0.0138, -0.0297,  0.0194,\n",
       "          0.0187, -0.0064,  0.0121,  0.0439,  0.0298, -0.0411, -0.0041, -0.0096,\n",
       "          0.0376, -0.0399, -0.0147, -0.0188, -0.0196,  0.0396, -0.0320,  0.0402,\n",
       "         -0.0048,  0.0309,  0.0235, -0.0265, -0.0041,  0.0237,  0.0137,  0.0241,\n",
       "         -0.0188,  0.0342,  0.0300, -0.0261,  0.0257, -0.0002, -0.0370,  0.0368,\n",
       "          0.0396, -0.0054, -0.0287, -0.0002, -0.0393, -0.0425,  0.0277, -0.0034,\n",
       "         -0.0397, -0.0360,  0.0031, -0.0038,  0.0196, -0.0440,  0.0192,  0.0122,\n",
       "         -0.0433, -0.0339,  0.0030, -0.0120,  0.0178, -0.0206,  0.0139,  0.0067,\n",
       "          0.0430, -0.0305,  0.0177,  0.0055, -0.0205,  0.0124, -0.0028, -0.0308,\n",
       "         -0.0121, -0.0341, -0.0011, -0.0308,  0.0220,  0.0077,  0.0209,  0.0127,\n",
       "          0.0284,  0.0008, -0.0205,  0.0273, -0.0377, -0.0296, -0.0353, -0.0237,\n",
       "          0.0120, -0.0273, -0.0307, -0.0433, -0.0413, -0.0035, -0.0403, -0.0130,\n",
       "          0.0174, -0.0045,  0.0068,  0.0187,  0.0248, -0.0041,  0.0106,  0.0401,\n",
       "         -0.0208, -0.0011, -0.0159,  0.0322,  0.0411,  0.0342,  0.0106,  0.0252,\n",
       "          0.0180, -0.0410, -0.0026,  0.0139,  0.0334, -0.0206,  0.0255, -0.0403,\n",
       "          0.0412,  0.0372,  0.0303,  0.0135, -0.0037, -0.0326,  0.0042, -0.0023,\n",
       "          0.0150, -0.0323,  0.0366, -0.0325, -0.0132,  0.0143,  0.0180,  0.0016,\n",
       "         -0.0411,  0.0213,  0.0336,  0.0325,  0.0330,  0.0341,  0.0246, -0.0149,\n",
       "         -0.0409,  0.0281, -0.0117,  0.0154, -0.0338,  0.0344,  0.0043, -0.0403,\n",
       "          0.0363, -0.0112,  0.0399,  0.0371, -0.0162,  0.0274,  0.0098, -0.0441,\n",
       "          0.0162, -0.0132,  0.0028,  0.0421,  0.0213,  0.0043, -0.0430, -0.0103,\n",
       "         -0.0361, -0.0170,  0.0286,  0.0430,  0.0155, -0.0433,  0.0086,  0.0347,\n",
       "          0.0330,  0.0276, -0.0428,  0.0039, -0.0348,  0.0426,  0.0315, -0.0200,\n",
       "         -0.0313, -0.0188, -0.0096,  0.0261,  0.0204,  0.0163, -0.0181,  0.0045,\n",
       "          0.0421,  0.0048,  0.0179, -0.0006, -0.0153,  0.0059,  0.0392,  0.0367,\n",
       "          0.0206, -0.0269,  0.0006,  0.0339,  0.0035, -0.0151, -0.0212, -0.0201,\n",
       "         -0.0414,  0.0300, -0.0393, -0.0013, -0.0049, -0.0284, -0.0020, -0.0176,\n",
       "         -0.0311,  0.0306, -0.0190,  0.0333,  0.0287,  0.0048, -0.0261, -0.0102,\n",
       "         -0.0411,  0.0435, -0.0050, -0.0057, -0.0245, -0.0286, -0.0014, -0.0236,\n",
       "         -0.0162,  0.0344, -0.0340,  0.0271, -0.0339,  0.0097,  0.0050,  0.0075,\n",
       "         -0.0147, -0.0022,  0.0258,  0.0029, -0.0256, -0.0299, -0.0090,  0.0170,\n",
       "          0.0350, -0.0254, -0.0104,  0.0244,  0.0346,  0.0161,  0.0418, -0.0308,\n",
       "         -0.0129,  0.0309,  0.0250, -0.0427, -0.0124, -0.0018, -0.0276, -0.0157,\n",
       "          0.0190, -0.0052,  0.0365,  0.0105, -0.0113,  0.0441,  0.0234, -0.0108],\n",
       "        requires_grad=True),\n",
       " Parameter containing:\n",
       " tensor([[ 0.0093, -0.0402,  0.0128,  ..., -0.0264, -0.0115,  0.0190],\n",
       "         [-0.0401,  0.0109, -0.0303,  ...,  0.0165, -0.0433, -0.0355],\n",
       "         [-0.0368,  0.0264,  0.0204,  ...,  0.0389, -0.0165, -0.0127],\n",
       "         ...,\n",
       "         [ 0.0030,  0.0143, -0.0331,  ...,  0.0168,  0.0278, -0.0121],\n",
       "         [-0.0017, -0.0120, -0.0225,  ...,  0.0099,  0.0173, -0.0275],\n",
       "         [-0.0256, -0.0256,  0.0137,  ...,  0.0289,  0.0285,  0.0193]],\n",
       "        requires_grad=True),\n",
       " Parameter containing:\n",
       " tensor([-0.0226, -0.0083, -0.0323,  0.0237, -0.0378, -0.0003, -0.0188,  0.0192,\n",
       "          0.0407, -0.0243], requires_grad=True)]"
      ]
     },
     "execution_count": 10,
     "metadata": {},
     "output_type": "execute_result"
    }
   ],
   "source": [
    "list(model.parameters())"
   ]
  },
  {
   "cell_type": "code",
   "execution_count": 8,
   "id": "2f953817-8c25-4e22-8af5-d6a50b66ab4f",
   "metadata": {
    "execution": {
     "iopub.execute_input": "2024-08-30T14:19:56.436183Z",
     "iopub.status.busy": "2024-08-30T14:19:56.435277Z",
     "iopub.status.idle": "2024-08-30T14:19:56.439772Z",
     "shell.execute_reply": "2024-08-30T14:19:56.439247Z",
     "shell.execute_reply.started": "2024-08-30T14:19:56.436144Z"
    }
   },
   "outputs": [],
   "source": [
    "loss_fn = nn.CrossEntropyLoss()\n",
    "optimizer = torch.optim.SGD(model.parameters(), lr=1e-3)"
   ]
  },
  {
   "cell_type": "code",
   "execution_count": 11,
   "id": "2c5dfc13-ceec-440c-9a5f-a80afd89b417",
   "metadata": {
    "execution": {
     "iopub.execute_input": "2024-08-30T14:21:09.203511Z",
     "iopub.status.busy": "2024-08-30T14:21:09.203242Z",
     "iopub.status.idle": "2024-08-30T14:21:09.207816Z",
     "shell.execute_reply": "2024-08-30T14:21:09.207125Z",
     "shell.execute_reply.started": "2024-08-30T14:21:09.203495Z"
    }
   },
   "outputs": [],
   "source": [
    "def train(dataloader, model, loss_fn, optimizer):\n",
    "    size = len(dataloader.dataset)\n",
    "    model.train()\n",
    "    for batch, (X, y) in enumerate(dataloader):\n",
    "        X, y = X.to(device), y.to(device)\n",
    "\n",
    "        # Compute prediction error\n",
    "        pred = model(X)\n",
    "        loss = loss_fn(pred, y)\n",
    "\n",
    "        # Backpropagation\n",
    "        loss.backward()\n",
    "        optimizer.step()\n",
    "        optimizer.zero_grad()\n",
    "\n",
    "        if batch % 100 == 0:\n",
    "            loss, current = loss.item(), (batch + 1) * len(X)\n",
    "            print(f\"loss: {loss:>7f}  [{current:>5d}/{size:>5d}]\")"
   ]
  },
  {
   "cell_type": "code",
   "execution_count": 12,
   "id": "34437e60-e988-4cb2-9c96-9c512e729be1",
   "metadata": {
    "execution": {
     "iopub.execute_input": "2024-08-30T14:21:26.619174Z",
     "iopub.status.busy": "2024-08-30T14:21:26.618957Z",
     "iopub.status.idle": "2024-08-30T14:21:26.623416Z",
     "shell.execute_reply": "2024-08-30T14:21:26.623065Z",
     "shell.execute_reply.started": "2024-08-30T14:21:26.619159Z"
    }
   },
   "outputs": [],
   "source": [
    "def test(dataloader, model, loss_fn):\n",
    "    size = len(dataloader.dataset)\n",
    "    num_batches = len(dataloader)\n",
    "    model.eval()\n",
    "    test_loss, correct = 0, 0\n",
    "    with torch.no_grad():\n",
    "        for X, y in dataloader:\n",
    "            X, y = X.to(device), y.to(device)\n",
    "            pred = model(X)\n",
    "            test_loss += loss_fn(pred, y).item()\n",
    "            correct += (pred.argmax(1) == y).type(torch.float).sum().item()\n",
    "    test_loss /= num_batches\n",
    "    correct /= size\n",
    "    print(f\"Test Error: \\n Accuracy: {(100*correct):>0.1f}%, Avg loss: {test_loss:>8f} \\n\")"
   ]
  },
  {
   "cell_type": "code",
   "execution_count": 13,
   "id": "42535fab-e582-4333-8b7f-f3636c83281e",
   "metadata": {
    "execution": {
     "iopub.execute_input": "2024-08-30T14:21:34.933328Z",
     "iopub.status.busy": "2024-08-30T14:21:34.932883Z",
     "iopub.status.idle": "2024-08-30T14:22:03.138534Z",
     "shell.execute_reply": "2024-08-30T14:22:03.137982Z",
     "shell.execute_reply.started": "2024-08-30T14:21:34.933309Z"
    }
   },
   "outputs": [
    {
     "name": "stdout",
     "output_type": "stream",
     "text": [
      "Epoch 1\n",
      "-------------------------------\n",
      "loss: 2.305227  [   64/60000]\n",
      "loss: 2.285669  [ 6464/60000]\n",
      "loss: 2.262737  [12864/60000]\n",
      "loss: 2.259619  [19264/60000]\n",
      "loss: 2.247397  [25664/60000]\n",
      "loss: 2.204759  [32064/60000]\n",
      "loss: 2.223742  [38464/60000]\n",
      "loss: 2.183175  [44864/60000]\n",
      "loss: 2.178366  [51264/60000]\n",
      "loss: 2.139631  [57664/60000]\n",
      "Test Error: \n",
      " Accuracy: 38.7%, Avg loss: 2.142046 \n",
      "\n",
      "Epoch 2\n",
      "-------------------------------\n",
      "loss: 2.159042  [   64/60000]\n",
      "loss: 2.137180  [ 6464/60000]\n",
      "loss: 2.086256  [12864/60000]\n",
      "loss: 2.100464  [19264/60000]\n",
      "loss: 2.051581  [25664/60000]\n",
      "loss: 1.981323  [32064/60000]\n",
      "loss: 2.012892  [38464/60000]\n",
      "loss: 1.933660  [44864/60000]\n",
      "loss: 1.939611  [51264/60000]\n",
      "loss: 1.844631  [57664/60000]\n",
      "Test Error: \n",
      " Accuracy: 57.4%, Avg loss: 1.866238 \n",
      "\n",
      "Epoch 3\n",
      "-------------------------------\n",
      "loss: 1.907612  [   64/60000]\n",
      "loss: 1.857291  [ 6464/60000]\n",
      "loss: 1.762408  [12864/60000]\n",
      "loss: 1.794612  [19264/60000]\n",
      "loss: 1.689844  [25664/60000]\n",
      "loss: 1.640735  [32064/60000]\n",
      "loss: 1.655874  [38464/60000]\n",
      "loss: 1.566851  [44864/60000]\n",
      "loss: 1.593460  [51264/60000]\n",
      "loss: 1.463650  [57664/60000]\n",
      "Test Error: \n",
      " Accuracy: 63.3%, Avg loss: 1.507625 \n",
      "\n",
      "Epoch 4\n",
      "-------------------------------\n",
      "loss: 1.582995  [   64/60000]\n",
      "loss: 1.527278  [ 6464/60000]\n",
      "loss: 1.403311  [12864/60000]\n",
      "loss: 1.462536  [19264/60000]\n",
      "loss: 1.353307  [25664/60000]\n",
      "loss: 1.348081  [32064/60000]\n",
      "loss: 1.354062  [38464/60000]\n",
      "loss: 1.284302  [44864/60000]\n",
      "loss: 1.319606  [51264/60000]\n",
      "loss: 1.203855  [57664/60000]\n",
      "Test Error: \n",
      " Accuracy: 64.4%, Avg loss: 1.245832 \n",
      "\n",
      "Epoch 5\n",
      "-------------------------------\n",
      "loss: 1.328880  [   64/60000]\n",
      "loss: 1.292664  [ 6464/60000]\n",
      "loss: 1.147979  [12864/60000]\n",
      "loss: 1.246268  [19264/60000]\n",
      "loss: 1.130697  [25664/60000]\n",
      "loss: 1.151243  [32064/60000]\n",
      "loss: 1.165296  [38464/60000]\n",
      "loss: 1.103946  [44864/60000]\n",
      "loss: 1.143067  [51264/60000]\n",
      "loss: 1.049765  [57664/60000]\n",
      "Test Error: \n",
      " Accuracy: 65.4%, Avg loss: 1.082244 \n",
      "\n",
      "Done!\n"
     ]
    }
   ],
   "source": [
    "epochs = 5\n",
    "for t in range(epochs):\n",
    "    print(f\"Epoch {t+1}\\n-------------------------------\")\n",
    "    train(train_dataloader, model, loss_fn, optimizer)\n",
    "    test(test_dataloader, model, loss_fn)\n",
    "print(\"Done!\")"
   ]
  },
  {
   "cell_type": "code",
   "execution_count": 14,
   "id": "7145e63e-99a4-48e3-bd44-9ddb7029ae35",
   "metadata": {
    "execution": {
     "iopub.execute_input": "2024-08-30T14:22:20.446148Z",
     "iopub.status.busy": "2024-08-30T14:22:20.445275Z",
     "iopub.status.idle": "2024-08-30T14:22:20.450611Z",
     "shell.execute_reply": "2024-08-30T14:22:20.450034Z",
     "shell.execute_reply.started": "2024-08-30T14:22:20.446127Z"
    }
   },
   "outputs": [
    {
     "name": "stdout",
     "output_type": "stream",
     "text": [
      "Predicted: \"Ankle boot\", Actual: \"Ankle boot\"\n"
     ]
    }
   ],
   "source": [
    "classes = [\n",
    "    \"T-shirt/top\",\n",
    "    \"Trouser\",\n",
    "    \"Pullover\",\n",
    "    \"Dress\",\n",
    "    \"Coat\",\n",
    "    \"Sandal\",\n",
    "    \"Shirt\",\n",
    "    \"Sneaker\",\n",
    "    \"Bag\",\n",
    "    \"Ankle boot\",\n",
    "]\n",
    "\n",
    "model.eval()\n",
    "x, y = test_data[0][0], test_data[0][1]\n",
    "with torch.no_grad():\n",
    "    x = x.to(device)\n",
    "    pred = model(x)\n",
    "    predicted, actual = classes[pred[0].argmax(0)], classes[y]\n",
    "    print(f'Predicted: \"{predicted}\", Actual: \"{actual}\"')"
   ]
  },
  {
   "cell_type": "code",
   "execution_count": null,
   "id": "bdec0570-da99-43a7-9650-80ce6bc1dcb1",
   "metadata": {},
   "outputs": [],
   "source": []
  }
 ],
 "metadata": {
  "kernelspec": {
   "display_name": "torch",
   "language": "python",
   "name": "torch"
  },
  "language_info": {
   "codemirror_mode": {
    "name": "ipython",
    "version": 3
   },
   "file_extension": ".py",
   "mimetype": "text/x-python",
   "name": "python",
   "nbconvert_exporter": "python",
   "pygments_lexer": "ipython3",
   "version": "3.12.2"
  }
 },
 "nbformat": 4,
 "nbformat_minor": 5
}
