{
 "cells": [
  {
   "cell_type": "code",
   "execution_count": 1,
   "id": "6d914873-491f-48c8-a508-b31517c2e63c",
   "metadata": {
    "execution": {
     "iopub.execute_input": "2022-09-23T15:40:50.448912Z",
     "iopub.status.busy": "2022-09-23T15:40:50.448763Z",
     "iopub.status.idle": "2022-09-23T15:40:50.700010Z",
     "shell.execute_reply": "2022-09-23T15:40:50.699471Z",
     "shell.execute_reply.started": "2022-09-23T15:40:50.448871Z"
    },
    "tags": []
   },
   "outputs": [],
   "source": [
    "import asdf\n",
    "import h5py\n",
    "import zarr\n",
    "from astropy.io import fits\n",
    "\n",
    "import numpy as np"
   ]
  },
  {
   "cell_type": "code",
   "execution_count": 2,
   "id": "9b75c0d4-2355-411f-8dc4-53fe708ecbd1",
   "metadata": {
    "execution": {
     "iopub.execute_input": "2022-09-23T15:40:50.701363Z",
     "iopub.status.busy": "2022-09-23T15:40:50.700999Z",
     "iopub.status.idle": "2022-09-23T15:40:50.862846Z",
     "shell.execute_reply": "2022-09-23T15:40:50.860936Z",
     "shell.execute_reply.started": "2022-09-23T15:40:50.701338Z"
    },
    "tags": []
   },
   "outputs": [
    {
     "name": "stdout",
     "output_type": "stream",
     "text": [
      "mkdir: cannot create directory ‘file_formats’: File exists\n",
      "/home/simon/dev/misc-astro/file_formats\n"
     ]
    }
   ],
   "source": [
    "%mkdir file_formats\n",
    "%cd file_formats"
   ]
  },
  {
   "cell_type": "code",
   "execution_count": 3,
   "id": "aa091970-6c6a-445b-a0f5-fdd441c1996c",
   "metadata": {
    "execution": {
     "iopub.execute_input": "2022-09-23T15:40:50.866391Z",
     "iopub.status.busy": "2022-09-23T15:40:50.865699Z",
     "iopub.status.idle": "2022-09-23T15:40:50.873056Z",
     "shell.execute_reply": "2022-09-23T15:40:50.871786Z",
     "shell.execute_reply.started": "2022-09-23T15:40:50.866311Z"
    },
    "tags": []
   },
   "outputs": [],
   "source": [
    "meta = {\n",
    "    \"foo\": 42,\n",
    "    \"name\": \"Monty\",\n",
    "}"
   ]
  },
  {
   "cell_type": "code",
   "execution_count": 4,
   "id": "507ec1f7-6c7c-439d-9bed-e54d7f698494",
   "metadata": {
    "execution": {
     "iopub.execute_input": "2022-09-23T15:40:50.874743Z",
     "iopub.status.busy": "2022-09-23T15:40:50.874452Z",
     "iopub.status.idle": "2022-09-23T15:40:51.008994Z",
     "shell.execute_reply": "2022-09-23T15:40:51.008242Z",
     "shell.execute_reply.started": "2022-09-23T15:40:50.874721Z"
    },
    "tags": []
   },
   "outputs": [],
   "source": [
    "# Create some data\n",
    "data = np.random.random((5_000, 5_000))"
   ]
  },
  {
   "cell_type": "markdown",
   "id": "64a7a483-da8c-4f36-a3b4-d2fa52c672ba",
   "metadata": {
    "tags": []
   },
   "source": [
    "## ASDF"
   ]
  },
  {
   "cell_type": "code",
   "execution_count": 5,
   "id": "794abc45-dba4-4b3e-b117-03636221e8a9",
   "metadata": {
    "execution": {
     "iopub.execute_input": "2022-09-23T15:40:51.010003Z",
     "iopub.status.busy": "2022-09-23T15:40:51.009762Z",
     "iopub.status.idle": "2022-09-23T15:40:54.092165Z",
     "shell.execute_reply": "2022-09-23T15:40:54.091767Z",
     "shell.execute_reply.started": "2022-09-23T15:40:51.009983Z"
    },
    "tags": []
   },
   "outputs": [
    {
     "name": "stdout",
     "output_type": "stream",
     "text": [
      "336 ms ± 6.59 ms per loop (mean ± std. dev. of 7 runs, 1 loop each)\n"
     ]
    }
   ],
   "source": [
    "%%timeit\n",
    "tree = {\"meta\": meta, \"data\": data}\n",
    "af = asdf.AsdfFile(tree)\n",
    "af.write_to(\"example.asdf\")"
   ]
  },
  {
   "cell_type": "code",
   "execution_count": 6,
   "id": "b6be6697-7010-4aad-bc57-90a32212da36",
   "metadata": {
    "execution": {
     "iopub.execute_input": "2022-09-23T15:40:54.092920Z",
     "iopub.status.busy": "2022-09-23T15:40:54.092741Z",
     "iopub.status.idle": "2022-09-23T15:40:54.110318Z",
     "shell.execute_reply": "2022-09-23T15:40:54.109923Z",
     "shell.execute_reply.started": "2022-09-23T15:40:54.092908Z"
    }
   },
   "outputs": [
    {
     "name": "stdout",
     "output_type": "stream",
     "text": [
      "\u001b[1mroot\u001b[0m (AsdfObject)\n",
      "\u001b[2m├─\u001b[0m\u001b[1masdf_library\u001b[0m (Software)\n",
      "\u001b[2m│ ├─\u001b[0m\u001b[1mauthor\u001b[0m (str): The ASDF Developers\n",
      "\u001b[2m│ ├─\u001b[0m\u001b[1mhomepage\u001b[0m (str): http://github.com/asdf-format/asdf\n",
      "\u001b[2m│ ├─\u001b[0m\u001b[1mname\u001b[0m (str): asdf\n",
      "\u001b[2m│ └─\u001b[0m\u001b[1mversion\u001b[0m (str): 2.13.0\n",
      "\u001b[2m├─\u001b[0m\u001b[1mhistory\u001b[0m (dict)\n",
      "\u001b[2m│ └─\u001b[0m\u001b[1mextensions\u001b[0m (list)\n",
      "\u001b[2m│   └─\u001b[0m[\u001b[1m0\u001b[0m] (ExtensionMetadata)\n",
      "\u001b[2m│     ├─\u001b[0m\u001b[1mextension_class\u001b[0m (str): asdf.extension.BuiltinExtension\n",
      "\u001b[2m│     └─\u001b[0m\u001b[1msoftware\u001b[0m (Software)\n",
      "\u001b[2m│       ├─\u001b[0m\u001b[1mname\u001b[0m (str): asdf\n",
      "\u001b[2m│       └─\u001b[0m\u001b[1mversion\u001b[0m (str): 2.13.0\n",
      "\u001b[2m├─\u001b[0m\u001b[1mdata\u001b[0m (NDArrayType): shape=(5000, 5000), dtype=float64\n",
      "\u001b[2m└─\u001b[0m\u001b[1mmeta\u001b[0m (dict)\n",
      "\u001b[2m  ├─\u001b[0m\u001b[1mfoo\u001b[0m (int): 42\n",
      "\u001b[2m  └─\u001b[0m\u001b[1mname\u001b[0m (str): Monty\n"
     ]
    }
   ],
   "source": [
    "with asdf.open(\"example.asdf\") as af:\n",
    "    af.info()"
   ]
  },
  {
   "cell_type": "code",
   "execution_count": 7,
   "id": "bb224eca-786d-4993-bf79-c11690933c9f",
   "metadata": {
    "execution": {
     "iopub.execute_input": "2022-09-23T15:40:54.111841Z",
     "iopub.status.busy": "2022-09-23T15:40:54.111533Z",
     "iopub.status.idle": "2022-09-23T15:40:56.709489Z",
     "shell.execute_reply": "2022-09-23T15:40:56.708758Z",
     "shell.execute_reply.started": "2022-09-23T15:40:54.111826Z"
    },
    "tags": []
   },
   "outputs": [
    {
     "name": "stdout",
     "output_type": "stream",
     "text": [
      "31.7 ms ± 1.02 ms per loop (mean ± std. dev. of 7 runs, 10 loops each)\n"
     ]
    }
   ],
   "source": [
    "%%timeit\n",
    "with asdf.open(\"example.asdf\") as af:\n",
    "    data = af[\"data\"]\n",
    "    data.sum()"
   ]
  },
  {
   "cell_type": "markdown",
   "id": "104f91ec-908d-49da-865c-253f2bcde7b9",
   "metadata": {
    "tags": []
   },
   "source": [
    "## FITS"
   ]
  },
  {
   "cell_type": "code",
   "execution_count": 8,
   "id": "276e91c2-999c-48e3-8bbd-d741890a7db8",
   "metadata": {
    "execution": {
     "iopub.execute_input": "2022-09-23T15:40:56.710444Z",
     "iopub.status.busy": "2022-09-23T15:40:56.710217Z",
     "iopub.status.idle": "2022-09-23T15:41:06.656449Z",
     "shell.execute_reply": "2022-09-23T15:41:06.655845Z",
     "shell.execute_reply.started": "2022-09-23T15:40:56.710424Z"
    },
    "tags": []
   },
   "outputs": [
    {
     "name": "stdout",
     "output_type": "stream",
     "text": [
      "122 ms ± 1.68 ms per loop (mean ± std. dev. of 7 runs, 10 loops each)\n"
     ]
    }
   ],
   "source": [
    "%%timeit\n",
    "hdu = fits.ImageHDU(name=\"data\", data=data, header=fits.Header(meta))\n",
    "hdu.writeto(\"example.fits\", overwrite=True)"
   ]
  },
  {
   "cell_type": "code",
   "execution_count": 9,
   "id": "66e600f1-6e23-4939-86c8-0dab07a43f2a",
   "metadata": {
    "execution": {
     "iopub.execute_input": "2022-09-23T15:41:06.657412Z",
     "iopub.status.busy": "2022-09-23T15:41:06.657171Z",
     "iopub.status.idle": "2022-09-23T15:41:06.664038Z",
     "shell.execute_reply": "2022-09-23T15:41:06.663234Z",
     "shell.execute_reply.started": "2022-09-23T15:41:06.657394Z"
    },
    "tags": []
   },
   "outputs": [
    {
     "name": "stdout",
     "output_type": "stream",
     "text": [
      "Filename: example.fits\n",
      "No.    Name      Ver    Type      Cards   Dimensions   Format\n",
      "  0  PRIMARY       1 PrimaryHDU       4   ()      \n",
      "  1  DATA          1 ImageHDU        10   (5000, 5000)   float64   \n"
     ]
    }
   ],
   "source": [
    "with fits.open(\"example.fits\") as hdul:\n",
    "    hdul.info()"
   ]
  },
  {
   "cell_type": "code",
   "execution_count": 10,
   "id": "3ff304d0-4dc6-4af0-a2e9-01efca0c92b0",
   "metadata": {
    "execution": {
     "iopub.execute_input": "2022-09-23T15:41:06.664816Z",
     "iopub.status.busy": "2022-09-23T15:41:06.664665Z",
     "iopub.status.idle": "2022-09-23T15:41:09.333739Z",
     "shell.execute_reply": "2022-09-23T15:41:09.333244Z",
     "shell.execute_reply.started": "2022-09-23T15:41:06.664803Z"
    },
    "tags": []
   },
   "outputs": [
    {
     "name": "stdout",
     "output_type": "stream",
     "text": [
      "31.8 ms ± 2.02 ms per loop (mean ± std. dev. of 7 runs, 10 loops each)\n"
     ]
    }
   ],
   "source": [
    "%%timeit\n",
    "with fits.open(\"example.fits\") as hdul:\n",
    "    data = hdul[\"data\"].data\n",
    "    data.sum()"
   ]
  },
  {
   "cell_type": "markdown",
   "id": "68567b8c-147a-4936-a73d-6b62c46a975f",
   "metadata": {
    "tags": []
   },
   "source": [
    "## H5py"
   ]
  },
  {
   "cell_type": "code",
   "execution_count": 11,
   "id": "774d94b1-1a48-4988-861b-fb7e8f187c14",
   "metadata": {
    "execution": {
     "iopub.execute_input": "2022-09-23T15:41:09.334594Z",
     "iopub.status.busy": "2022-09-23T15:41:09.334389Z",
     "iopub.status.idle": "2022-09-23T15:41:21.523986Z",
     "shell.execute_reply": "2022-09-23T15:41:21.523244Z",
     "shell.execute_reply.started": "2022-09-23T15:41:09.334579Z"
    },
    "tags": []
   },
   "outputs": [
    {
     "name": "stdout",
     "output_type": "stream",
     "text": [
      "151 ms ± 15.1 ms per loop (mean ± std. dev. of 7 runs, 10 loops each)\n"
     ]
    }
   ],
   "source": [
    "%%timeit\n",
    "with h5py.File(\"example.h5\", mode=\"w\") as f:\n",
    "    f[\"data\"] = data\n",
    "    f.attrs.update(meta)"
   ]
  },
  {
   "cell_type": "code",
   "execution_count": 12,
   "id": "480cada8-6125-4331-9a23-e37f90d04a02",
   "metadata": {
    "execution": {
     "iopub.execute_input": "2022-09-23T15:41:21.529755Z",
     "iopub.status.busy": "2022-09-23T15:41:21.524946Z",
     "iopub.status.idle": "2022-09-23T15:41:25.716146Z",
     "shell.execute_reply": "2022-09-23T15:41:25.715438Z",
     "shell.execute_reply.started": "2022-09-23T15:41:21.529710Z"
    },
    "tags": []
   },
   "outputs": [
    {
     "name": "stdout",
     "output_type": "stream",
     "text": [
      "51.4 ms ± 817 µs per loop (mean ± std. dev. of 7 runs, 10 loops each)\n"
     ]
    }
   ],
   "source": [
    "%%timeit\n",
    "with h5py.File(\"example.h5\") as f:\n",
    "    data = f[\"data\"][:]\n",
    "    data.sum()"
   ]
  },
  {
   "cell_type": "markdown",
   "id": "3602b4d5-0610-42f4-9604-d305695fa7e6",
   "metadata": {
    "tags": []
   },
   "source": [
    "## Zarr"
   ]
  },
  {
   "cell_type": "code",
   "execution_count": 13,
   "id": "663d3f6c-8d97-41dc-b9d1-c21009598183",
   "metadata": {
    "execution": {
     "iopub.execute_input": "2022-09-23T15:41:25.717377Z",
     "iopub.status.busy": "2022-09-23T15:41:25.716987Z",
     "iopub.status.idle": "2022-09-23T15:41:38.608855Z",
     "shell.execute_reply": "2022-09-23T15:41:38.608384Z",
     "shell.execute_reply.started": "2022-09-23T15:41:25.717354Z"
    },
    "tags": []
   },
   "outputs": [
    {
     "name": "stdout",
     "output_type": "stream",
     "text": [
      "159 ms ± 4.85 ms per loop (mean ± std. dev. of 7 runs, 10 loops each)\n"
     ]
    }
   ],
   "source": [
    "%%timeit\n",
    "zarr.save('example.zarr', data) #, chunks=(1_000, 1_000))"
   ]
  },
  {
   "cell_type": "code",
   "execution_count": 14,
   "id": "adefab34-5d36-4116-9918-bc02b8dbddc4",
   "metadata": {
    "execution": {
     "iopub.execute_input": "2022-09-23T15:41:38.609593Z",
     "iopub.status.busy": "2022-09-23T15:41:38.609409Z",
     "iopub.status.idle": "2022-09-23T15:41:46.633467Z",
     "shell.execute_reply": "2022-09-23T15:41:46.632995Z",
     "shell.execute_reply.started": "2022-09-23T15:41:38.609580Z"
    },
    "tags": []
   },
   "outputs": [
    {
     "name": "stdout",
     "output_type": "stream",
     "text": [
      "98.9 ms ± 1.29 ms per loop (mean ± std. dev. of 7 runs, 10 loops each)\n"
     ]
    }
   ],
   "source": [
    "%%timeit\n",
    "zarr.load('example.zarr').sum()"
   ]
  },
  {
   "cell_type": "code",
   "execution_count": null,
   "id": "91c996f8-e594-4a22-9347-24cd38f651e0",
   "metadata": {},
   "outputs": [],
   "source": []
  },
  {
   "cell_type": "code",
   "execution_count": null,
   "id": "f6c49a0b-15ee-4a46-9c06-b36944b506cf",
   "metadata": {},
   "outputs": [],
   "source": []
  },
  {
   "cell_type": "code",
   "execution_count": 15,
   "id": "ae90b59c-b416-49c8-8540-8d235d0ab841",
   "metadata": {
    "execution": {
     "iopub.execute_input": "2022-09-23T15:41:46.634164Z",
     "iopub.status.busy": "2022-09-23T15:41:46.634020Z",
     "iopub.status.idle": "2022-09-23T15:41:46.760832Z",
     "shell.execute_reply": "2022-09-23T15:41:46.758868Z",
     "shell.execute_reply.started": "2022-09-23T15:41:46.634152Z"
    },
    "tags": []
   },
   "outputs": [
    {
     "name": "stdout",
     "output_type": "stream",
     "text": [
      "total 573M\n",
      "-rw------- 1 simon simon 191M Sep 23 17:40 example.asdf\n",
      "-rw-r--r-- 1 simon simon 191M Sep 23 17:41 example.fits\n",
      "-rw-r--r-- 1 simon simon 191M Sep 23 17:41 example.h5\n",
      "drwxr-xr-x 2 simon simon 4.0K Sep 23 17:41 \u001b[0m\u001b[01;34mexample.zarr\u001b[0m/\n"
     ]
    }
   ],
   "source": [
    "ls -lh"
   ]
  },
  {
   "cell_type": "code",
   "execution_count": null,
   "id": "8d553981-685c-4ea7-80fc-b497cbb4fb63",
   "metadata": {},
   "outputs": [],
   "source": []
  }
 ],
 "metadata": {
  "kernelspec": {
   "display_name": "Python 3 (ipykernel)",
   "language": "python",
   "name": "python3"
  },
  "language_info": {
   "codemirror_mode": {
    "name": "ipython",
    "version": 3
   },
   "file_extension": ".py",
   "mimetype": "text/x-python",
   "name": "python",
   "nbconvert_exporter": "python",
   "pygments_lexer": "ipython3",
   "version": "3.9.13"
  }
 },
 "nbformat": 4,
 "nbformat_minor": 5
}
