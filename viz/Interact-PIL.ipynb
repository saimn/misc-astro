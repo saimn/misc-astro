{
 "cells": [
  {
   "cell_type": "markdown",
   "metadata": {},
   "source": [
    "# Interactive visualizations with PIL"
   ]
  },
  {
   "cell_type": "code",
   "execution_count": 24,
   "metadata": {
    "ExecuteTime": {
     "end_time": "2017-12-13T13:54:35.483765Z",
     "start_time": "2017-12-13T13:54:35.448105Z"
    }
   },
   "outputs": [
    {
     "name": "stdout",
     "output_type": "stream",
     "text": [
      "Numpy 1.13.3\n",
      "Astropy 3.0.dev20874\n",
      "MPDAF 2.5.dev2499\n"
     ]
    }
   ],
   "source": [
    "%matplotlib inline\n",
    "%mpdaf\n",
    "\n",
    "import matplotlib.pyplot as plt\n",
    "import numpy as np\n",
    "import tqdm\n",
    "from PIL import Image\n",
    "\n",
    "from ipywidgets import interact\n"
   ]
  },
  {
   "cell_type": "markdown",
   "metadata": {},
   "source": [
    "## With PIL\n",
    "\n",
    "From https://gist.github.com/jakevdp/c7a27b31bade6b4a41718a76305b5054"
   ]
  },
  {
   "cell_type": "code",
   "execution_count": 3,
   "metadata": {
    "ExecuteTime": {
     "end_time": "2017-12-13T13:40:09.055312Z",
     "start_time": "2017-12-13T13:40:09.050568Z"
    }
   },
   "outputs": [],
   "source": [
    "def display_image(x):\n",
    "    x_scaled = np.uint8(255 * (x - x.min()) / x.ptp())\n",
    "    return Image.fromarray(x_scaled)\n",
    "\n",
    "#display_image(np.random.rand(200, 200))"
   ]
  },
  {
   "cell_type": "code",
   "execution_count": null,
   "metadata": {
    "ExecuteTime": {
     "end_time": "2017-12-13T13:40:12.865471Z",
     "start_time": "2017-12-13T13:40:12.732683Z"
    }
   },
   "outputs": [],
   "source": [
    "# Make some images\n",
    "images = [np.random.rand(200, 200) for i in range(150)]\n",
    "for i, image in enumerate(images):\n",
    "    image[i:i+50, i:i+50] = 0"
   ]
  },
  {
   "cell_type": "code",
   "execution_count": 58,
   "metadata": {
    "ExecuteTime": {
     "end_time": "2017-12-13T14:14:20.945555Z",
     "start_time": "2017-12-13T14:14:20.935560Z"
    }
   },
   "outputs": [],
   "source": [
    "# def display_sequence(images):\n",
    "#     def _show(frame=(0, len(images)-1)):\n",
    "#         return display_image(images[frame])\n",
    "#     return interact(_show)\n",
    "\n",
    "# # Note: this will only display with a live kernel\n",
    "# display_sequence(images);"
   ]
  },
  {
   "cell_type": "code",
   "execution_count": 59,
   "metadata": {
    "ExecuteTime": {
     "end_time": "2017-12-13T14:14:23.126535Z",
     "start_time": "2017-12-13T14:14:23.050758Z"
    }
   },
   "outputs": [
    {
     "data": {
      "application/vnd.jupyter.widget-view+json": {
       "model_id": "80f8289fb9fe4282829cfbb7d171c195",
       "version_major": 2,
       "version_minor": 0
      },
      "text/html": [
       "<p>Failed to display Jupyter Widget of type <code>interactive</code>.</p>\n",
       "<p>\n",
       "  If you're reading this message in the Jupyter Notebook or JupyterLab Notebook, it may mean\n",
       "  that the widgets JavaScript is still loading. If this message persists, it\n",
       "  likely means that the widgets JavaScript library is either not installed or\n",
       "  not enabled. See the <a href=\"https://ipywidgets.readthedocs.io/en/stable/user_install.html\">Jupyter\n",
       "  Widgets Documentation</a> for setup instructions.\n",
       "</p>\n",
       "<p>\n",
       "  If you're reading this message in another frontend (for example, a static\n",
       "  rendering on GitHub or <a href=\"https://nbviewer.jupyter.org/\">NBViewer</a>),\n",
       "  it may mean that your frontend doesn't currently support widgets.\n",
       "</p>\n"
      ],
      "text/plain": [
       "interactive(children=(IntSlider(value=49, description='frame', max=99), Output()), _dom_classes=('widget-interact',))"
      ]
     },
     "metadata": {},
     "output_type": "display_data"
    }
   ],
   "source": [
    "@interact\n",
    "def display_sequence(frame=(0, len(images)-1)):\n",
    "    return display_image(images[frame])"
   ]
  },
  {
   "cell_type": "code",
   "execution_count": 13,
   "metadata": {
    "ExecuteTime": {
     "end_time": "2017-12-13T13:48:41.914284Z",
     "start_time": "2017-12-13T13:48:41.910128Z"
    }
   },
   "outputs": [],
   "source": [
    "# # Make a gif\n",
    "# import imageio\n",
    "# images_scaled = [np.uint8(255 * image) for image in images]\n",
    "# imageio.mimsave('movie.gif', images_scaled, format='gif', fps=60)"
   ]
  },
  {
   "cell_type": "markdown",
   "metadata": {},
   "source": [
    "## With a cube"
   ]
  },
  {
   "cell_type": "code",
   "execution_count": 18,
   "metadata": {
    "ExecuteTime": {
     "end_time": "2017-12-13T13:51:34.179171Z",
     "start_time": "2017-12-13T13:51:34.140423Z"
    }
   },
   "outputs": [],
   "source": [
    "cube = Cube('/home/simon/data/UDF/1.0b1/DATACUBE_UDF-10.fits')"
   ]
  },
  {
   "cell_type": "code",
   "execution_count": 26,
   "metadata": {
    "ExecuteTime": {
     "end_time": "2017-12-13T13:59:12.452961Z",
     "start_time": "2017-12-13T13:56:25.152410Z"
    }
   },
   "outputs": [
    {
     "data": {
      "application/vnd.jupyter.widget-view+json": {
       "model_id": "99cc35bb9e2a464487c77f1985a72e56",
       "version_major": 2,
       "version_minor": 0
      },
      "text/html": [
       "<p>Failed to display Jupyter Widget of type <code>HBox</code>.</p>\n",
       "<p>\n",
       "  If you're reading this message in the Jupyter Notebook or JupyterLab Notebook, it may mean\n",
       "  that the widgets JavaScript is still loading. If this message persists, it\n",
       "  likely means that the widgets JavaScript library is either not installed or\n",
       "  not enabled. See the <a href=\"https://ipywidgets.readthedocs.io/en/stable/user_install.html\">Jupyter\n",
       "  Widgets Documentation</a> for setup instructions.\n",
       "</p>\n",
       "<p>\n",
       "  If you're reading this message in another frontend (for example, a static\n",
       "  rendering on GitHub or <a href=\"https://nbviewer.jupyter.org/\">NBViewer</a>),\n",
       "  it may mean that your frontend doesn't currently support widgets.\n",
       "</p>\n"
      ],
      "text/plain": [
       "HBox(children=(IntProgress(value=0), HTML(value='')))"
      ]
     },
     "metadata": {},
     "output_type": "display_data"
    },
    {
     "name": "stdout",
     "output_type": "stream",
     "text": [
      "\n"
     ]
    }
   ],
   "source": [
    "nslices = 100\n",
    "l = np.linspace(0, cube.shape[0], nslices+1, dtype=int)\n",
    "images = []\n",
    "for lmin, lmax in tqdm.tqdm_notebook(zip(l[:-1], l[1:]), total=nslices):\n",
    "    images.append(np.nanmean(cube._data[lmin:lmax], axis=0))"
   ]
  },
  {
   "cell_type": "code",
   "execution_count": 27,
   "metadata": {
    "ExecuteTime": {
     "end_time": "2017-12-13T14:00:42.372852Z",
     "start_time": "2017-12-13T14:00:42.365357Z"
    }
   },
   "outputs": [],
   "source": [
    "cube = None\n",
    "import gc; gc.collect()"
   ]
  },
  {
   "cell_type": "code",
   "execution_count": 49,
   "metadata": {
    "ExecuteTime": {
     "end_time": "2017-12-13T14:11:30.820442Z",
     "start_time": "2017-12-13T14:11:30.817844Z"
    }
   },
   "outputs": [],
   "source": [
    "from astropy.visualization import SqrtStretch, PercentileInterval"
   ]
  },
  {
   "cell_type": "code",
   "execution_count": 56,
   "metadata": {
    "ExecuteTime": {
     "end_time": "2017-12-13T14:12:29.838235Z",
     "start_time": "2017-12-13T14:12:29.819332Z"
    }
   },
   "outputs": [],
   "source": [
    "transform = SqrtStretch() + PercentileInterval(90)\n",
    "\n",
    "def display_image_scaled(x):\n",
    "    #x_scaled = np.uint8(255 * (x - x.min()) / x.ptp())\n",
    "    return Image.fromarray(np.uint8(transform(x) * 255))\n",
    "\n",
    "#display_image(np.random.rand(200, 200))"
   ]
  },
  {
   "cell_type": "code",
   "execution_count": 57,
   "metadata": {
    "ExecuteTime": {
     "end_time": "2017-12-13T14:12:30.584133Z",
     "start_time": "2017-12-13T14:12:30.531141Z"
    }
   },
   "outputs": [
    {
     "data": {
      "application/vnd.jupyter.widget-view+json": {
       "model_id": "1ef4fb02f6cd409ab8f87ea2645ea6b9",
       "version_major": 2,
       "version_minor": 0
      },
      "text/html": [
       "<p>Failed to display Jupyter Widget of type <code>interactive</code>.</p>\n",
       "<p>\n",
       "  If you're reading this message in the Jupyter Notebook or JupyterLab Notebook, it may mean\n",
       "  that the widgets JavaScript is still loading. If this message persists, it\n",
       "  likely means that the widgets JavaScript library is either not installed or\n",
       "  not enabled. See the <a href=\"https://ipywidgets.readthedocs.io/en/stable/user_install.html\">Jupyter\n",
       "  Widgets Documentation</a> for setup instructions.\n",
       "</p>\n",
       "<p>\n",
       "  If you're reading this message in another frontend (for example, a static\n",
       "  rendering on GitHub or <a href=\"https://nbviewer.jupyter.org/\">NBViewer</a>),\n",
       "  it may mean that your frontend doesn't currently support widgets.\n",
       "</p>\n"
      ],
      "text/plain": [
       "interactive(children=(IntSlider(value=49, description='frame', max=99), Output()), _dom_classes=('widget-interact',))"
      ]
     },
     "metadata": {},
     "output_type": "display_data"
    }
   ],
   "source": [
    "@interact\n",
    "def display_sequence(frame=(0, 99)):\n",
    "    return display_image_scaled(images[frame])"
   ]
  },
  {
   "cell_type": "code",
   "execution_count": null,
   "metadata": {},
   "outputs": [],
   "source": []
  },
  {
   "cell_type": "code",
   "execution_count": null,
   "metadata": {},
   "outputs": [],
   "source": []
  },
  {
   "cell_type": "code",
   "execution_count": null,
   "metadata": {},
   "outputs": [],
   "source": []
  },
  {
   "cell_type": "code",
   "execution_count": null,
   "metadata": {},
   "outputs": [],
   "source": []
  },
  {
   "cell_type": "code",
   "execution_count": null,
   "metadata": {},
   "outputs": [],
   "source": []
  },
  {
   "cell_type": "code",
   "execution_count": null,
   "metadata": {},
   "outputs": [],
   "source": []
  },
  {
   "cell_type": "code",
   "execution_count": null,
   "metadata": {},
   "outputs": [],
   "source": []
  },
  {
   "cell_type": "code",
   "execution_count": null,
   "metadata": {},
   "outputs": [],
   "source": []
  },
  {
   "cell_type": "code",
   "execution_count": null,
   "metadata": {},
   "outputs": [],
   "source": []
  }
 ],
 "metadata": {
  "kernelspec": {
   "display_name": "Python 3",
   "language": "python",
   "name": "python3"
  },
  "language_info": {
   "codemirror_mode": {
    "name": "ipython",
    "version": 3
   },
   "file_extension": ".py",
   "mimetype": "text/x-python",
   "name": "python",
   "nbconvert_exporter": "python",
   "pygments_lexer": "ipython3",
   "version": "3.6.3"
  }
 },
 "nbformat": 4,
 "nbformat_minor": 2
}
