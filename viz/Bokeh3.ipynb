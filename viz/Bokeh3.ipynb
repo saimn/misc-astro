{
 "cells": [
  {
   "cell_type": "code",
   "execution_count": null,
   "metadata": {},
   "outputs": [],
   "source": [
    "%load_ext autoreload\n",
    "%autoreload 2"
   ]
  },
  {
   "cell_type": "code",
   "execution_count": null,
   "metadata": {},
   "outputs": [],
   "source": [
    "import numpy as np\n",
    "#from ipywidgets import interact\n",
    "\n",
    "import bokeh\n",
    "from bokeh.palettes import viridis, Category10\n",
    "from bokeh.plotting import figure, output_file, show, output_notebook, save, ColumnDataSource\n",
    "from bokeh.models import GlyphRenderer, LinearColorMapper, LinearAxis, Range1d, Span, Label, LabelSet, Legend\n",
    "from bokeh.io import push_notebook, export_png, reset_output, export_svgs, curdoc\n",
    "from bokeh.layouts import gridplot, layout, row, column\n",
    "from bokeh.themes import built_in_themes\n",
    "\n",
    "#from numba import jit, njit\n",
    "\n",
    "bokeh.__version__"
   ]
  },
  {
   "cell_type": "code",
   "execution_count": null,
   "metadata": {},
   "outputs": [],
   "source": [
    "from mpdaf.tools.bokeh import *"
   ]
  },
  {
   "cell_type": "code",
   "execution_count": null,
   "metadata": {},
   "outputs": [],
   "source": [
    "output_notebook()"
   ]
  },
  {
   "cell_type": "code",
   "execution_count": null,
   "metadata": {},
   "outputs": [],
   "source": [
    "%mpdaf"
   ]
  },
  {
   "cell_type": "code",
   "execution_count": null,
   "metadata": {},
   "outputs": [],
   "source": [
    "#s = Source.from_file('/home/simon/data/UDF/udf_origin_00223.fits')\n",
    "#s = Source.from_file('/home/simon/data/UDF/udf10_c031_e021/udf_udf10_00002.fits')\n",
    "s = Source.from_file('/home/simon/data/UDF/udf_udf10_00002.fits')\n",
    "#s = Source.from_file('/muse/UDF/private/analysis/UDF-10/udf10_sources/udf_udf10_00002.fits')"
   ]
  },
  {
   "cell_type": "code",
   "execution_count": null,
   "metadata": {},
   "outputs": [],
   "source": [
    "images = {\n",
    "    'MUSE_WHITE': {'scale': 'zscale'},\n",
    "    'MUSE_EXPMAP': {'scale': 'minmax', 'palette': 'Greys256',\n",
    "                    'link': 'MUSE_WHITE'},\n",
    "    'MASK_OBJ': {'scale': 'minmax', 'palette': 'Greys256',\n",
    "                 'link': 'MUSE_WHITE'},\n",
    "    'HST_F606W': {'scale': 'percentile'},\n",
    "    'HST_F775W': {'scale': 'percentile', 'link': 'HST_F606W'}\n",
    "}"
   ]
  },
  {
   "cell_type": "code",
   "execution_count": null,
   "metadata": {},
   "outputs": [],
   "source": [
    "from bokeh.models import CheckboxGroup, CustomJS, RadioGroup, RadioButtonGroup\n",
    "\n",
    "imgs = plot_src_images(s, params=images, size=(250, 250))\n",
    "imgrow = row(imgs[0])\n",
    "checkbox = RadioButtonGroup(labels=list(images.keys()), active=0, width=500)\n",
    "\n",
    "callback = CustomJS(args=dict(plots=imgs, imgrow=imgrow, checkbox=checkbox), code=\"\"\"\n",
    "const children = []\n",
    "children.push(plots[checkbox.active])\n",
    "imgrow.children = children\n",
    "\"\"\")\n",
    "checkbox.js_on_change('active', callback)\n",
    "\n",
    "show(column(checkbox, imgrow))"
   ]
  },
  {
   "cell_type": "code",
   "execution_count": null,
   "metadata": {},
   "outputs": [],
   "source": [
    "#show(plot_spectrum(s, size=(750, 400), axis_labels=False))\n",
    "#height = 400\n",
    "#show(row(plot_spectrum(s, size=(750, height), axis_labels=False, zoom_nlines=1, zoom_size=(400, height))))"
   ]
  },
  {
   "cell_type": "code",
   "execution_count": null,
   "metadata": {},
   "outputs": [],
   "source": [
    "from bokeh.models.widgets import Div\n",
    "\n",
    "def legend(s, size=(800, 200)):\n",
    "    z = s.z[s.z['Z_DESC'] == 'MUSE'][0]['Z']\n",
    "    div = Div(text=f\"\"\"<h4>Source #{s.ID}, ({s.RA:.6f}, {s.DEC:.6f}), z={z:.3f}</h4>\"\"\", width=size[0], height=size[1])\n",
    "    return [div]"
   ]
  },
  {
   "cell_type": "code",
   "execution_count": null,
   "metadata": {},
   "outputs": [],
   "source": [
    "nbimages = {name: {'scale': 'zscale'} for name in sorted([im for im in s.images if im.startswith('NB_')])}\n",
    "nbimages"
   ]
  },
  {
   "cell_type": "code",
   "execution_count": null,
   "metadata": {},
   "outputs": [],
   "source": [
    "images = {\n",
    "    'MUSE_WHITE': {'scale': 'zscale'},\n",
    "    #'MUSE_EXPMAP': {'scale': 'minmax', 'palette': 'Greys256', 'link': 'MUSE_WHITE'},\n",
    "    'MASK_OBJ': {'scale': 'minmax', 'palette': 'Greys256', 'link': 'MUSE_WHITE'}, \n",
    "    'HST_F606W': {'scale': 'percentile'}, \n",
    "    'HST_F775W': {'scale': 'percentile', 'link': 'HST_F606W'}\n",
    "}"
   ]
  },
  {
   "cell_type": "code",
   "execution_count": null,
   "metadata": {},
   "outputs": [],
   "source": [
    "#output_file('output.html')\n",
    "\n",
    "#curdoc().theme = 'dark_minimal'\n",
    "\n",
    "#l = gridplot([\n",
    "#    legend(s, size=(1250, 20)),\n",
    "#    plot_src_images(s, params=images, size=(250,250), show_tooltip=True), \n",
    "#    plot_spectrum(s, size=(750, 300), axis_labels=False, zoom_nlines=2, zoom_size=(250,300))\n",
    "#], sizing_mode='fixed')\n",
    "\n",
    "#show(l)\n",
    "#plot = show(p, notebook_handle=True)"
   ]
  },
  {
   "cell_type": "code",
   "execution_count": null,
   "metadata": {},
   "outputs": [],
   "source": [
    "from bokeh.models import CheckboxGroup, CustomJS, RadioGroup, RadioButtonGroup\n",
    "\n",
    "imgs = plot_src_images(s, params=nbimages, size=(250, 250))\n",
    "imgrow = row(imgs[0])\n",
    "checkbox = RadioButtonGroup(labels=[k[3:] for k in nbimages.keys()], active=0, width=1000)\n",
    "\n",
    "callback = CustomJS(args=dict(plots=imgs, imgrow=imgrow, checkbox=checkbox), code=\"\"\"\n",
    "const children = []\n",
    "children.push(plots[checkbox.active])\n",
    "imgrow.children = children\n",
    "\"\"\")\n",
    "checkbox.js_on_change('active', callback)\n",
    "\n",
    "l = gridplot([\n",
    "    legend(s, size=(1000, 20)),\n",
    "    [checkbox], \n",
    "    [imgrow] + plot_src_images(s, params=images, size=(250,250), show_tooltip=True), \n",
    "    #plot_src_images(s, params=images, size=(250,250), show_tooltip=True), \n",
    "    plot_spectrum(s, size=(750, 300), axis_labels=False, zoom_nlines=1, zoom_size=(250,300))\n",
    "], sizing_mode='fixed')\n",
    "show(l)"
   ]
  },
  {
   "cell_type": "code",
   "execution_count": null,
   "metadata": {},
   "outputs": [],
   "source": [
    "#plot_spectrum(s, size=(750, 300), axis_labels=False, zoom_nlines=2, zoom_size=(250,300))"
   ]
  },
  {
   "cell_type": "code",
   "execution_count": null,
   "metadata": {},
   "outputs": [],
   "source": [
    "#save(l, 'plop.html', )"
   ]
  },
  {
   "cell_type": "code",
   "execution_count": null,
   "metadata": {},
   "outputs": [],
   "source": []
  }
 ],
 "metadata": {
  "kernelspec": {
   "display_name": "Python 3",
   "language": "python",
   "name": "python3"
  },
  "language_info": {
   "codemirror_mode": {
    "name": "ipython",
    "version": 3
   },
   "file_extension": ".py",
   "mimetype": "text/x-python",
   "name": "python",
   "nbconvert_exporter": "python",
   "pygments_lexer": "ipython3",
   "version": "3.7.0"
  }
 },
 "nbformat": 4,
 "nbformat_minor": 2
}
