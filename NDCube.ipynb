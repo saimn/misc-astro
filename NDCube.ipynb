{
 "cells": [
  {
   "cell_type": "code",
   "execution_count": 1,
   "metadata": {},
   "outputs": [
    {
     "name": "stdout",
     "output_type": "stream",
     "text": [
      "Numpy 1.14.1\n",
      "Astropy 3.1.dev21501\n",
      "MPDAF 3.0.dev2588\n"
     ]
    },
    {
     "name": "stderr",
     "output_type": "stream",
     "text": [
      "WARNING: AstropyDeprecationWarning: \n",
      "The 'recommended_units' attribute is deprecated since 3.0 and may be removed\n",
      "in a future version. Its main use, of representing angles in degrees in frames,\n",
      "is now done automatically in frames. Further overrides are discouraged but can\n",
      "be done using a frame's ``frame_specific_representation_info``.\n",
      " [astropy.coordinates.representation]\n"
     ]
    }
   ],
   "source": [
    "%matplotlib inline\n",
    "%mpdaf\n",
    "\n",
    "import ndcube\n",
    "from astropy.wcs import WCS"
   ]
  },
  {
   "cell_type": "code",
   "execution_count": 2,
   "metadata": {},
   "outputs": [
    {
     "name": "stdout",
     "output_type": "stream",
     "text": [
      "/home/simon/work/muse/mpdaf\n"
     ]
    }
   ],
   "source": [
    "%cd ~/work/muse/mpdaf"
   ]
  },
  {
   "cell_type": "code",
   "execution_count": 3,
   "metadata": {},
   "outputs": [
    {
     "name": "stderr",
     "output_type": "stream",
     "text": [
      "WARNING: UnitsWarning: '1e-20 erg/s/cm  2/Angstrom' contains multiple slashes, which is discouraged by the FITS standard [astropy.units.format.generic]\n"
     ]
    }
   ],
   "source": [
    "c = Cube('lib/mpdaf/data/sdetect/minicube.fits')"
   ]
  },
  {
   "cell_type": "code",
   "execution_count": 4,
   "metadata": {},
   "outputs": [
    {
     "name": "stdout",
     "output_type": "stream",
     "text": [
      "INFO: overwriting Masked Objects's current mask with specified mask. [astropy.nddata.nddata]\n",
      "INFO: uncertainty should have attribute uncertainty_type. [astropy.nddata.nddata]\n"
     ]
    },
    {
     "data": {
      "text/plain": [
       "NDCube\n",
       "---------------------\n",
       "WCS Keywords\n",
       "\n",
       "Number of WCS axes: 3\n",
       "CTYPE : 'RA---TAN'  'DEC--TAN'  'AWAV'  \n",
       "CRVAL : 63.355417  10.46556  4.7498906250000003e-07  \n",
       "CRPIX : 24.827710087038  18.598827759223  1.0  \n",
       "CD1_1 CD1_2 CD1_3  : -5.5555555555556e-05  0.0  0.0  \n",
       "CD2_1 CD2_2 CD2_3  : 0.0  5.5555555555556e-05  0.0  \n",
       "CD3_1 CD3_2 CD3_3  : 0.0  0.0  1.25e-10  \n",
       "NAXIS : 40  40  3681\n",
       "---------------------\n",
       "Length of NDCube: [3681.   40.   40.] pix\n",
       "Axis Types of NDCube: (None, None, None)"
      ]
     },
     "execution_count": 4,
     "metadata": {},
     "output_type": "execute_result"
    }
   ],
   "source": [
    "ndc = ndcube.NDCube(data=c.data, wcs=WCS(c.data_header), uncertainty=c.var, mask=c.mask, meta=c.primary_header, unit=c.unit)\n",
    "ndc"
   ]
  },
  {
   "cell_type": "code",
   "execution_count": 5,
   "metadata": {},
   "outputs": [
    {
     "data": {
      "text/latex": [
       "$[3681,~40,~40] \\; \\mathrm{pix}$"
      ],
      "text/plain": [
       "<Quantity [3681.,   40.,   40.] pix>"
      ]
     },
     "execution_count": 5,
     "metadata": {},
     "output_type": "execute_result"
    }
   ],
   "source": [
    "ndc.dimensions"
   ]
  },
  {
   "cell_type": "code",
   "execution_count": 6,
   "metadata": {},
   "outputs": [
    {
     "data": {
      "text/plain": [
       "<sunpy.visualization.imageanimator.ImageAnimatorWCS at 0x7f51bb5adcc0>"
      ]
     },
     "execution_count": 6,
     "metadata": {},
     "output_type": "execute_result"
    },
    {
     "data": {
      "image/png": "[encoded data removed]",
      "text/plain": [
       "<matplotlib.figure.Figure at 0x7f51bb5adfd0>"
      ]
     },
     "metadata": {},
     "output_type": "display_data"
    }
   ],
   "source": [
    "ndc.plot()"
   ]
  },
  {
   "cell_type": "code",
   "execution_count": null,
   "metadata": {},
   "outputs": [],
   "source": []
  }
 ],
 "metadata": {
  "kernelspec": {
   "display_name": "Python 3",
   "language": "python",
   "name": "python3"
  },
  "language_info": {
   "codemirror_mode": {
    "name": "ipython",
    "version": 3
   },
   "file_extension": ".py",
   "mimetype": "text/x-python",
   "name": "python",
   "nbconvert_exporter": "python",
   "pygments_lexer": "ipython3",
   "version": "3.6.3"
  }
 },
 "nbformat": 4,
 "nbformat_minor": 2
}
