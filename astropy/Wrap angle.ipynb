{
 "cells": [
  {
   "cell_type": "code",
   "execution_count": 1,
   "id": "a883dd3e-923d-43a6-aade-2b723f5004ce",
   "metadata": {
    "execution": {
     "iopub.execute_input": "2024-04-25T08:26:36.481721Z",
     "iopub.status.busy": "2024-04-25T08:26:36.481591Z",
     "iopub.status.idle": "2024-04-25T08:26:37.466531Z",
     "shell.execute_reply": "2024-04-25T08:26:37.465914Z",
     "shell.execute_reply.started": "2024-04-25T08:26:36.481705Z"
    }
   },
   "outputs": [],
   "source": [
    "%load_ext cython\n",
    "%matplotlib inline\n",
    "\n",
    "import math\n",
    "import statistics\n",
    "import timeit\n",
    "from collections import defaultdict\n",
    "\n",
    "import astropy.units as u\n",
    "import matplotlib.pyplot as plt\n",
    "from astropy.coordinates import Angle\n",
    "\n",
    "import numpy as np"
   ]
  },
  {
   "cell_type": "code",
   "execution_count": 2,
   "id": "57781554-c779-4098-8a4a-477176803f7a",
   "metadata": {
    "execution": {
     "iopub.execute_input": "2024-04-25T08:26:37.467138Z",
     "iopub.status.busy": "2024-04-25T08:26:37.467006Z",
     "iopub.status.idle": "2024-04-25T08:26:37.550862Z",
     "shell.execute_reply": "2024-04-25T08:26:37.550212Z",
     "shell.execute_reply.started": "2024-04-25T08:26:37.467126Z"
    }
   },
   "outputs": [],
   "source": [
    "%%cython\n",
    "\n",
    "cimport cython\n",
    "from libc cimport math\n",
    "\n",
    "\n",
    "@cython.cdivision(True)\n",
    "def div(float angle, float period):\n",
    "    cdef int wraps\n",
    "    wraps = <int> math.floor(angle / period)\n",
    "    return wraps\n",
    "\n",
    "@cython.cdivision(True)\n",
    "def div2(float angle, float period):\n",
    "    cdef int wraps\n",
    "    wraps = int(angle // period)\n",
    "    return wraps"
   ]
  },
  {
   "cell_type": "code",
   "execution_count": 3,
   "id": "b50f7660-0859-43a9-9208-a10372526d91",
   "metadata": {
    "execution": {
     "iopub.execute_input": "2024-04-25T08:26:37.552507Z",
     "iopub.status.busy": "2024-04-25T08:26:37.552365Z",
     "iopub.status.idle": "2024-04-25T08:26:37.556254Z",
     "shell.execute_reply": "2024-04-25T08:26:37.555909Z",
     "shell.execute_reply.started": "2024-04-25T08:26:37.552495Z"
    }
   },
   "outputs": [
    {
     "data": {
      "text/plain": [
       "(3, 5)"
      ]
     },
     "execution_count": 3,
     "metadata": {},
     "output_type": "execute_result"
    }
   ],
   "source": [
    "div(10, 3), div(10, 2)"
   ]
  },
  {
   "cell_type": "code",
   "execution_count": 4,
   "id": "bc96efcc-052f-45ee-ab24-af91c195cb74",
   "metadata": {
    "execution": {
     "iopub.execute_input": "2024-04-25T08:26:37.556834Z",
     "iopub.status.busy": "2024-04-25T08:26:37.556709Z",
     "iopub.status.idle": "2024-04-25T08:26:37.565386Z",
     "shell.execute_reply": "2024-04-25T08:26:37.565079Z",
     "shell.execute_reply.started": "2024-04-25T08:26:37.556822Z"
    }
   },
   "outputs": [
    {
     "data": {
      "text/plain": [
       "(3, 5)"
      ]
     },
     "execution_count": 4,
     "metadata": {},
     "output_type": "execute_result"
    }
   ],
   "source": [
    "div2(10, 3), div2(10, 2)"
   ]
  },
  {
   "cell_type": "code",
   "execution_count": 5,
   "id": "ab91ebda-61d0-4fa9-85a8-caea1402a0f6",
   "metadata": {
    "execution": {
     "iopub.execute_input": "2024-04-25T08:26:37.565965Z",
     "iopub.status.busy": "2024-04-25T08:26:37.565849Z",
     "iopub.status.idle": "2024-04-25T08:26:41.582304Z",
     "shell.execute_reply": "2024-04-25T08:26:41.581957Z",
     "shell.execute_reply.started": "2024-04-25T08:26:37.565953Z"
    }
   },
   "outputs": [
    {
     "name": "stdout",
     "output_type": "stream",
     "text": [
      "48.8 ns ± 4.12 ns per loop (mean ± std. dev. of 7 runs, 10,000,000 loops each)\n"
     ]
    }
   ],
   "source": [
    "%timeit div(10, 3)"
   ]
  },
  {
   "cell_type": "code",
   "execution_count": 6,
   "id": "057f1988-4610-4693-9967-975f264d53c4",
   "metadata": {
    "execution": {
     "iopub.execute_input": "2024-04-25T08:26:41.582974Z",
     "iopub.status.busy": "2024-04-25T08:26:41.582856Z",
     "iopub.status.idle": "2024-04-25T08:26:45.193464Z",
     "shell.execute_reply": "2024-04-25T08:26:45.193097Z",
     "shell.execute_reply.started": "2024-04-25T08:26:41.582958Z"
    }
   },
   "outputs": [
    {
     "name": "stdout",
     "output_type": "stream",
     "text": [
      "44.1 ns ± 2.35 ns per loop (mean ± std. dev. of 7 runs, 10,000,000 loops each)\n"
     ]
    }
   ],
   "source": [
    "%timeit div2(10, 3)"
   ]
  },
  {
   "cell_type": "code",
   "execution_count": null,
   "id": "cde1ca49-2e03-44fd-a62b-8e15be1af54c",
   "metadata": {},
   "outputs": [],
   "source": []
  },
  {
   "cell_type": "code",
   "execution_count": 7,
   "id": "6d6cb76c-c91a-48aa-b2a8-13700d824dcf",
   "metadata": {
    "execution": {
     "iopub.execute_input": "2024-04-25T08:26:45.194106Z",
     "iopub.status.busy": "2024-04-25T08:26:45.193984Z",
     "iopub.status.idle": "2024-04-25T08:26:45.197113Z",
     "shell.execute_reply": "2024-04-25T08:26:45.196653Z",
     "shell.execute_reply.started": "2024-04-25T08:26:45.194095Z"
    }
   },
   "outputs": [],
   "source": [
    "def ref_wrap_at(self_angle, wrap_angle, a360):\n",
    "    wrap_angle = float(wrap_angle)\n",
    "    wrap_angle_floor = wrap_angle - a360\n",
    "    # Do the wrapping, but only if any angles need to be wrapped\n",
    "    #\n",
    "    # Catch any invalid warnings from the floor division.\n",
    "\n",
    "    # See if any wrapping is necessary and return early otherwise.\n",
    "    # It is useful to avoid this since the array may be read-only\n",
    "    # (e.g. due to broadcasting).\n",
    "    # Note that since comparisons with NaN always return False,\n",
    "    # this also ensures that no adjustments are made for a\n",
    "    # read-only array with some NaN but otherwise OK elements.\n",
    "    out_of_range = (self_angle < wrap_angle_floor) | (self_angle >= wrap_angle)\n",
    "    if not out_of_range.any():\n",
    "        return\n",
    "\n",
    "    wraps = (self_angle - wrap_angle_floor) // a360\n",
    "\n",
    "    self_angle -= wraps * a360\n",
    "    # Rounding errors can cause problems.\n",
    "    self_angle[self_angle >= wrap_angle] -= a360\n",
    "    self_angle[self_angle < wrap_angle_floor] += a360\n",
    "    return self_angle"
   ]
  },
  {
   "cell_type": "code",
   "execution_count": 8,
   "id": "b53f7c9a-8fa3-484c-ae2f-184e4ec5dce5",
   "metadata": {
    "execution": {
     "iopub.execute_input": "2024-04-25T08:26:45.197636Z",
     "iopub.status.busy": "2024-04-25T08:26:45.197520Z",
     "iopub.status.idle": "2024-04-25T08:26:45.256095Z",
     "shell.execute_reply": "2024-04-25T08:26:45.254961Z",
     "shell.execute_reply.started": "2024-04-25T08:26:45.197619Z"
    }
   },
   "outputs": [],
   "source": [
    "%%cython -3\n",
    "\n",
    "cimport cython\n",
    "from libc cimport math\n",
    "\n",
    "cimport numpy as np\n",
    "\n",
    "np.import_array()\n",
    "\n",
    "ctypedef fused dtype:\n",
    "    short\n",
    "    int\n",
    "    long\n",
    "    float\n",
    "    double\n",
    "\n",
    "\n",
    "@cython.ufunc\n",
    "@cython.cdivision(True)\n",
    "cdef dtype wrap_at(dtype angle, dtype wrap_angle, dtype period):\n",
    "    cdef dtype wrap_angle_floor\n",
    "    wrap_angle_floor = wrap_angle - period\n",
    "\n",
    "    if dtype is float or dtype is double:\n",
    "        if math.isnan(angle):\n",
    "            return angle\n",
    "\n",
    "    if (angle >= wrap_angle_floor) and (angle < wrap_angle):\n",
    "        return angle\n",
    "\n",
    "    cdef int wraps\n",
    "    wraps = <int> math.floor((angle - wrap_angle_floor) / period)\n",
    "\n",
    "    angle -= wraps * period\n",
    "\n",
    "    # Rounding errors can cause problems.\n",
    "    if angle >= wrap_angle:\n",
    "        angle -= period\n",
    "    elif angle < wrap_angle_floor:\n",
    "        angle += period\n",
    "\n",
    "    return angle"
   ]
  },
  {
   "cell_type": "code",
   "execution_count": 9,
   "id": "b470a9fe-fdfa-483a-a402-3d4886c4bac0",
   "metadata": {
    "execution": {
     "iopub.execute_input": "2024-04-25T08:26:45.256907Z",
     "iopub.status.busy": "2024-04-25T08:26:45.256796Z",
     "iopub.status.idle": "2024-04-25T08:26:45.264371Z",
     "shell.execute_reply": "2024-04-25T08:26:45.263771Z",
     "shell.execute_reply.started": "2024-04-25T08:26:45.256895Z"
    }
   },
   "outputs": [],
   "source": [
    "arr = np.random.uniform(0, 10_000, size=1_000_000)"
   ]
  },
  {
   "cell_type": "code",
   "execution_count": 10,
   "id": "3fb856f2-d4c4-48c0-af4b-10da0f18f4e0",
   "metadata": {
    "execution": {
     "iopub.execute_input": "2024-04-25T08:26:45.264990Z",
     "iopub.status.busy": "2024-04-25T08:26:45.264887Z",
     "iopub.status.idle": "2024-04-25T08:26:45.269471Z",
     "shell.execute_reply": "2024-04-25T08:26:45.269216Z",
     "shell.execute_reply.started": "2024-04-25T08:26:45.264981Z"
    }
   },
   "outputs": [
    {
     "data": {
      "text/plain": [
       "array([8309.71687369, 8531.17005931, 7180.25942512, ..., 5439.42968179,\n",
       "       4590.65909066, 6865.6230479 ])"
      ]
     },
     "execution_count": 10,
     "metadata": {},
     "output_type": "execute_result"
    }
   ],
   "source": [
    "arr"
   ]
  },
  {
   "cell_type": "code",
   "execution_count": 11,
   "id": "b1ea585d-0bf1-4661-aba2-f2727d3e20fd",
   "metadata": {
    "execution": {
     "iopub.execute_input": "2024-04-25T08:26:45.269942Z",
     "iopub.status.busy": "2024-04-25T08:26:45.269848Z",
     "iopub.status.idle": "2024-04-25T08:26:45.286384Z",
     "shell.execute_reply": "2024-04-25T08:26:45.286135Z",
     "shell.execute_reply.started": "2024-04-25T08:26:45.269933Z"
    }
   },
   "outputs": [
    {
     "data": {
      "text/plain": [
       "array([1109.71687369,  971.17005931, 1060.25942512, ..., 1119.42968179,\n",
       "        990.65909066, 1105.6230479 ])"
      ]
     },
     "execution_count": 11,
     "metadata": {},
     "output_type": "execute_result"
    }
   ],
   "source": [
    "wrap_at(arr, 1200, 360)"
   ]
  },
  {
   "cell_type": "code",
   "execution_count": 12,
   "id": "621aaf77-b67d-4aea-9ea8-ea4b456f8879",
   "metadata": {
    "execution": {
     "iopub.execute_input": "2024-04-25T08:26:45.287837Z",
     "iopub.status.busy": "2024-04-25T08:26:45.287713Z",
     "iopub.status.idle": "2024-04-25T08:26:45.308801Z",
     "shell.execute_reply": "2024-04-25T08:26:45.308561Z",
     "shell.execute_reply.started": "2024-04-25T08:26:45.287827Z"
    }
   },
   "outputs": [
    {
     "data": {
      "text/plain": [
       "array([1109.71687369,  971.17005931, 1060.25942512, ..., 1119.42968179,\n",
       "        990.65909066, 1105.6230479 ])"
      ]
     },
     "execution_count": 12,
     "metadata": {},
     "output_type": "execute_result"
    }
   ],
   "source": [
    "ref_wrap_at(arr, 1200, 360)"
   ]
  },
  {
   "cell_type": "code",
   "execution_count": 13,
   "id": "52643834-45f7-4046-97dc-e61627c89525",
   "metadata": {
    "execution": {
     "iopub.execute_input": "2024-04-25T08:26:45.309304Z",
     "iopub.status.busy": "2024-04-25T08:26:45.309202Z",
     "iopub.status.idle": "2024-04-25T08:26:51.127876Z",
     "shell.execute_reply": "2024-04-25T08:26:51.127474Z",
     "shell.execute_reply.started": "2024-04-25T08:26:45.309294Z"
    }
   },
   "outputs": [
    {
     "name": "stdout",
     "output_type": "stream",
     "text": [
      "718 µs ± 75.9 µs per loop (mean ± std. dev. of 7 runs, 1,000 loops each)\n"
     ]
    }
   ],
   "source": [
    "%timeit ref_wrap_at(arr.copy(), 1200, 360)"
   ]
  },
  {
   "cell_type": "code",
   "execution_count": 14,
   "id": "c4492e06-2529-42f4-98e7-5aad82331496",
   "metadata": {
    "execution": {
     "iopub.execute_input": "2024-04-25T08:26:51.128773Z",
     "iopub.status.busy": "2024-04-25T08:26:51.128628Z",
     "iopub.status.idle": "2024-04-25T08:26:53.923924Z",
     "shell.execute_reply": "2024-04-25T08:26:53.923593Z",
     "shell.execute_reply.started": "2024-04-25T08:26:51.128759Z"
    }
   },
   "outputs": [
    {
     "name": "stdout",
     "output_type": "stream",
     "text": [
      "3.41 ms ± 399 µs per loop (mean ± std. dev. of 7 runs, 100 loops each)\n"
     ]
    }
   ],
   "source": [
    "%timeit wrap_at(arr.copy(), 1200, 360)"
   ]
  },
  {
   "cell_type": "code",
   "execution_count": null,
   "id": "0a08b77a-2bd8-477e-a981-99027c4ed104",
   "metadata": {},
   "outputs": [],
   "source": []
  },
  {
   "cell_type": "code",
   "execution_count": 15,
   "id": "8cc31344-38d4-4b90-8c53-8ceaffa2fa58",
   "metadata": {
    "execution": {
     "iopub.execute_input": "2024-04-25T08:26:53.924470Z",
     "iopub.status.busy": "2024-04-25T08:26:53.924372Z",
     "iopub.status.idle": "2024-04-25T08:26:53.932967Z",
     "shell.execute_reply": "2024-04-25T08:26:53.932638Z",
     "shell.execute_reply.started": "2024-04-25T08:26:53.924460Z"
    }
   },
   "outputs": [],
   "source": [
    "arr = np.random.uniform(0, 10_000, size=1_000_000).astype(int)"
   ]
  },
  {
   "cell_type": "code",
   "execution_count": 16,
   "id": "70cdc058-5576-4a02-afe7-f2cc9dc8177c",
   "metadata": {
    "execution": {
     "iopub.execute_input": "2024-04-25T08:26:53.933517Z",
     "iopub.status.busy": "2024-04-25T08:26:53.933418Z",
     "iopub.status.idle": "2024-04-25T08:26:53.945188Z",
     "shell.execute_reply": "2024-04-25T08:26:53.944974Z",
     "shell.execute_reply.started": "2024-04-25T08:26:53.933508Z"
    }
   },
   "outputs": [
    {
     "data": {
      "text/plain": [
       "array([3636, 5837, 2687, ..., 2029, 5955, 9622])"
      ]
     },
     "execution_count": 16,
     "metadata": {},
     "output_type": "execute_result"
    }
   ],
   "source": [
    "arr"
   ]
  },
  {
   "cell_type": "code",
   "execution_count": 17,
   "id": "b3cd9066-70d1-48e7-b43b-1c6bf20097c5",
   "metadata": {
    "execution": {
     "iopub.execute_input": "2024-04-25T08:26:53.945664Z",
     "iopub.status.busy": "2024-04-25T08:26:53.945568Z",
     "iopub.status.idle": "2024-04-25T08:26:53.958866Z",
     "shell.execute_reply": "2024-04-25T08:26:53.958630Z",
     "shell.execute_reply.started": "2024-04-25T08:26:53.945654Z"
    }
   },
   "outputs": [
    {
     "data": {
      "text/plain": [
       "array([1116., 1157.,  887., ...,  949.,  915.,  982.])"
      ]
     },
     "execution_count": 17,
     "metadata": {},
     "output_type": "execute_result"
    }
   ],
   "source": [
    "wrap_at(arr, 1200.5, 360)"
   ]
  },
  {
   "cell_type": "code",
   "execution_count": 18,
   "id": "6c5d693b-5c00-48b5-84fa-ef80fe0d2850",
   "metadata": {
    "execution": {
     "iopub.execute_input": "2024-04-25T08:26:53.959361Z",
     "iopub.status.busy": "2024-04-25T08:26:53.959263Z",
     "iopub.status.idle": "2024-04-25T08:26:53.961944Z",
     "shell.execute_reply": "2024-04-25T08:26:53.961747Z",
     "shell.execute_reply.started": "2024-04-25T08:26:53.959352Z"
    }
   },
   "outputs": [
    {
     "data": {
      "text/plain": [
       "array([3636, 5837, 2687, ..., 2029, 5955, 9622])"
      ]
     },
     "execution_count": 18,
     "metadata": {},
     "output_type": "execute_result"
    }
   ],
   "source": [
    "arr"
   ]
  },
  {
   "cell_type": "code",
   "execution_count": 19,
   "id": "1aeb636d-b195-4e7c-a882-ba8ed59fc115",
   "metadata": {
    "execution": {
     "iopub.execute_input": "2024-04-25T08:26:53.962404Z",
     "iopub.status.busy": "2024-04-25T08:26:53.962306Z",
     "iopub.status.idle": "2024-04-25T08:26:53.974384Z",
     "shell.execute_reply": "2024-04-25T08:26:53.974147Z",
     "shell.execute_reply.started": "2024-04-25T08:26:53.962395Z"
    }
   },
   "outputs": [
    {
     "data": {
      "text/plain": [
       "array([3636., 5837., 2687., ..., 2029., 5955., 9622.])"
      ]
     },
     "execution_count": 19,
     "metadata": {},
     "output_type": "execute_result"
    }
   ],
   "source": [
    "Angle(arr, unit=\"deg\").value"
   ]
  },
  {
   "cell_type": "code",
   "execution_count": 20,
   "id": "dd2d7baa-3d08-479f-bfcb-88d819bc1b33",
   "metadata": {
    "execution": {
     "iopub.execute_input": "2024-04-25T08:26:53.975026Z",
     "iopub.status.busy": "2024-04-25T08:26:53.974807Z",
     "iopub.status.idle": "2024-04-25T08:26:53.994636Z",
     "shell.execute_reply": "2024-04-25T08:26:53.994335Z",
     "shell.execute_reply.started": "2024-04-25T08:26:53.975016Z"
    }
   },
   "outputs": [
    {
     "data": {
      "text/plain": [
       "array([1116., 1157.,  887., ...,  949.,  915.,  982.])"
      ]
     },
     "execution_count": 20,
     "metadata": {},
     "output_type": "execute_result"
    }
   ],
   "source": [
    "Angle(arr, unit=\"deg\").wrap_at(1200.5 * u.deg).value"
   ]
  },
  {
   "cell_type": "code",
   "execution_count": null,
   "id": "afb0543e-9d1e-40a8-a29a-e09c5746048b",
   "metadata": {},
   "outputs": [],
   "source": []
  },
  {
   "cell_type": "code",
   "execution_count": 21,
   "id": "dc7e6953-8957-4513-aacb-1e50281d7ac6",
   "metadata": {
    "execution": {
     "iopub.execute_input": "2024-04-25T08:26:53.995221Z",
     "iopub.status.busy": "2024-04-25T08:26:53.995119Z",
     "iopub.status.idle": "2024-04-25T08:26:54.030977Z",
     "shell.execute_reply": "2024-04-25T08:26:54.030431Z",
     "shell.execute_reply.started": "2024-04-25T08:26:53.995211Z"
    }
   },
   "outputs": [],
   "source": [
    "%%cython -3\n",
    "\n",
    "cimport cython\n",
    "from libc cimport math\n",
    "\n",
    "\n",
    "@cython.cdivision(True)\n",
    "def wrap_at2(double[:] angle_arr, double wrap_angle, double period):\n",
    "\n",
    "    cdef int wraps\n",
    "    cdef ssize_t i\n",
    "    cdef double wrap_angle_floor = wrap_angle - period\n",
    "\n",
    "    for i in range(angle_arr.shape[0]):        \n",
    "        if math.isnan(angle_arr[i]):\n",
    "            continue\n",
    "    \n",
    "        if (angle_arr[i] >= wrap_angle_floor) and (angle_arr[i] < wrap_angle):\n",
    "            continue\n",
    "    \n",
    "        wraps = int((angle_arr[i] - wrap_angle_floor) // period)\n",
    "        angle_arr[i] -= wraps * period\n",
    "    \n",
    "        # Rounding errors can cause problems.\n",
    "        if angle_arr[i] >= wrap_angle:\n",
    "            angle_arr[i] -= period\n",
    "        elif angle_arr[i] < wrap_angle_floor:\n",
    "            angle_arr[i] += period"
   ]
  },
  {
   "cell_type": "code",
   "execution_count": 22,
   "id": "7f60edda-ef15-45ac-82b2-18130e5f2bf9",
   "metadata": {
    "execution": {
     "iopub.execute_input": "2024-04-25T08:26:54.031706Z",
     "iopub.status.busy": "2024-04-25T08:26:54.031534Z",
     "iopub.status.idle": "2024-04-25T08:26:54.038587Z",
     "shell.execute_reply": "2024-04-25T08:26:54.038236Z",
     "shell.execute_reply.started": "2024-04-25T08:26:54.031690Z"
    }
   },
   "outputs": [],
   "source": [
    "arr = np.random.uniform(0, 10_000, size=1_000_000)"
   ]
  },
  {
   "cell_type": "code",
   "execution_count": 23,
   "id": "aeb80720-9c41-44f3-b80c-91470cc6ec9a",
   "metadata": {
    "execution": {
     "iopub.execute_input": "2024-04-25T08:26:54.039122Z",
     "iopub.status.busy": "2024-04-25T08:26:54.039023Z",
     "iopub.status.idle": "2024-04-25T08:26:54.049671Z",
     "shell.execute_reply": "2024-04-25T08:26:54.049355Z",
     "shell.execute_reply.started": "2024-04-25T08:26:54.039112Z"
    }
   },
   "outputs": [
    {
     "data": {
      "text/plain": [
       "array([9532.29516847, 1316.79333318, 1043.80320951, ..., 5266.88657292,\n",
       "       9284.51925962, 7062.48147958])"
      ]
     },
     "execution_count": 23,
     "metadata": {},
     "output_type": "execute_result"
    }
   ],
   "source": [
    "arr"
   ]
  },
  {
   "cell_type": "code",
   "execution_count": 24,
   "id": "d2f0068f-0225-4ff3-9ee4-c1cbf7e8094d",
   "metadata": {
    "execution": {
     "iopub.execute_input": "2024-04-25T08:26:54.050189Z",
     "iopub.status.busy": "2024-04-25T08:26:54.050080Z",
     "iopub.status.idle": "2024-04-25T08:26:54.064047Z",
     "shell.execute_reply": "2024-04-25T08:26:54.063801Z",
     "shell.execute_reply.started": "2024-04-25T08:26:54.050178Z"
    }
   },
   "outputs": [
    {
     "data": {
      "text/plain": [
       "array([ 892.29516847,  956.79333318, 1043.80320951, ...,  946.88657292,\n",
       "       1004.51925962,  942.48147958])"
      ]
     },
     "execution_count": 24,
     "metadata": {},
     "output_type": "execute_result"
    }
   ],
   "source": [
    "wrap_at(arr, 1200, 360)"
   ]
  },
  {
   "cell_type": "code",
   "execution_count": 25,
   "id": "765b1443-115b-4398-aec4-69b97cdc8f1e",
   "metadata": {
    "execution": {
     "iopub.execute_input": "2024-04-25T08:26:54.064622Z",
     "iopub.status.busy": "2024-04-25T08:26:54.064517Z",
     "iopub.status.idle": "2024-04-25T08:26:54.076133Z",
     "shell.execute_reply": "2024-04-25T08:26:54.075745Z",
     "shell.execute_reply.started": "2024-04-25T08:26:54.064612Z"
    }
   },
   "outputs": [],
   "source": [
    "wrap_at2(arr, 1200, 360)"
   ]
  },
  {
   "cell_type": "code",
   "execution_count": 26,
   "id": "a909ab39-c88c-447c-bab7-91fa6fa06589",
   "metadata": {
    "execution": {
     "iopub.execute_input": "2024-04-25T08:26:54.076781Z",
     "iopub.status.busy": "2024-04-25T08:26:54.076660Z",
     "iopub.status.idle": "2024-04-25T08:26:54.086401Z",
     "shell.execute_reply": "2024-04-25T08:26:54.086111Z",
     "shell.execute_reply.started": "2024-04-25T08:26:54.076771Z"
    }
   },
   "outputs": [
    {
     "data": {
      "text/plain": [
       "array([ 892.29516847,  956.79333318, 1043.80320951, ...,  946.88657292,\n",
       "       1004.51925962,  942.48147958])"
      ]
     },
     "execution_count": 26,
     "metadata": {},
     "output_type": "execute_result"
    }
   ],
   "source": [
    "arr"
   ]
  },
  {
   "cell_type": "code",
   "execution_count": null,
   "id": "d2944680-dce8-4904-9c7a-2a9918f44eda",
   "metadata": {},
   "outputs": [],
   "source": []
  },
  {
   "cell_type": "code",
   "execution_count": 27,
   "id": "273be07b-6059-47f0-9cb6-fdbfe5255977",
   "metadata": {
    "execution": {
     "iopub.execute_input": "2024-04-25T08:26:54.086958Z",
     "iopub.status.busy": "2024-04-25T08:26:54.086842Z",
     "iopub.status.idle": "2024-04-25T08:26:54.100686Z",
     "shell.execute_reply": "2024-04-25T08:26:54.100186Z",
     "shell.execute_reply.started": "2024-04-25T08:26:54.086947Z"
    }
   },
   "outputs": [],
   "source": [
    "arr = np.random.uniform(0, 10_000, size=1_000_000)"
   ]
  },
  {
   "cell_type": "code",
   "execution_count": 28,
   "id": "0f598814-d934-4b71-ba66-4df9757de382",
   "metadata": {
    "execution": {
     "iopub.execute_input": "2024-04-25T08:26:54.101336Z",
     "iopub.status.busy": "2024-04-25T08:26:54.101220Z",
     "iopub.status.idle": "2024-04-25T08:26:57.813978Z",
     "shell.execute_reply": "2024-04-25T08:26:57.813489Z",
     "shell.execute_reply.started": "2024-04-25T08:26:54.101326Z"
    }
   },
   "outputs": [
    {
     "name": "stdout",
     "output_type": "stream",
     "text": [
      "4.57 ms ± 227 µs per loop (mean ± std. dev. of 7 runs, 100 loops each)\n"
     ]
    }
   ],
   "source": [
    "%timeit wrap_at(arr.copy(), 1200, 360)"
   ]
  },
  {
   "cell_type": "code",
   "execution_count": 29,
   "id": "47c0c710-1586-4fac-a992-3c556f7840db",
   "metadata": {
    "execution": {
     "iopub.execute_input": "2024-04-25T08:26:57.814997Z",
     "iopub.status.busy": "2024-04-25T08:26:57.814823Z",
     "iopub.status.idle": "2024-04-25T08:26:59.978906Z",
     "shell.execute_reply": "2024-04-25T08:26:59.978592Z",
     "shell.execute_reply.started": "2024-04-25T08:26:57.814985Z"
    }
   },
   "outputs": [
    {
     "name": "stdout",
     "output_type": "stream",
     "text": [
      "2.6 ms ± 137 µs per loop (mean ± std. dev. of 7 runs, 100 loops each)\n"
     ]
    }
   ],
   "source": [
    "%timeit wrap_at2(arr.copy(), 1200, 360)"
   ]
  },
  {
   "cell_type": "code",
   "execution_count": 30,
   "id": "95f81dd8-cf68-469c-8fa6-858a91ca180f",
   "metadata": {
    "execution": {
     "iopub.execute_input": "2024-04-25T08:26:59.979509Z",
     "iopub.status.busy": "2024-04-25T08:26:59.979391Z",
     "iopub.status.idle": "2024-04-25T08:27:09.952794Z",
     "shell.execute_reply": "2024-04-25T08:27:09.952405Z",
     "shell.execute_reply.started": "2024-04-25T08:26:59.979499Z"
    }
   },
   "outputs": [
    {
     "name": "stdout",
     "output_type": "stream",
     "text": [
      "12.4 ms ± 461 µs per loop (mean ± std. dev. of 7 runs, 100 loops each)\n"
     ]
    }
   ],
   "source": [
    "%timeit ref_wrap_at(arr.copy(), 1200, 360)"
   ]
  },
  {
   "cell_type": "code",
   "execution_count": 32,
   "id": "da3dee9b-3ecb-4fcd-83c8-94e08cab24fc",
   "metadata": {
    "execution": {
     "iopub.execute_input": "2024-04-25T08:27:49.101229Z",
     "iopub.status.busy": "2024-04-25T08:27:49.100952Z",
     "iopub.status.idle": "2024-04-25T08:27:52.864503Z",
     "shell.execute_reply": "2024-04-25T08:27:52.864175Z",
     "shell.execute_reply.started": "2024-04-25T08:27:49.101212Z"
    }
   },
   "outputs": [
    {
     "data": {
      "text/plain": [
       "[0.6674293360265438,\n",
       " 0.5732990489923395,\n",
       " 0.5062652619963046,\n",
       " 0.5035934560000896,\n",
       " 0.4982092760037631,\n",
       " 0.5077174689795356,\n",
       " 0.5026208050257992]"
      ]
     },
     "execution_count": 32,
     "metadata": {},
     "output_type": "execute_result"
    }
   ],
   "source": [
    "timeit.repeat(\n",
    "    \"func(arr.copy(), 1200, 360)\",\n",
    "    globals=dict(arr=arr, func=wrap_at),\n",
    "    number=100,\n",
    "    repeat=7,\n",
    ")"
   ]
  },
  {
   "cell_type": "code",
   "execution_count": 34,
   "id": "bdae3014-0d19-4157-a285-d00b8dda3e43",
   "metadata": {
    "execution": {
     "iopub.execute_input": "2024-04-25T08:27:57.561742Z",
     "iopub.status.busy": "2024-04-25T08:27:57.560425Z",
     "iopub.status.idle": "2024-04-25T08:27:59.739989Z",
     "shell.execute_reply": "2024-04-25T08:27:59.739621Z",
     "shell.execute_reply.started": "2024-04-25T08:27:57.561697Z"
    }
   },
   "outputs": [
    {
     "data": {
      "text/plain": [
       "[0.40831955400062725,\n",
       " 0.3157323370105587,\n",
       " 0.2744517360115424,\n",
       " 0.2941159599868115,\n",
       " 0.3032113120134454,\n",
       " 0.292810429004021,\n",
       " 0.2840978409803938]"
      ]
     },
     "execution_count": 34,
     "metadata": {},
     "output_type": "execute_result"
    }
   ],
   "source": [
    "timeit.repeat(\n",
    "    \"func(arr.copy(), 1200, 360)\",\n",
    "    globals=dict(arr=arr, func=wrap_at2),\n",
    "    number=100,\n",
    "    repeat=7,\n",
    ")"
   ]
  },
  {
   "cell_type": "code",
   "execution_count": 35,
   "id": "a2c8f340-7824-4249-afc0-74d76858acd1",
   "metadata": {
    "execution": {
     "iopub.execute_input": "2024-04-25T08:28:08.930919Z",
     "iopub.status.busy": "2024-04-25T08:28:08.930648Z",
     "iopub.status.idle": "2024-04-25T08:30:46.242854Z",
     "shell.execute_reply": "2024-04-25T08:30:46.242473Z",
     "shell.execute_reply.started": "2024-04-25T08:28:08.930902Z"
    }
   },
   "outputs": [
    {
     "name": "stdout",
     "output_type": "stream",
     "text": [
      "100: ref ufunc memview \n",
      "1000: ref ufunc memview \n",
      "10000: ref ufunc memview \n",
      "100000: ref ufunc memview \n",
      "1000000: ref ufunc memview \n",
      "10000000: ref ufunc memview \n"
     ]
    }
   ],
   "source": [
    "number, repeat = 100, 7\n",
    "\n",
    "funcs = dict(ref=ref_wrap_at, ufunc=wrap_at, memview=wrap_at2)\n",
    "times = defaultdict(list)\n",
    "sizes = np.geomspace(1e2, 1e7, 6)\n",
    "\n",
    "for size in sizes:\n",
    "    size = int(size)\n",
    "    print(f\"{size}:\", end=\" \")\n",
    "    arr = np.random.uniform(0, 10_000, size=size)\n",
    "\n",
    "    for name, func in funcs.items():\n",
    "        print(name, end=\" \")\n",
    "        time = timeit.repeat(\n",
    "            \"func(arr.copy(), 1200, 360)\",\n",
    "            globals=dict(arr=arr, func=func),\n",
    "            number=number,\n",
    "            repeat=repeat,\n",
    "        )\n",
    "        time = np.array(time[2:]) / number\n",
    "        times[name].append((np.mean(time), np.std(time)))\n",
    "    print()"
   ]
  },
  {
   "cell_type": "code",
   "execution_count": 36,
   "id": "8e3a984d-33e9-4661-b24e-b4b84af1f749",
   "metadata": {
    "execution": {
     "iopub.execute_input": "2024-04-25T08:30:46.243606Z",
     "iopub.status.busy": "2024-04-25T08:30:46.243489Z",
     "iopub.status.idle": "2024-04-25T08:30:46.797829Z",
     "shell.execute_reply": "2024-04-25T08:30:46.797358Z",
     "shell.execute_reply.started": "2024-04-25T08:30:46.243595Z"
    }
   },
   "outputs": [
    {
     "data": {
      "image/png": "[encoded data removed]",
      "text/plain": [
       "<Figure size 640x480 with 1 Axes>"
      ]
     },
     "metadata": {},
     "output_type": "display_data"
    }
   ],
   "source": [
    "fig, ax = plt.subplots()\n",
    "for name, time in times.items():\n",
    "    time = np.array(time)\n",
    "    ax.errorbar(sizes, time[:, 0] * 1e3, yerr=time[:, 1] * 1e3, label=name)\n",
    "ax.set(xlabel=\"array size\", ylabel=\"time (ms)\", xscale=\"log\", yscale=\"log\")\n",
    "ax.legend();"
   ]
  },
  {
   "cell_type": "code",
   "execution_count": null,
   "id": "9df72fcf-6caa-48f6-bb10-7d90abccacc0",
   "metadata": {},
   "outputs": [],
   "source": []
  }
 ],
 "metadata": {
  "kernelspec": {
   "display_name": "Python 3 (ipykernel)",
   "language": "python",
   "name": "python3"
  },
  "language_info": {
   "codemirror_mode": {
    "name": "ipython",
    "version": 3
   },
   "file_extension": ".py",
   "mimetype": "text/x-python",
   "name": "python",
   "nbconvert_exporter": "python",
   "pygments_lexer": "ipython3",
   "version": "3.12.2"
  }
 },
 "nbformat": 4,
 "nbformat_minor": 5
}
