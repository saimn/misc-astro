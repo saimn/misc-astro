{
 "cells": [
  {
   "cell_type": "code",
   "execution_count": 1,
   "id": "354710b8-5ef5-484a-95aa-f56cbbbaf80b",
   "metadata": {
    "execution": {
     "iopub.execute_input": "2023-06-20T14:20:37.129601Z",
     "iopub.status.busy": "2023-06-20T14:20:37.129432Z",
     "iopub.status.idle": "2023-06-20T14:20:37.357316Z",
     "shell.execute_reply": "2023-06-20T14:20:37.356917Z",
     "shell.execute_reply.started": "2023-06-20T14:20:37.129588Z"
    },
    "tags": []
   },
   "outputs": [],
   "source": [
    "import bz2\n",
    "import gzip\n",
    "import io\n",
    "\n",
    "import numpy as np\n",
    "from astropy.io import fits"
   ]
  },
  {
   "cell_type": "code",
   "execution_count": 2,
   "id": "8f311d47-090f-499b-add6-a8e3e002640d",
   "metadata": {
    "execution": {
     "iopub.execute_input": "2023-06-20T14:20:54.704220Z",
     "iopub.status.busy": "2023-06-20T14:20:54.703667Z",
     "iopub.status.idle": "2023-06-20T14:20:54.706509Z",
     "shell.execute_reply": "2023-06-20T14:20:54.706055Z",
     "shell.execute_reply.started": "2023-06-20T14:20:54.704203Z"
    },
    "tags": []
   },
   "outputs": [],
   "source": [
    "testfile = \"test.fits\"\n",
    "testfile_gz = \"test.fits.gz\"\n",
    "testfile_bz2 = \"test.fits.bz2\""
   ]
  },
  {
   "cell_type": "code",
   "execution_count": 3,
   "id": "0fa4d932-bd79-493f-ac81-9257dac4a1b9",
   "metadata": {
    "execution": {
     "iopub.execute_input": "2023-06-20T14:21:05.553648Z",
     "iopub.status.busy": "2023-06-20T14:21:05.553319Z",
     "iopub.status.idle": "2023-06-20T14:21:16.761236Z",
     "shell.execute_reply": "2023-06-20T14:21:16.760804Z",
     "shell.execute_reply.started": "2023-06-20T14:21:05.553608Z"
    },
    "tags": []
   },
   "outputs": [],
   "source": [
    "hdul = fits.HDUList(\n",
    "    [fits.PrimaryHDU()]\n",
    "    + [\n",
    "        fits.ImageHDU(\n",
    "            data=np.random.randn(1000, 1000).astype(np.float32),\n",
    "            header=fits.Header({f\"KEY{i}{k}\": k for k in range(1000)}),\n",
    "            name=f\"IMAGE{i}\",\n",
    "        )\n",
    "        for i in range(20)\n",
    "    ]\n",
    ")\n",
    "hdul.writeto(testfile, overwrite=True)\n",
    "hdul.writeto(testfile_gz, overwrite=True)\n",
    "hdul.writeto(testfile_bz2, overwrite=True)"
   ]
  },
  {
   "cell_type": "code",
   "execution_count": 4,
   "id": "07eb6aec-19ce-4c0f-a8cd-27d388d86061",
   "metadata": {
    "execution": {
     "iopub.execute_input": "2023-06-20T14:21:16.762075Z",
     "iopub.status.busy": "2023-06-20T14:21:16.761873Z",
     "iopub.status.idle": "2023-06-20T14:21:16.880194Z",
     "shell.execute_reply": "2023-06-20T14:21:16.879739Z",
     "shell.execute_reply.started": "2023-06-20T14:21:16.762062Z"
    },
    "tags": []
   },
   "outputs": [
    {
     "name": "stdout",
     "output_type": "stream",
     "text": [
      "-rw-r--r-- 1 simon simon 78M Jun 20 16:21 test.fits\n",
      "-rw-r--r-- 1 simon simon 73M Jun 20 16:21 \u001b[0m\u001b[01;31mtest.fits.bz2\u001b[0m\n",
      "-rw-r--r-- 1 simon simon 71M Jun 20 16:21 \u001b[01;31mtest.fits.gz\u001b[0m\n"
     ]
    }
   ],
   "source": [
    "ls -lh test.fits*"
   ]
  },
  {
   "cell_type": "code",
   "execution_count": 5,
   "id": "261366c1-9657-4b59-bc41-4cbffc636b04",
   "metadata": {
    "execution": {
     "iopub.execute_input": "2023-06-20T14:22:08.581537Z",
     "iopub.status.busy": "2023-06-20T14:22:08.581310Z",
     "iopub.status.idle": "2023-06-20T14:22:08.585001Z",
     "shell.execute_reply": "2023-06-20T14:22:08.584587Z",
     "shell.execute_reply.started": "2023-06-20T14:22:08.581522Z"
    },
    "tags": []
   },
   "outputs": [],
   "source": [
    "def read(filename, decompress=False):\n",
    "    if decompress:\n",
    "        if filename.endswith(\".gz\"):\n",
    "            with gzip.open(filename, \"rb\") as f:\n",
    "                fd = io.BytesIO(f.read())\n",
    "        elif filename.endswith(\".bz2\"):\n",
    "            with bz2.open(filename, \"rb\") as f:\n",
    "                fd = io.BytesIO(f.read())\n",
    "    else:\n",
    "        fd = filename\n",
    "\n",
    "    with fits.open(fd) as hdul:\n",
    "        for hdu in hdul:\n",
    "            # force reading data\n",
    "            data = hdu.data"
   ]
  },
  {
   "cell_type": "code",
   "execution_count": 6,
   "id": "669e6d01-7765-481a-b45e-8c8c611bca08",
   "metadata": {
    "execution": {
     "iopub.execute_input": "2023-06-20T14:22:11.290401Z",
     "iopub.status.busy": "2023-06-20T14:22:11.290058Z",
     "iopub.status.idle": "2023-06-20T14:22:23.406691Z",
     "shell.execute_reply": "2023-06-20T14:22:23.405833Z",
     "shell.execute_reply.started": "2023-06-20T14:22:11.290384Z"
    },
    "tags": []
   },
   "outputs": [
    {
     "name": "stdout",
     "output_type": "stream",
     "text": [
      "13.6 ms ± 152 µs per loop (mean ± std. dev. of 7 runs, 100 loops each)\n"
     ]
    }
   ],
   "source": [
    "%timeit read(testfile)"
   ]
  },
  {
   "cell_type": "code",
   "execution_count": 7,
   "id": "58d1f50b-6f6f-476f-9c58-7eaa9a891bc5",
   "metadata": {
    "execution": {
     "iopub.execute_input": "2023-06-20T14:22:23.408073Z",
     "iopub.status.busy": "2023-06-20T14:22:23.407716Z",
     "iopub.status.idle": "2023-06-20T14:22:56.512144Z",
     "shell.execute_reply": "2023-06-20T14:22:56.511741Z",
     "shell.execute_reply.started": "2023-06-20T14:22:23.408052Z"
    },
    "tags": []
   },
   "outputs": [
    {
     "name": "stdout",
     "output_type": "stream",
     "text": [
      "4.13 s ± 22.5 ms per loop (mean ± std. dev. of 7 runs, 1 loop each)\n"
     ]
    }
   ],
   "source": [
    "%timeit read(testfile_gz)"
   ]
  },
  {
   "cell_type": "code",
   "execution_count": 8,
   "id": "bf5082b9-cda7-49d4-b3ee-909cad23d7f4",
   "metadata": {
    "execution": {
     "iopub.execute_input": "2023-06-20T14:22:56.513061Z",
     "iopub.status.busy": "2023-06-20T14:22:56.512864Z",
     "iopub.status.idle": "2023-06-20T14:28:45.187542Z",
     "shell.execute_reply": "2023-06-20T14:28:45.187161Z",
     "shell.execute_reply.started": "2023-06-20T14:22:56.513041Z"
    },
    "tags": []
   },
   "outputs": [
    {
     "name": "stdout",
     "output_type": "stream",
     "text": [
      "43.7 s ± 842 ms per loop (mean ± std. dev. of 7 runs, 1 loop each)\n"
     ]
    }
   ],
   "source": [
    "%timeit read(testfile_bz2)"
   ]
  },
  {
   "cell_type": "code",
   "execution_count": 9,
   "id": "e01594dd-44d0-4978-b386-f3e7ef2f375b",
   "metadata": {
    "execution": {
     "iopub.execute_input": "2023-06-20T14:28:45.188352Z",
     "iopub.status.busy": "2023-06-20T14:28:45.188181Z",
     "iopub.status.idle": "2023-06-20T14:28:48.224179Z",
     "shell.execute_reply": "2023-06-20T14:28:48.223851Z",
     "shell.execute_reply.started": "2023-06-20T14:28:45.188340Z"
    },
    "tags": []
   },
   "outputs": [
    {
     "name": "stdout",
     "output_type": "stream",
     "text": [
      "377 ms ± 6.94 ms per loop (mean ± std. dev. of 7 runs, 1 loop each)\n"
     ]
    }
   ],
   "source": [
    "%timeit gzip.open(testfile_gz).read()"
   ]
  },
  {
   "cell_type": "code",
   "execution_count": 10,
   "id": "aba79788-b269-4b84-b42c-5848b4a6961c",
   "metadata": {
    "execution": {
     "iopub.execute_input": "2023-06-20T14:28:48.224781Z",
     "iopub.status.busy": "2023-06-20T14:28:48.224670Z",
     "iopub.status.idle": "2023-06-20T14:28:51.465809Z",
     "shell.execute_reply": "2023-06-20T14:28:51.465294Z",
     "shell.execute_reply.started": "2023-06-20T14:28:48.224771Z"
    },
    "tags": []
   },
   "outputs": [
    {
     "name": "stdout",
     "output_type": "stream",
     "text": [
      "404 ms ± 4.53 ms per loop (mean ± std. dev. of 7 runs, 1 loop each)\n"
     ]
    }
   ],
   "source": [
    "%timeit read(testfile_gz, decompress=True)"
   ]
  },
  {
   "cell_type": "code",
   "execution_count": 11,
   "id": "6f12aa68-6bdf-4936-9706-6ecb5ed9398e",
   "metadata": {
    "execution": {
     "iopub.execute_input": "2023-06-20T14:28:51.466743Z",
     "iopub.status.busy": "2023-06-20T14:28:51.466590Z",
     "iopub.status.idle": "2023-06-20T14:29:21.365064Z",
     "shell.execute_reply": "2023-06-20T14:29:21.364603Z",
     "shell.execute_reply.started": "2023-06-20T14:28:51.466731Z"
    },
    "tags": []
   },
   "outputs": [
    {
     "name": "stdout",
     "output_type": "stream",
     "text": [
      "3.74 s ± 66.6 ms per loop (mean ± std. dev. of 7 runs, 1 loop each)\n"
     ]
    }
   ],
   "source": [
    "%timeit read(testfile_bz2, decompress=True)"
   ]
  },
  {
   "cell_type": "code",
   "execution_count": null,
   "id": "0382f107-92f1-4451-8c8f-93b4982154fd",
   "metadata": {},
   "outputs": [],
   "source": []
  }
 ],
 "metadata": {
  "kernelspec": {
   "display_name": "Python 3 (ipykernel)",
   "language": "python",
   "name": "python3"
  },
  "language_info": {
   "codemirror_mode": {
    "name": "ipython",
    "version": 3
   },
   "file_extension": ".py",
   "mimetype": "text/x-python",
   "name": "python",
   "nbconvert_exporter": "python",
   "pygments_lexer": "ipython3",
   "version": "3.11.0"
  }
 },
 "nbformat": 4,
 "nbformat_minor": 5
}
