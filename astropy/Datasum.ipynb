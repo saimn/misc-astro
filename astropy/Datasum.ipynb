{
 "cells": [
  {
   "cell_type": "code",
   "execution_count": 1,
   "id": "43e83ebf-6514-47d4-bddf-702a80c9098f",
   "metadata": {
    "execution": {
     "iopub.execute_input": "2024-09-04T09:12:14.108834Z",
     "iopub.status.busy": "2024-09-04T09:12:14.108667Z",
     "iopub.status.idle": "2024-09-04T09:12:14.279232Z",
     "shell.execute_reply": "2024-09-04T09:12:14.278815Z",
     "shell.execute_reply.started": "2024-09-04T09:12:14.108816Z"
    }
   },
   "outputs": [],
   "source": [
    "from astropy.io import fits\n",
    "from astropy.utils.data import get_pkg_data_filename"
   ]
  },
  {
   "cell_type": "code",
   "execution_count": 2,
   "id": "8bced6d3-32bb-4077-a285-5da1f2986a6d",
   "metadata": {
    "execution": {
     "iopub.execute_input": "2024-09-04T09:12:14.279908Z",
     "iopub.status.busy": "2024-09-04T09:12:14.279759Z",
     "iopub.status.idle": "2024-09-04T09:12:14.282764Z",
     "shell.execute_reply": "2024-09-04T09:12:14.282528Z",
     "shell.execute_reply.started": "2024-09-04T09:12:14.279896Z"
    }
   },
   "outputs": [],
   "source": [
    "testfile = get_pkg_data_filename(\"data/comp.fits\", package=\"astropy.io.fits.tests\")"
   ]
  },
  {
   "cell_type": "code",
   "execution_count": 3,
   "id": "96b61831-d54d-4778-aefb-93ae74ef6734",
   "metadata": {
    "execution": {
     "iopub.execute_input": "2024-09-04T09:12:14.283869Z",
     "iopub.status.busy": "2024-09-04T09:12:14.283516Z",
     "iopub.status.idle": "2024-09-04T09:12:14.306150Z",
     "shell.execute_reply": "2024-09-04T09:12:14.305689Z",
     "shell.execute_reply.started": "2024-09-04T09:12:14.283834Z"
    }
   },
   "outputs": [],
   "source": [
    "hdul = fits.open(testfile)\n",
    "hdul.writeto(\"comp-ref.fits\", overwrite=True, checksum=True)"
   ]
  },
  {
   "cell_type": "code",
   "execution_count": 4,
   "id": "12ffce6b-0518-438a-9de5-53a9893a9e98",
   "metadata": {
    "execution": {
     "iopub.execute_input": "2024-09-04T09:12:15.232163Z",
     "iopub.status.busy": "2024-09-04T09:12:15.231806Z",
     "iopub.status.idle": "2024-09-04T09:12:15.358460Z",
     "shell.execute_reply": "2024-09-04T09:12:15.357996Z",
     "shell.execute_reply.started": "2024-09-04T09:12:15.232135Z"
    }
   },
   "outputs": [
    {
     "name": "stdout",
     "output_type": "stream",
     "text": [
      "CHECKSUM= 'ZbAgda8ZZaAdba7Z'   / HDU checksum updated 2024-09-04T11:12:14\n",
      "DATASUM = '113055149'          / data unit checksum updated 2024-09-04T11:12:14\n"
     ]
    }
   ],
   "source": [
    "!dfits -x 1 comp-ref.fits | grep SUM"
   ]
  },
  {
   "cell_type": "code",
   "execution_count": 5,
   "id": "d54501a9-3d51-4311-aa66-a9eed53a874e",
   "metadata": {
    "execution": {
     "iopub.execute_input": "2024-09-04T09:12:16.195723Z",
     "iopub.status.busy": "2024-09-04T09:12:16.195379Z",
     "iopub.status.idle": "2024-09-04T09:12:16.206333Z",
     "shell.execute_reply": "2024-09-04T09:12:16.205988Z",
     "shell.execute_reply.started": "2024-09-04T09:12:16.195694Z"
    }
   },
   "outputs": [
    {
     "data": {
      "text/plain": [
       "CHECKSUM= 'ZbAgda8ZZaAdba7Z'   / HDU checksum updated 2024-09-04T11:12:14       \n",
       "DATASUM = '113055149'          / data unit checksum updated 2024-09-04T11:12:14 "
      ]
     },
     "execution_count": 5,
     "metadata": {},
     "output_type": "execute_result"
    }
   ],
   "source": [
    "fits.getheader(\"comp-ref.fits\", ext=1)[\"*SUM\"]"
   ]
  },
  {
   "cell_type": "code",
   "execution_count": 6,
   "id": "a271723b-1e05-462d-a925-7dc74f484a6f",
   "metadata": {
    "execution": {
     "iopub.execute_input": "2024-09-04T09:12:19.050449Z",
     "iopub.status.busy": "2024-09-04T09:12:19.050170Z",
     "iopub.status.idle": "2024-09-04T09:12:19.087854Z",
     "shell.execute_reply": "2024-09-04T09:12:19.087416Z",
     "shell.execute_reply.started": "2024-09-04T09:12:19.050430Z"
    }
   },
   "outputs": [],
   "source": [
    "hdul = fits.open(\"comp.fits\")\n",
    "data = hdul[1].data\n",
    "hdul.writeto(\"comp-ref2.fits\", overwrite=True, checksum=True)"
   ]
  },
  {
   "cell_type": "code",
   "execution_count": 7,
   "id": "17db2a29-6afb-447e-bc12-191299be000e",
   "metadata": {
    "execution": {
     "iopub.execute_input": "2024-09-04T09:12:20.846062Z",
     "iopub.status.busy": "2024-09-04T09:12:20.845665Z",
     "iopub.status.idle": "2024-09-04T09:12:20.969181Z",
     "shell.execute_reply": "2024-09-04T09:12:20.968501Z",
     "shell.execute_reply.started": "2024-09-04T09:12:20.846030Z"
    }
   },
   "outputs": [
    {
     "name": "stdout",
     "output_type": "stream",
     "text": [
      "ZHECKSUM= 'CpGVFo9SCoESCo9S'   / HDU checksum updated 2024-09-04T11:12:19\n",
      "ZDATASUM= '2189405276'         / data unit checksum updated 2024-09-04T11:12:19\n",
      "CHECKSUM= 'RLEoRKDlRKDlRKDl'   / HDU checksum updated 2024-09-04T11:12:19\n",
      "DATASUM = '113055149'          / data unit checksum updated 2024-09-04T11:12:19\n"
     ]
    }
   ],
   "source": [
    "!dfits -x 1 comp-ref2.fits | grep SUM"
   ]
  },
  {
   "cell_type": "code",
   "execution_count": 8,
   "id": "3d004166-ee43-4c09-b161-5ffae106bb25",
   "metadata": {
    "execution": {
     "iopub.execute_input": "2024-09-04T09:12:23.634091Z",
     "iopub.status.busy": "2024-09-04T09:12:23.633703Z",
     "iopub.status.idle": "2024-09-04T09:12:23.642877Z",
     "shell.execute_reply": "2024-09-04T09:12:23.642594Z",
     "shell.execute_reply.started": "2024-09-04T09:12:23.634056Z"
    }
   },
   "outputs": [
    {
     "data": {
      "text/plain": [
       "CHECKSUM= 'CpGVFo9SCoESCo9S'   / HDU checksum updated 2024-09-04T11:12:19       \n",
       "DATASUM = '2189405276'         / data unit checksum updated 2024-09-04T11:12:19 "
      ]
     },
     "execution_count": 8,
     "metadata": {},
     "output_type": "execute_result"
    }
   ],
   "source": [
    "fits.getheader(\"comp-ref2.fits\", ext=1)[\"*SUM\"]"
   ]
  },
  {
   "cell_type": "markdown",
   "id": "c9a2c37b-103b-47e8-8765-d06257db8a03",
   "metadata": {},
   "source": [
    "## fitsio"
   ]
  },
  {
   "cell_type": "code",
   "execution_count": 11,
   "id": "badf7681-d116-40f4-93ab-ee1da5237ccd",
   "metadata": {
    "execution": {
     "iopub.execute_input": "2024-09-04T09:13:22.396016Z",
     "iopub.status.busy": "2024-09-04T09:13:22.395638Z",
     "iopub.status.idle": "2024-09-04T09:13:22.404073Z",
     "shell.execute_reply": "2024-09-04T09:13:22.403784Z",
     "shell.execute_reply.started": "2024-09-04T09:13:22.395988Z"
    }
   },
   "outputs": [
    {
     "name": "stdout",
     "output_type": "stream",
     "text": [
      "{'datasum': 113055149, 'hdusum': 4294967295}\n"
     ]
    }
   ],
   "source": [
    "import fitsio\n",
    "\n",
    "f = fitsio.FITS(\"comp-fitsio.fits\", \"rw\")\n",
    "f.write(hdul[1].data, compress=\"rice\", tile_dims=hdul[1].tile_shape, qmethod=fitsio.NO_DITHER)\n",
    "checksum = f[-1].write_checksum()\n",
    "f.close()\n",
    "\n",
    "print(checksum)"
   ]
  },
  {
   "cell_type": "code",
   "execution_count": 12,
   "id": "8b186636-7c4e-4856-a4b6-914e37581023",
   "metadata": {
    "execution": {
     "iopub.execute_input": "2024-09-04T09:13:23.850089Z",
     "iopub.status.busy": "2024-09-04T09:13:23.849309Z",
     "iopub.status.idle": "2024-09-04T09:13:23.973655Z",
     "shell.execute_reply": "2024-09-04T09:13:23.972842Z",
     "shell.execute_reply.started": "2024-09-04T09:13:23.850060Z"
    }
   },
   "outputs": [
    {
     "name": "stdout",
     "output_type": "stream",
     "text": [
      "CHECKSUM= 'RK5fTJ4ZRJ4dRJ4Z'   / HDU checksum updated 2024-09-04T08:23:35\n",
      "DATASUM = '113055149'          / data unit checksum updated 2024-09-04T08:23:35\n"
     ]
    }
   ],
   "source": [
    "!dfits -x 1 comp-fitsio.fits | grep SUM"
   ]
  },
  {
   "cell_type": "code",
   "execution_count": null,
   "id": "d0e02bcb-5ab7-44b3-ba23-79d4f3d646f2",
   "metadata": {},
   "outputs": [],
   "source": []
  }
 ],
 "metadata": {
  "kernelspec": {
   "display_name": "Python 3 (ipykernel)",
   "language": "python",
   "name": "python3"
  },
  "language_info": {
   "codemirror_mode": {
    "name": "ipython",
    "version": 3
   },
   "file_extension": ".py",
   "mimetype": "text/x-python",
   "name": "python",
   "nbconvert_exporter": "python",
   "pygments_lexer": "ipython3",
   "version": "3.12.2"
  }
 },
 "nbformat": 4,
 "nbformat_minor": 5
}
