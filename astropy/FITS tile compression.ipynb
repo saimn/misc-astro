{
 "cells": [
  {
   "cell_type": "markdown",
   "id": "6257e509-0af7-4e4f-80f5-34c3bece4c29",
   "metadata": {},
   "source": [
    "## Generate fake data"
   ]
  },
  {
   "cell_type": "code",
   "execution_count": 1,
   "id": "5bfbb356-fbba-46a1-8f4e-62a7725d8251",
   "metadata": {
    "execution": {
     "iopub.execute_input": "2023-04-19T10:00:33.127865Z",
     "iopub.status.busy": "2023-04-19T10:00:33.127287Z",
     "iopub.status.idle": "2023-04-19T10:00:33.140324Z",
     "shell.execute_reply": "2023-04-19T10:00:33.139398Z",
     "shell.execute_reply.started": "2023-04-19T10:00:33.127810Z"
    },
    "tags": []
   },
   "outputs": [
    {
     "name": "stdout",
     "output_type": "stream",
     "text": [
      "/home/simon/data\n"
     ]
    }
   ],
   "source": [
    "cd ~/data"
   ]
  },
  {
   "cell_type": "code",
   "execution_count": 2,
   "id": "26c72bbb-f5aa-48c9-b7b1-8a15b86ee772",
   "metadata": {
    "execution": {
     "iopub.execute_input": "2023-04-19T10:00:33.144325Z",
     "iopub.status.busy": "2023-04-19T10:00:33.143469Z",
     "iopub.status.idle": "2023-04-19T10:00:33.292834Z",
     "shell.execute_reply": "2023-04-19T10:00:33.292493Z",
     "shell.execute_reply.started": "2023-04-19T10:00:33.144262Z"
    },
    "tags": []
   },
   "outputs": [],
   "source": [
    "import numpy as np\n",
    "from astropy.io import fits"
   ]
  },
  {
   "cell_type": "code",
   "execution_count": 3,
   "id": "993cde82-c7a2-4d94-959c-64392716aa5e",
   "metadata": {
    "execution": {
     "iopub.execute_input": "2023-04-19T10:00:33.422796Z",
     "iopub.status.busy": "2023-04-19T10:00:33.422578Z",
     "iopub.status.idle": "2023-04-19T10:00:35.108327Z",
     "shell.execute_reply": "2023-04-19T10:00:35.107968Z",
     "shell.execute_reply.started": "2023-04-19T10:00:33.422778Z"
    },
    "tags": []
   },
   "outputs": [],
   "source": [
    "arr = np.random.randn(10_000, 10_000).astype(np.float32)"
   ]
  },
  {
   "cell_type": "code",
   "execution_count": 4,
   "id": "1af6f27d-c2b2-4273-9ea2-e26e33a86d52",
   "metadata": {
    "execution": {
     "iopub.execute_input": "2023-04-19T10:01:19.707754Z",
     "iopub.status.busy": "2023-04-19T10:01:19.707610Z",
     "iopub.status.idle": "2023-04-19T10:01:19.943417Z",
     "shell.execute_reply": "2023-04-19T10:01:19.942719Z",
     "shell.execute_reply.started": "2023-04-19T10:01:19.707743Z"
    },
    "tags": []
   },
   "outputs": [],
   "source": [
    "fits.writeto('test.fits', arr)"
   ]
  },
  {
   "cell_type": "code",
   "execution_count": 5,
   "id": "292a4d86-fee8-41e5-850d-14a264faf755",
   "metadata": {
    "execution": {
     "iopub.execute_input": "2023-04-19T10:01:50.153472Z",
     "iopub.status.busy": "2023-04-19T10:01:50.153322Z",
     "iopub.status.idle": "2023-04-19T10:02:02.272292Z",
     "shell.execute_reply": "2023-04-19T10:02:02.270609Z",
     "shell.execute_reply.started": "2023-04-19T10:01:50.153461Z"
    },
    "tags": []
   },
   "outputs": [],
   "source": [
    "!fpack -O test_rice_default_tile.fits.fz test.fits          \n",
    "!fpack -t 1000,1000 -O test_rice_tile1000x1000.fits.fz test.fits\n",
    "!fpack -g -O test_gzip_default_tile.fits.fz test.fits"
   ]
  },
  {
   "cell_type": "code",
   "execution_count": 7,
   "id": "48d5a60d-ced1-48fd-b204-06666e0b40af",
   "metadata": {
    "execution": {
     "iopub.execute_input": "2023-04-19T10:02:13.757217Z",
     "iopub.status.busy": "2023-04-19T10:02:13.756786Z",
     "iopub.status.idle": "2023-04-19T10:02:13.881263Z",
     "shell.execute_reply": "2023-04-19T10:02:13.879803Z",
     "shell.execute_reply.started": "2023-04-19T10:02:13.757172Z"
    },
    "tags": []
   },
   "outputs": [
    {
     "name": "stdout",
     "output_type": "stream",
     "text": [
      "-rw-r--r-- 1 simon simon 382M Apr 19 12:01 test.fits\n",
      "-rw-r--r-- 1 simon simon  94M Apr 19 12:02 test_gzip_default_tile.fits.fz\n",
      "-rw-r--r-- 1 simon simon  58M Apr 19 12:01 test_rice_default_tile.fits.fz\n",
      "-rw-r--r-- 1 simon simon  58M Apr 19 12:01 test_rice_tile1000x1000.fits.fz\n"
     ]
    }
   ],
   "source": [
    "ls -lh test*"
   ]
  },
  {
   "cell_type": "markdown",
   "id": "c82bc117-b1f4-4524-88f8-6961f501200b",
   "metadata": {},
   "source": [
    "## Astropy dev (Python 3.11)"
   ]
  },
  {
   "cell_type": "code",
   "execution_count": 1,
   "id": "804aa8ce-fac7-4003-946f-461e67667859",
   "metadata": {
    "execution": {
     "iopub.execute_input": "2023-04-19T10:03:51.439749Z",
     "iopub.status.busy": "2023-04-19T10:03:51.439561Z",
     "iopub.status.idle": "2023-04-19T10:03:51.463667Z",
     "shell.execute_reply": "2023-04-19T10:03:51.463003Z",
     "shell.execute_reply.started": "2023-04-19T10:03:51.439728Z"
    },
    "tags": []
   },
   "outputs": [
    {
     "name": "stdout",
     "output_type": "stream",
     "text": [
      "/home/simon/data\n"
     ]
    }
   ],
   "source": [
    "cd ~/data"
   ]
  },
  {
   "cell_type": "code",
   "execution_count": 2,
   "id": "4f79b985-2c99-4973-b55c-4ea46cb81d4f",
   "metadata": {
    "execution": {
     "iopub.execute_input": "2023-04-19T10:03:51.464952Z",
     "iopub.status.busy": "2023-04-19T10:03:51.464688Z",
     "iopub.status.idle": "2023-04-19T10:04:09.549410Z",
     "shell.execute_reply": "2023-04-19T10:04:09.548633Z",
     "shell.execute_reply.started": "2023-04-19T10:03:51.464938Z"
    },
    "tags": []
   },
   "outputs": [
    {
     "name": "stdout",
     "output_type": "stream",
     "text": [
      "5.3.dev920+gc74829921\n",
      "\n",
      "- test_rice_default_tile.fits.fz\n",
      "0 899.956736\n",
      "1 1300.127744\n",
      "2 1700.20864\n",
      "3 2100.477952\n",
      "4 2500.636672\n",
      "\n",
      "- test_gzip_default_tile.fits.fz\n",
      "0 2901.000192\n",
      "1 3301.158912\n",
      "2 3701.321728\n",
      "3 4101.57056\n",
      "4 4501.64736\n",
      "\n",
      "- test_rice_tile1000x1000.fits.fz\n",
      "0 4537.069568\n",
      "1 4564.836352\n",
      "2 4594.52416\n",
      "3 4618.194944\n",
      "4 4643.868672\n"
     ]
    }
   ],
   "source": [
    "import glob\n",
    "import psutil\n",
    "import astropy\n",
    "from astropy.io import fits\n",
    "\n",
    "p = psutil.Process()\n",
    "print(astropy.__version__)\n",
    "\n",
    "for fname in glob.glob('test_*.fz'):\n",
    "    print(f'\\n- {fname}')\n",
    "    for i in range(5):\n",
    "        with fits.open(fname) as hdul:\n",
    "            data = hdul[1].data[:1000, :1000]\n",
    "            _ = data.mean()\n",
    "            del data    \n",
    "        print(i, p.memory_info().rss / 1e6)"
   ]
  },
  {
   "cell_type": "markdown",
   "id": "ce780527-641d-4540-80fd-40e93c8c2776",
   "metadata": {},
   "source": [
    "## Astropy dev (Python 3.11, no memmap)"
   ]
  },
  {
   "cell_type": "code",
   "execution_count": 1,
   "id": "80208b6c-ad36-4c87-b3c3-7c0343a7fe90",
   "metadata": {
    "execution": {
     "iopub.execute_input": "2023-04-19T10:08:40.534659Z",
     "iopub.status.busy": "2023-04-19T10:08:40.534515Z",
     "iopub.status.idle": "2023-04-19T10:08:40.540266Z",
     "shell.execute_reply": "2023-04-19T10:08:40.539664Z",
     "shell.execute_reply.started": "2023-04-19T10:08:40.534647Z"
    },
    "tags": []
   },
   "outputs": [
    {
     "name": "stdout",
     "output_type": "stream",
     "text": [
      "/home/simon/data\n"
     ]
    }
   ],
   "source": [
    "cd ~/data"
   ]
  },
  {
   "cell_type": "code",
   "execution_count": 2,
   "id": "1310568d-5453-4950-9fd6-fc255971f038",
   "metadata": {
    "execution": {
     "iopub.execute_input": "2023-04-19T10:08:50.741319Z",
     "iopub.status.busy": "2023-04-19T10:08:50.740835Z",
     "iopub.status.idle": "2023-04-19T10:09:08.815282Z",
     "shell.execute_reply": "2023-04-19T10:09:08.814792Z",
     "shell.execute_reply.started": "2023-04-19T10:08:50.741279Z"
    },
    "tags": []
   },
   "outputs": [
    {
     "name": "stdout",
     "output_type": "stream",
     "text": [
      "5.3.dev920+gc74829921\n",
      "\n",
      "- test_rice_default_tile.fits.fz\n",
      "0 898.617344\n",
      "1 1298.796544\n",
      "2 1698.988032\n",
      "3 2099.150848\n",
      "4 2499.309568\n",
      "\n",
      "- test_gzip_default_tile.fits.fz\n",
      "0 2899.570688\n",
      "1 3299.692544\n",
      "2 3699.904512\n",
      "3 4100.079616\n",
      "4 4500.258816\n",
      "\n",
      "- test_rice_tile1000x1000.fits.fz\n",
      "0 4537.716736\n",
      "1 4563.406848\n",
      "2 4591.091712\n",
      "3 4618.821632\n",
      "4 4644.511744\n"
     ]
    }
   ],
   "source": [
    "import glob\n",
    "import psutil\n",
    "import astropy\n",
    "from astropy.io import fits\n",
    "\n",
    "p = psutil.Process()\n",
    "print(astropy.__version__)\n",
    "\n",
    "for fname in glob.glob('test_*.fz'):\n",
    "    print(f'\\n- {fname}')\n",
    "    for i in range(5):\n",
    "        with fits.open(fname, memmap=False) as hdul:\n",
    "            data = hdul[1].data[:1000, :1000]\n",
    "            _ = data.mean()\n",
    "            del data    \n",
    "        print(i, p.memory_info().rss / 1e6)"
   ]
  },
  {
   "cell_type": "markdown",
   "id": "94eda658-03eb-4b87-b912-3f15b8ba95e3",
   "metadata": {},
   "source": [
    "## Astropy 5.2 (different env, Python 3.11)"
   ]
  },
  {
   "cell_type": "code",
   "execution_count": 1,
   "id": "6e62da4f-fb35-4116-920c-0d1f07c1732c",
   "metadata": {
    "execution": {
     "iopub.execute_input": "2023-04-19T10:04:42.858088Z",
     "iopub.status.busy": "2023-04-19T10:04:42.857464Z",
     "iopub.status.idle": "2023-04-19T10:04:42.866402Z",
     "shell.execute_reply": "2023-04-19T10:04:42.865194Z",
     "shell.execute_reply.started": "2023-04-19T10:04:42.858023Z"
    },
    "tags": []
   },
   "outputs": [
    {
     "name": "stdout",
     "output_type": "stream",
     "text": [
      "/home/simon/data\n"
     ]
    }
   ],
   "source": [
    "cd ~/data"
   ]
  },
  {
   "cell_type": "code",
   "execution_count": 2,
   "id": "85adfed0-7aee-469f-a0f1-906b143b1cde",
   "metadata": {
    "execution": {
     "iopub.execute_input": "2023-04-19T10:04:44.308905Z",
     "iopub.status.busy": "2023-04-19T10:04:44.308743Z",
     "iopub.status.idle": "2023-04-19T10:04:56.883565Z",
     "shell.execute_reply": "2023-04-19T10:04:56.883194Z",
     "shell.execute_reply.started": "2023-04-19T10:04:44.308893Z"
    },
    "tags": []
   },
   "outputs": [
    {
     "name": "stdout",
     "output_type": "stream",
     "text": [
      "5.2.2\n",
      "\n",
      "- test_rice_default_tile.fits.fz\n",
      "0 508.809216\n",
      "1 508.813312\n",
      "2 508.813312\n",
      "3 508.813312\n",
      "4 508.813312\n",
      "\n",
      "- test_gzip_default_tile.fits.fz\n",
      "0 508.96896\n",
      "1 508.96896\n",
      "2 508.96896\n",
      "3 508.973056\n",
      "4 508.973056\n",
      "\n",
      "- test_rice_tile1000x1000.fits.fz\n",
      "0 509.087744\n",
      "1 509.087744\n",
      "2 509.09184\n",
      "3 509.09184\n",
      "4 509.09184\n"
     ]
    }
   ],
   "source": [
    "import glob\n",
    "import psutil\n",
    "import astropy\n",
    "from astropy.io import fits\n",
    "\n",
    "p = psutil.Process()\n",
    "print(astropy.__version__)\n",
    "\n",
    "for fname in glob.glob('test_*.fz'):\n",
    "    print(f'\\n- {fname}')\n",
    "    for i in range(5):\n",
    "        with fits.open(fname) as hdul:\n",
    "            data = hdul[1].data[:1000, :1000]\n",
    "            _ = data.mean()\n",
    "            del data    \n",
    "        print(i, p.memory_info().rss / 1e6)"
   ]
  },
  {
   "cell_type": "code",
   "execution_count": null,
   "id": "2492112e-6398-46ac-a167-ac5f230065d8",
   "metadata": {},
   "outputs": [],
   "source": []
  }
 ],
 "metadata": {
  "kernelspec": {
   "display_name": "Python 3 (ipykernel)",
   "language": "python",
   "name": "python3"
  },
  "language_info": {
   "codemirror_mode": {
    "name": "ipython",
    "version": 3
   },
   "file_extension": ".py",
   "mimetype": "text/x-python",
   "name": "python",
   "nbconvert_exporter": "python",
   "pygments_lexer": "ipython3",
   "version": "3.11.0"
  }
 },
 "nbformat": 4,
 "nbformat_minor": 5
}
