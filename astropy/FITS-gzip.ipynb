{
 "cells": [
  {
   "cell_type": "code",
   "execution_count": 1,
   "id": "354710b8-5ef5-484a-95aa-f56cbbbaf80b",
   "metadata": {
    "execution": {
     "iopub.execute_input": "2023-05-18T13:35:49.223239Z",
     "iopub.status.busy": "2023-05-18T13:35:49.223138Z",
     "iopub.status.idle": "2023-05-18T13:35:49.372451Z",
     "shell.execute_reply": "2023-05-18T13:35:49.372117Z",
     "shell.execute_reply.started": "2023-05-18T13:35:49.223227Z"
    },
    "tags": []
   },
   "outputs": [],
   "source": [
    "import gzip\n",
    "import io\n",
    "import numpy as np\n",
    "from astropy.io import fits"
   ]
  },
  {
   "cell_type": "code",
   "execution_count": 2,
   "id": "8f311d47-090f-499b-add6-a8e3e002640d",
   "metadata": {
    "execution": {
     "iopub.execute_input": "2023-05-18T13:35:49.373445Z",
     "iopub.status.busy": "2023-05-18T13:35:49.373245Z",
     "iopub.status.idle": "2023-05-18T13:35:49.375871Z",
     "shell.execute_reply": "2023-05-18T13:35:49.375534Z",
     "shell.execute_reply.started": "2023-05-18T13:35:49.373430Z"
    },
    "tags": []
   },
   "outputs": [],
   "source": [
    "testfile = \"test.fits\"\n",
    "testfile_gz = \"test.fits.gz\""
   ]
  },
  {
   "cell_type": "code",
   "execution_count": 3,
   "id": "0fa4d932-bd79-493f-ac81-9257dac4a1b9",
   "metadata": {
    "execution": {
     "iopub.execute_input": "2023-05-18T13:35:49.376485Z",
     "iopub.status.busy": "2023-05-18T13:35:49.376295Z",
     "iopub.status.idle": "2023-05-18T13:35:53.133547Z",
     "shell.execute_reply": "2023-05-18T13:35:53.132631Z",
     "shell.execute_reply.started": "2023-05-18T13:35:49.376473Z"
    },
    "tags": []
   },
   "outputs": [],
   "source": [
    "hdul = fits.HDUList(\n",
    "    [fits.PrimaryHDU()]\n",
    "    + [\n",
    "        fits.ImageHDU(\n",
    "            data=np.random.randn(1000, 1000).astype(np.float32),\n",
    "            header=fits.Header({f\"KEY{i}{k}\": k for k in range(1000)}),\n",
    "            name=f\"IMAGE{i}\",\n",
    "        )\n",
    "        for i in range(20)\n",
    "    ]\n",
    ")\n",
    "hdul.writeto(testfile, overwrite=True)\n",
    "hdul.writeto(testfile_gz, overwrite=True)"
   ]
  },
  {
   "cell_type": "code",
   "execution_count": 4,
   "id": "07eb6aec-19ce-4c0f-a8cd-27d388d86061",
   "metadata": {
    "execution": {
     "iopub.execute_input": "2023-05-18T13:35:53.134397Z",
     "iopub.status.busy": "2023-05-18T13:35:53.134237Z",
     "iopub.status.idle": "2023-05-18T13:35:53.254778Z",
     "shell.execute_reply": "2023-05-18T13:35:53.253660Z",
     "shell.execute_reply.started": "2023-05-18T13:35:53.134384Z"
    },
    "tags": []
   },
   "outputs": [
    {
     "name": "stdout",
     "output_type": "stream",
     "text": [
      "-rw-r--r-- 1 simon simon 78M May 18 15:35 test.fits\n",
      "-rw-r--r-- 1 simon simon 71M May 18 15:35 \u001b[0m\u001b[01;31mtest.fits.gz\u001b[0m\n"
     ]
    }
   ],
   "source": [
    "ls -lh test.fits*"
   ]
  },
  {
   "cell_type": "code",
   "execution_count": 5,
   "id": "261366c1-9657-4b59-bc41-4cbffc636b04",
   "metadata": {
    "execution": {
     "iopub.execute_input": "2023-05-18T13:35:53.256649Z",
     "iopub.status.busy": "2023-05-18T13:35:53.255829Z",
     "iopub.status.idle": "2023-05-18T13:35:53.261533Z",
     "shell.execute_reply": "2023-05-18T13:35:53.261211Z",
     "shell.execute_reply.started": "2023-05-18T13:35:53.256567Z"
    },
    "tags": []
   },
   "outputs": [],
   "source": [
    "def read(filename, decompress=False):\n",
    "    if decompress:\n",
    "        with gzip.open(filename, 'rb') as f:\n",
    "            fd = io.BytesIO(f.read())\n",
    "    else:\n",
    "        fd = filename\n",
    "        \n",
    "    with fits.open(fd) as hdul:\n",
    "        for hdu in hdul:\n",
    "            # force reading data\n",
    "            data = hdu.data"
   ]
  },
  {
   "cell_type": "code",
   "execution_count": 6,
   "id": "669e6d01-7765-481a-b45e-8c8c611bca08",
   "metadata": {
    "execution": {
     "iopub.execute_input": "2023-05-18T13:35:53.262235Z",
     "iopub.status.busy": "2023-05-18T13:35:53.262006Z",
     "iopub.status.idle": "2023-05-18T13:36:04.566709Z",
     "shell.execute_reply": "2023-05-18T13:36:04.566295Z",
     "shell.execute_reply.started": "2023-05-18T13:35:53.262222Z"
    },
    "tags": []
   },
   "outputs": [
    {
     "name": "stdout",
     "output_type": "stream",
     "text": [
      "12.5 ms ± 290 µs per loop (mean ± std. dev. of 7 runs, 100 loops each)\n"
     ]
    }
   ],
   "source": [
    "%timeit read(testfile)"
   ]
  },
  {
   "cell_type": "code",
   "execution_count": 7,
   "id": "58d1f50b-6f6f-476f-9c58-7eaa9a891bc5",
   "metadata": {
    "execution": {
     "iopub.execute_input": "2023-05-18T13:36:04.567910Z",
     "iopub.status.busy": "2023-05-18T13:36:04.567774Z",
     "iopub.status.idle": "2023-05-18T13:36:36.438850Z",
     "shell.execute_reply": "2023-05-18T13:36:36.438409Z",
     "shell.execute_reply.started": "2023-05-18T13:36:04.567897Z"
    },
    "tags": []
   },
   "outputs": [
    {
     "name": "stdout",
     "output_type": "stream",
     "text": [
      "4 s ± 87.8 ms per loop (mean ± std. dev. of 7 runs, 1 loop each)\n"
     ]
    }
   ],
   "source": [
    "%timeit read(testfile_gz)"
   ]
  },
  {
   "cell_type": "code",
   "execution_count": 8,
   "id": "e01594dd-44d0-4978-b386-f3e7ef2f375b",
   "metadata": {
    "execution": {
     "iopub.execute_input": "2023-05-18T13:36:36.439480Z",
     "iopub.status.busy": "2023-05-18T13:36:36.439351Z",
     "iopub.status.idle": "2023-05-18T13:36:39.269882Z",
     "shell.execute_reply": "2023-05-18T13:36:39.269436Z",
     "shell.execute_reply.started": "2023-05-18T13:36:36.439467Z"
    },
    "tags": []
   },
   "outputs": [
    {
     "name": "stdout",
     "output_type": "stream",
     "text": [
      "352 ms ± 6 ms per loop (mean ± std. dev. of 7 runs, 1 loop each)\n"
     ]
    }
   ],
   "source": [
    "%timeit gzip.open(testfile_gz).read()"
   ]
  },
  {
   "cell_type": "code",
   "execution_count": 9,
   "id": "aba79788-b269-4b84-b42c-5848b4a6961c",
   "metadata": {
    "execution": {
     "iopub.execute_input": "2023-05-18T13:36:39.270511Z",
     "iopub.status.busy": "2023-05-18T13:36:39.270378Z",
     "iopub.status.idle": "2023-05-18T13:36:42.281518Z",
     "shell.execute_reply": "2023-05-18T13:36:42.281076Z",
     "shell.execute_reply.started": "2023-05-18T13:36:39.270500Z"
    },
    "tags": []
   },
   "outputs": [
    {
     "name": "stdout",
     "output_type": "stream",
     "text": [
      "374 ms ± 6.57 ms per loop (mean ± std. dev. of 7 runs, 1 loop each)\n"
     ]
    }
   ],
   "source": [
    "%timeit read(testfile_gz, decompress=True)"
   ]
  },
  {
   "cell_type": "code",
   "execution_count": null,
   "id": "0382f107-92f1-4451-8c8f-93b4982154fd",
   "metadata": {},
   "outputs": [],
   "source": []
  }
 ],
 "metadata": {
  "kernelspec": {
   "display_name": "Python 3 (ipykernel)",
   "language": "python",
   "name": "python3"
  },
  "language_info": {
   "codemirror_mode": {
    "name": "ipython",
    "version": 3
   },
   "file_extension": ".py",
   "mimetype": "text/x-python",
   "name": "python",
   "nbconvert_exporter": "python",
   "pygments_lexer": "ipython3",
   "version": "3.11.0"
  }
 },
 "nbformat": 4,
 "nbformat_minor": 5
}
