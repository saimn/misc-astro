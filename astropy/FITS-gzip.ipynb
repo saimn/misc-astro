{
 "cells": [
  {
   "cell_type": "code",
   "execution_count": 1,
   "id": "354710b8-5ef5-484a-95aa-f56cbbbaf80b",
   "metadata": {
    "execution": {
     "iopub.execute_input": "2023-05-18T13:21:41.947702Z",
     "iopub.status.busy": "2023-05-18T13:21:41.947604Z",
     "iopub.status.idle": "2023-05-18T13:21:42.098441Z",
     "shell.execute_reply": "2023-05-18T13:21:42.098105Z",
     "shell.execute_reply.started": "2023-05-18T13:21:41.947690Z"
    },
    "tags": []
   },
   "outputs": [],
   "source": [
    "import gzip\n",
    "import io\n",
    "import numpy as np\n",
    "from astropy.io import fits"
   ]
  },
  {
   "cell_type": "code",
   "execution_count": 2,
   "id": "0fa4d932-bd79-493f-ac81-9257dac4a1b9",
   "metadata": {
    "execution": {
     "iopub.execute_input": "2023-05-18T13:21:42.100318Z",
     "iopub.status.busy": "2023-05-18T13:21:42.100153Z",
     "iopub.status.idle": "2023-05-18T13:21:48.445960Z",
     "shell.execute_reply": "2023-05-18T13:21:48.445618Z",
     "shell.execute_reply.started": "2023-05-18T13:21:42.100303Z"
    },
    "tags": []
   },
   "outputs": [],
   "source": [
    "hdul = fits.HDUList(\n",
    "    [fits.PrimaryHDU()]\n",
    "    + [\n",
    "        fits.ImageHDU(\n",
    "            data=np.random.randn(1000, 1000),\n",
    "            header=fits.Header({f\"KEY{i}{k}\": k for k in range(1000)}),\n",
    "            name=f\"IMAGE{i}\",\n",
    "        )\n",
    "        for i in range(20)\n",
    "    ]\n",
    ")\n",
    "hdul.writeto(\"~/test.fits\", overwrite=True)\n",
    "hdul.writeto(\"~/test.fits.gz\", overwrite=True)"
   ]
  },
  {
   "cell_type": "code",
   "execution_count": 3,
   "id": "07eb6aec-19ce-4c0f-a8cd-27d388d86061",
   "metadata": {
    "execution": {
     "iopub.execute_input": "2023-05-18T13:21:48.446826Z",
     "iopub.status.busy": "2023-05-18T13:21:48.446661Z",
     "iopub.status.idle": "2023-05-18T13:21:48.578881Z",
     "shell.execute_reply": "2023-05-18T13:21:48.578337Z",
     "shell.execute_reply.started": "2023-05-18T13:21:48.446813Z"
    },
    "tags": []
   },
   "outputs": [
    {
     "name": "stdout",
     "output_type": "stream",
     "text": [
      "-rw-r--r-- 1 simon simon 155M May 18 15:21 /home/simon/test.fits\n",
      "-rw-r--r-- 1 simon simon 147M May 18 15:21 \u001b[0m\u001b[01;31m/home/simon/test.fits.gz\u001b[0m\n"
     ]
    }
   ],
   "source": [
    "ls -lh /home/simon/test.fits*"
   ]
  },
  {
   "cell_type": "code",
   "execution_count": 4,
   "id": "669e6d01-7765-481a-b45e-8c8c611bca08",
   "metadata": {
    "execution": {
     "iopub.execute_input": "2023-05-18T13:21:49.966078Z",
     "iopub.status.busy": "2023-05-18T13:21:49.965908Z",
     "iopub.status.idle": "2023-05-18T13:22:01.534886Z",
     "shell.execute_reply": "2023-05-18T13:22:01.534451Z",
     "shell.execute_reply.started": "2023-05-18T13:21:49.966060Z"
    },
    "tags": []
   },
   "outputs": [
    {
     "name": "stdout",
     "output_type": "stream",
     "text": [
      "12.8 ms ± 125 µs per loop (mean ± std. dev. of 7 runs, 100 loops each)\n"
     ]
    }
   ],
   "source": [
    "%timeit fits.getdata('test.fits', ext=-1)"
   ]
  },
  {
   "cell_type": "code",
   "execution_count": 5,
   "id": "7fbcb8cc-f8a7-43b9-892f-868732e2d0bf",
   "metadata": {
    "execution": {
     "iopub.execute_input": "2023-05-18T13:22:01.535803Z",
     "iopub.status.busy": "2023-05-18T13:22:01.535686Z",
     "iopub.status.idle": "2023-05-18T13:22:12.478570Z",
     "shell.execute_reply": "2023-05-18T13:22:12.477704Z",
     "shell.execute_reply.started": "2023-05-18T13:22:01.535792Z"
    },
    "tags": []
   },
   "outputs": [
    {
     "name": "stdout",
     "output_type": "stream",
     "text": [
      "1.36 s ± 14 ms per loop (mean ± std. dev. of 7 runs, 1 loop each)\n"
     ]
    }
   ],
   "source": [
    "%timeit fits.getdata('test.fits.gz', ext=-1)"
   ]
  },
  {
   "cell_type": "code",
   "execution_count": 6,
   "id": "e01594dd-44d0-4978-b386-f3e7ef2f375b",
   "metadata": {
    "execution": {
     "iopub.execute_input": "2023-05-18T13:22:12.479479Z",
     "iopub.status.busy": "2023-05-18T13:22:12.479343Z",
     "iopub.status.idle": "2023-05-18T13:22:18.098905Z",
     "shell.execute_reply": "2023-05-18T13:22:18.098300Z",
     "shell.execute_reply.started": "2023-05-18T13:22:12.479466Z"
    },
    "tags": []
   },
   "outputs": [
    {
     "name": "stdout",
     "output_type": "stream",
     "text": [
      "702 ms ± 4.52 ms per loop (mean ± std. dev. of 7 runs, 1 loop each)\n"
     ]
    }
   ],
   "source": [
    "%timeit gzip.open('test.fits.gz').read()"
   ]
  },
  {
   "cell_type": "code",
   "execution_count": 7,
   "id": "e45104c3-1978-495d-a05b-2aa375b3ceca",
   "metadata": {
    "execution": {
     "iopub.execute_input": "2023-05-18T13:22:18.099713Z",
     "iopub.status.busy": "2023-05-18T13:22:18.099601Z",
     "iopub.status.idle": "2023-05-18T13:22:23.831846Z",
     "shell.execute_reply": "2023-05-18T13:22:23.831237Z",
     "shell.execute_reply.started": "2023-05-18T13:22:18.099702Z"
    },
    "tags": []
   },
   "outputs": [
    {
     "name": "stdout",
     "output_type": "stream",
     "text": [
      "714 ms ± 4.98 ms per loop (mean ± std. dev. of 7 runs, 1 loop each)\n"
     ]
    }
   ],
   "source": [
    "%timeit fits.getdata(io.BytesIO(gzip.open('test.fits.gz').read()), ext=-1)"
   ]
  },
  {
   "cell_type": "code",
   "execution_count": null,
   "id": "0382f107-92f1-4451-8c8f-93b4982154fd",
   "metadata": {},
   "outputs": [],
   "source": []
  }
 ],
 "metadata": {
  "kernelspec": {
   "display_name": "Python 3 (ipykernel)",
   "language": "python",
   "name": "python3"
  },
  "language_info": {
   "codemirror_mode": {
    "name": "ipython",
    "version": 3
   },
   "file_extension": ".py",
   "mimetype": "text/x-python",
   "name": "python",
   "nbconvert_exporter": "python",
   "pygments_lexer": "ipython3",
   "version": "3.11.0"
  }
 },
 "nbformat": 4,
 "nbformat_minor": 5
}
