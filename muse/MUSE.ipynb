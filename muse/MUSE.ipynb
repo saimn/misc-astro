{
 "cells": [
  {
   "cell_type": "markdown",
   "metadata": {},
   "source": [
    "# MUSE - Data reduction and analysis"
   ]
  },
  {
   "cell_type": "code",
   "execution_count": 1,
   "metadata": {
    "ExecuteTime": {
     "end_time": "2017-11-28T14:44:38.955762Z",
     "start_time": "2017-11-28T14:44:38.423764Z"
    }
   },
   "outputs": [],
   "source": [
    "import astropy.units as u"
   ]
  },
  {
   "cell_type": "markdown",
   "metadata": {},
   "source": [
    "### Instrument\n",
    "\n",
    "- Spectral range: 0.465 - 0.93 $\\mu m$\n",
    "- 24 integral field units (IFU), with 4k CCDs\n",
    "- 1 slicer, spectograph and detector ($4k \\times 4k$) for each\n",
    "- 24 sub-fields, $60\" \\times 2.5\"$, decomposed into 48 slices, $15\" \\times 0.2\"$ -> 1152 regions\n",
    "- **DRS** (Data Reduction System) => cube 300 x 300 x 3750 pixels"
   ]
  },
  {
   "cell_type": "code",
   "execution_count": 2,
   "metadata": {
    "ExecuteTime": {
     "end_time": "2017-11-28T14:44:43.767914Z",
     "start_time": "2017-11-28T14:44:43.761928Z"
    }
   },
   "outputs": [
    {
     "name": "stdout",
     "output_type": "stream",
     "text": [
      "Nb of spatial pixels: 90000\n",
      "Nb of spectral pixels: 4000\n",
      "Total nb of pixels: 360000000\n"
     ]
    }
   ],
   "source": [
    "width_pix = 300\n",
    "nspatial_pixels = width_pix ** 2\n",
    "print(\"Nb of spatial pixels: %s\" % nspatial_pixels)\n",
    "nspectral_pixels = 4000\n",
    "print(\"Nb of spectral pixels: %s\" % nspectral_pixels)\n",
    "print(\"Total nb of pixels: %s\" % (nspatial_pixels * nspectral_pixels))\n"
   ]
  },
  {
   "cell_type": "markdown",
   "metadata": {},
   "source": [
    "### Wife Field Mode"
   ]
  },
  {
   "cell_type": "code",
   "execution_count": 3,
   "metadata": {
    "ExecuteTime": {
     "end_time": "2017-11-28T14:44:46.066267Z",
     "start_time": "2017-11-28T14:44:46.060919Z"
    }
   },
   "outputs": [
    {
     "name": "stdout",
     "output_type": "stream",
     "text": [
      "Field width: 1.0 arcmin, 0.2 arcsec / pix, 300.0 pix\n"
     ]
    }
   ],
   "source": [
    "width_world = 1 * u.arcmin\n",
    "resolution = 0.2 * u.arcsec / u.pixel\n",
    "width_pix = width_world.to(u.arcsec) / resolution\n",
    "\n",
    "print(\"Field width: %s, %s, %s\" % (width_world, resolution, width_pix))"
   ]
  },
  {
   "cell_type": "markdown",
   "metadata": {},
   "source": [
    "### Narrow Field Mode"
   ]
  },
  {
   "cell_type": "code",
   "execution_count": 4,
   "metadata": {
    "ExecuteTime": {
     "end_time": "2017-11-28T14:44:47.558403Z",
     "start_time": "2017-11-28T14:44:47.548621Z"
    }
   },
   "outputs": [
    {
     "name": "stdout",
     "output_type": "stream",
     "text": [
      "Field width: 7.5 arcsec, 0.025 arcsec / pix, 300.0 pix\n"
     ]
    }
   ],
   "source": [
    "width_world = 7.5 * u.arcsec\n",
    "resolution = 0.025 * u.arcsec / u.pixel\n",
    "width_pix = width_world.to(u.arcsec) / resolution\n",
    "\n",
    "print(\"Field width: %s, %s, %s\" % (width_world, resolution, width_pix))"
   ]
  },
  {
   "cell_type": "code",
   "execution_count": null,
   "metadata": {},
   "outputs": [],
   "source": []
  }
 ],
 "metadata": {
  "kernelspec": {
   "display_name": "Python 3",
   "language": "python",
   "name": "python3"
  },
  "language_info": {
   "codemirror_mode": {
    "name": "ipython",
    "version": 3
   },
   "file_extension": ".py",
   "mimetype": "text/x-python",
   "name": "python",
   "nbconvert_exporter": "python",
   "pygments_lexer": "ipython3",
   "version": "3.6.3"
  }
 },
 "nbformat": 4,
 "nbformat_minor": 1
}
