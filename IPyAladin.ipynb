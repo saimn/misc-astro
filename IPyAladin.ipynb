{
 "cells": [
  {
   "cell_type": "markdown",
   "metadata": {},
   "source": [
    "https://github.com/cds-astro/ipyaladin\n",
    "\n",
    "```\n",
    "$ pip install ipyaladin\n",
    "$ jupyter nbextension enable --py widgetsnbextension\n",
    "```"
   ]
  },
  {
   "cell_type": "raw",
   "metadata": {},
   "source": [
    "<script>\n",
    "  function code_toggle() {\n",
    "    if (code_shown){\n",
    "      $('div.input').hide('500');\n",
    "      $('#toggleButton').val('Show Code')\n",
    "    } else {\n",
    "      $('div.input').show('500');\n",
    "      $('#toggleButton').val('Hide Code')\n",
    "    }\n",
    "    code_shown = !code_shown\n",
    "  }\n",
    "\n",
    "  $( document ).ready(function(){\n",
    "    code_shown=false;\n",
    "    $('div.input').hide()\n",
    "  });\n",
    "</script>\n",
    "<form action=\"javascript:code_toggle()\"><input type=\"submit\" id=\"toggleButton\" value=\"Show Code\"></form>\n",
    "\n",
    "<style>\n",
    "#notebook-container {width: 98%}\n",
    "</style>"
   ]
  },
  {
   "cell_type": "code",
   "execution_count": 7,
   "metadata": {
    "ExecuteTime": {
     "end_time": "2017-11-28T14:36:18.333761Z",
     "start_time": "2017-11-28T14:36:18.313132Z"
    },
    "run_control": {
     "frozen": false,
     "read_only": false
    }
   },
   "outputs": [
    {
     "name": "stdout",
     "output_type": "stream",
     "text": [
      "Numpy 1.13.3\n",
      "Astropy 3.0.dev20748\n",
      "MPDAF 2.5.dev2499\n"
     ]
    }
   ],
   "source": [
    "%matplotlib inline\n",
    "%mpdaf"
   ]
  },
  {
   "cell_type": "code",
   "execution_count": 8,
   "metadata": {
    "ExecuteTime": {
     "end_time": "2017-11-28T14:36:18.550685Z",
     "start_time": "2017-11-28T14:36:18.541972Z"
    },
    "run_control": {
     "frozen": false,
     "read_only": false
    }
   },
   "outputs": [],
   "source": [
    "import json\n",
    "import matplotlib.pyplot as plt\n",
    "import os\n",
    "\n",
    "from astropy.io import ascii\n",
    "from astropy.table import join, Column\n",
    "from collections import defaultdict\n",
    "from glob import glob\n",
    "from IPython.display import Image as IPYImage\n",
    "from muse_analysis.plotutils import show_image, show_images_grid"
   ]
  },
  {
   "cell_type": "code",
   "execution_count": 9,
   "metadata": {
    "ExecuteTime": {
     "end_time": "2017-11-28T14:36:18.741627Z",
     "start_time": "2017-11-28T14:36:18.737079Z"
    }
   },
   "outputs": [],
   "source": [
    "FIELD = 'M68_off3'"
   ]
  },
  {
   "cell_type": "code",
   "execution_count": 10,
   "metadata": {
    "ExecuteTime": {
     "end_time": "2017-11-28T14:36:18.948246Z",
     "start_time": "2017-11-28T14:36:18.944784Z"
    }
   },
   "outputs": [],
   "source": [
    "from ipyaladin.aladin_widget import Aladin"
   ]
  },
  {
   "cell_type": "code",
   "execution_count": 11,
   "metadata": {
    "ExecuteTime": {
     "end_time": "2017-11-28T14:36:19.193229Z",
     "start_time": "2017-11-28T14:36:19.177799Z"
    }
   },
   "outputs": [
    {
     "data": {
      "application/vnd.jupyter.widget-view+json": {
       "model_id": "bc551313284a40799157322d51973449",
       "version_major": 2,
       "version_minor": 0
      },
      "text/html": [
       "<p>Failed to display Jupyter Widget of type <code>Aladin</code>.</p>\n",
       "<p>\n",
       "  If you're reading this message in the Jupyter Notebook or JupyterLab Notebook, it may mean\n",
       "  that the widgets JavaScript is still loading. If this message persists, it\n",
       "  likely means that the widgets JavaScript library is either not installed or\n",
       "  not enabled. See the <a href=\"https://ipywidgets.readthedocs.io/en/stable/user_install.html\">Jupyter\n",
       "  Widgets Documentation</a> for setup instructions.\n",
       "</p>\n",
       "<p>\n",
       "  If you're reading this message in another frontend (for example, a static\n",
       "  rendering on GitHub or <a href=\"https://nbviewer.jupyter.org/\">NBViewer</a>),\n",
       "  it may mean that your frontend doesn't currently support widgets.\n",
       "</p>\n"
      ],
      "text/plain": [
       "Aladin(fov=0.1, log=False, options=['allow_full_zoomout', 'coo_frame', 'fov', 'full_screen', 'log', 'reticle_color', 'reticle_size', 'show_catalog', 'show_coo_grid', 'show_frame', 'show_fullscreen_control', 'show_goto_control', 'show_layers_control', 'show_reticle', 'show_share_control', 'show_zoom_control', 'survey', 'target'], target='M68')"
      ]
     },
     "metadata": {},
     "output_type": "display_data"
    }
   ],
   "source": [
    "al = Aladin(target='M68', fov=0.1, log=False)\n",
    "al"
   ]
  },
  {
   "cell_type": "code",
   "execution_count": 12,
   "metadata": {
    "ExecuteTime": {
     "end_time": "2017-11-28T14:36:19.686701Z",
     "start_time": "2017-11-28T14:36:19.433688Z"
    }
   },
   "outputs": [],
   "source": [
    "from astroquery.simbad import Simbad\n",
    "\n",
    "table = Simbad.query_region('M68', radius='5 arcmin')\n",
    "al.add_table(table)"
   ]
  },
  {
   "cell_type": "code",
   "execution_count": null,
   "metadata": {
    "collapsed": true,
    "run_control": {
     "frozen": false,
     "read_only": false
    }
   },
   "outputs": [],
   "source": []
  }
 ],
 "metadata": {
  "kernelspec": {
   "display_name": "Python 3",
   "language": "python",
   "name": "python3"
  },
  "language_info": {
   "codemirror_mode": {
    "name": "ipython",
    "version": 3
   },
   "file_extension": ".py",
   "mimetype": "text/x-python",
   "name": "python",
   "nbconvert_exporter": "python",
   "pygments_lexer": "ipython3",
   "version": "3.6.3"
  }
 },
 "nbformat": 4,
 "nbformat_minor": 2
}
