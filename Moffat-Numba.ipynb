{
 "cells": [
  {
   "cell_type": "code",
   "execution_count": 1,
   "metadata": {
    "ExecuteTime": {
     "end_time": "2017-11-28T16:45:47.921059Z",
     "start_time": "2017-11-28T16:45:46.965161Z"
    },
    "run_control": {
     "frozen": false,
     "read_only": false
    }
   },
   "outputs": [],
   "source": [
    "%matplotlib inline\n",
    "\n",
    "import matplotlib.pyplot as plt\n",
    "import numba\n",
    "import numpy as np\n",
    "from math import sqrt"
   ]
  },
  {
   "cell_type": "code",
   "execution_count": 2,
   "metadata": {
    "ExecuteTime": {
     "end_time": "2017-11-28T16:45:47.961626Z",
     "start_time": "2017-11-28T16:45:47.923644Z"
    },
    "collapsed": true,
    "run_control": {
     "frozen": false,
     "read_only": false
    }
   },
   "outputs": [],
   "source": [
    "@numba.jit\n",
    "def Moffat(r,alpha,beta):\n",
    "    return (1+(r/alpha)**2)**(-beta)"
   ]
  },
  {
   "cell_type": "code",
   "execution_count": 3,
   "metadata": {
    "ExecuteTime": {
     "end_time": "2017-11-28T16:45:47.985625Z",
     "start_time": "2017-11-28T16:45:47.965080Z"
    },
    "collapsed": true,
    "run_control": {
     "frozen": false,
     "read_only": false
    }
   },
   "outputs": [],
   "source": [
    "@numba.jit\n",
    "def generateMoffatIm(center=(12,12), shape=(25,25), alpha=2, beta=2.5):\n",
    "    res=np.zeros(shape)\n",
    "    for i in range(shape[0]):\n",
    "        for j in range(shape[1]):\n",
    "            r=sqrt(((i-center[0]))**2 + ((j-center[1]))**2)\n",
    "            res[i,j]=Moffat(r,alpha,beta)\n",
    "    res=res/np.sum(res)\n",
    "    return res"
   ]
  },
  {
   "cell_type": "code",
   "execution_count": 4,
   "metadata": {
    "ExecuteTime": {
     "end_time": "2017-11-28T16:45:48.524277Z",
     "start_time": "2017-11-28T16:45:47.987901Z"
    },
    "run_control": {
     "frozen": false,
     "read_only": false
    }
   },
   "outputs": [
    {
     "name": "stdout",
     "output_type": "stream",
     "text": [
      "CPU times: user 476 ms, sys: 16 ms, total: 492 ms\n",
      "Wall time: 528 ms\n"
     ]
    }
   ],
   "source": [
    "%time im1 = generateMoffatIm()"
   ]
  },
  {
   "cell_type": "code",
   "execution_count": 12,
   "metadata": {
    "ExecuteTime": {
     "end_time": "2017-11-28T16:46:30.034039Z",
     "start_time": "2017-11-28T16:46:20.371878Z"
    },
    "run_control": {
     "frozen": false,
     "read_only": false
    }
   },
   "outputs": [
    {
     "name": "stdout",
     "output_type": "stream",
     "text": [
      "118 µs ± 2.41 µs per loop (mean ± std. dev. of 7 runs, 10000 loops each)\n"
     ]
    }
   ],
   "source": [
    "%timeit im1 = generateMoffatIm()"
   ]
  },
  {
   "cell_type": "code",
   "execution_count": 6,
   "metadata": {
    "ExecuteTime": {
     "end_time": "2017-11-28T16:45:48.537815Z",
     "start_time": "2017-11-28T16:45:48.533019Z"
    },
    "run_control": {
     "frozen": false,
     "read_only": false
    }
   },
   "outputs": [],
   "source": [
    "# im1 = generateMoffatIm()\n",
    "# plt.imshow(im1, interpolation='nearest', origin='lower')"
   ]
  },
  {
   "cell_type": "code",
   "execution_count": 7,
   "metadata": {
    "ExecuteTime": {
     "end_time": "2017-11-28T16:45:48.549133Z",
     "start_time": "2017-11-28T16:45:48.539627Z"
    },
    "collapsed": true,
    "run_control": {
     "frozen": false,
     "read_only": false
    }
   },
   "outputs": [],
   "source": [
    "def generate_moffat(center=(12,12), shape=(25,25), alpha=2, beta=2.5):\n",
    "    \"\"\"Generate an image with a Moffat profile.\"\"\"\n",
    "    x, y = np.indices(shape)\n",
    "    res = np.sqrt((x - center[0])**2 + (y - center[1])**2)\n",
    "    res = (1 + (res/alpha)**2)**(-beta)\n",
    "    res /= res.sum()\n",
    "    return res"
   ]
  },
  {
   "cell_type": "code",
   "execution_count": 8,
   "metadata": {
    "ExecuteTime": {
     "end_time": "2017-11-28T16:45:48.556925Z",
     "start_time": "2017-11-28T16:45:48.550890Z"
    },
    "run_control": {
     "frozen": false,
     "read_only": false
    }
   },
   "outputs": [
    {
     "name": "stdout",
     "output_type": "stream",
     "text": [
      "CPU times: user 0 ns, sys: 0 ns, total: 0 ns\n",
      "Wall time: 362 µs\n"
     ]
    }
   ],
   "source": [
    "%time im2 = generate_moffat()"
   ]
  },
  {
   "cell_type": "code",
   "execution_count": 9,
   "metadata": {
    "ExecuteTime": {
     "end_time": "2017-11-28T16:45:59.171640Z",
     "start_time": "2017-11-28T16:45:48.558625Z"
    },
    "run_control": {
     "frozen": false,
     "read_only": false
    }
   },
   "outputs": [
    {
     "name": "stdout",
     "output_type": "stream",
     "text": [
      "130 µs ± 53.6 ns per loop (mean ± std. dev. of 7 runs, 10000 loops each)\n"
     ]
    }
   ],
   "source": [
    "%timeit im2 = generate_moffat()"
   ]
  },
  {
   "cell_type": "code",
   "execution_count": 10,
   "metadata": {
    "ExecuteTime": {
     "end_time": "2017-11-28T16:45:59.180892Z",
     "start_time": "2017-11-28T16:45:59.175763Z"
    },
    "run_control": {
     "frozen": false,
     "read_only": false
    }
   },
   "outputs": [],
   "source": [
    "# im2 = generate_moffat()\n",
    "# plt.imshow(im2, interpolation='nearest', origin='lower')"
   ]
  },
  {
   "cell_type": "code",
   "execution_count": 11,
   "metadata": {
    "ExecuteTime": {
     "end_time": "2017-11-28T16:45:59.196468Z",
     "start_time": "2017-11-28T16:45:59.184889Z"
    },
    "run_control": {
     "frozen": false,
     "read_only": false
    }
   },
   "outputs": [
    {
     "data": {
      "text/plain": [
       "True"
      ]
     },
     "execution_count": 11,
     "metadata": {},
     "output_type": "execute_result"
    }
   ],
   "source": [
    "np.allclose(im1, im2)"
   ]
  }
 ],
 "metadata": {
  "kernelspec": {
   "display_name": "Python 3",
   "language": "python",
   "name": "python3"
  },
  "language_info": {
   "codemirror_mode": {
    "name": "ipython",
    "version": 3
   },
   "file_extension": ".py",
   "mimetype": "text/x-python",
   "name": "python",
   "nbconvert_exporter": "python",
   "pygments_lexer": "ipython3",
   "version": "3.6.3"
  }
 },
 "nbformat": 4,
 "nbformat_minor": 1
}
